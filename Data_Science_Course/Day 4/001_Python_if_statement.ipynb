{
 "cells": [
  {
   "cell_type": "markdown",
   "metadata": {},
   "source": [
    "# Python `if` statement\n",
    "\n",
    "In control statements, The **`if`** statement is the simplest form. It takes a condition and evaluates to either **`True`** or **`False`**.\n",
    "\n",
    "If the condition is **`True`**, then the **`True`** block of code will be executed, and if the condition is **`False`**, then the block of code is skipped, and The controller moves to the next line."
   ]
  },
  {
   "cell_type": "markdown",
   "metadata": {},
   "source": [
    "### Syntax:\n",
    "\n",
    "```python\n",
    "if(condition):\n",
    "    statement 1\n",
    "    statement 2\n",
    "    statement n\n",
    "```\n",
    "\n",
    "* An **`if`** statement should be preceded by the keyword **`if`** and ended with a colon **`:`**. The condition of an if statement can be written with or without round brackets **`()`**.\n",
    "\n",
    "* In Python, the body of the **`if`** statement is indicated by the indentation. The body starts with an indentation and the first unindented line marks the end.\n",
    "\n",
    "* Python interprets non-zero values as **`True`**. **`None`** and **`0`** are interpreted as **`False`**.\n",
    "\n",
    "<div>\n",
    "<img src=\"img/if2.png\" width=\"250\"/>\n",
    "</div>"
   ]
  },
  {
   "cell_type": "markdown",
   "metadata": {},
   "source": [
    "**Example: of `if` statement:**\n",
    "\n",
    "```python\n",
    ">>> grade = 70\n",
    ">>> if grade >= 65:\n",
    ">>>     print(\"Passing grade\")\n",
    "\n",
    "Passing grade\n",
    "```\n",
    "\n",
    "With this code, we have the variable grade and are giving it the integer value of 70. We are then using the **`if`** statement to evaluate whether or not the variable grade is **greater than or equal `>=`** to 65. If it does meet this **condition**, we are telling the program to print out the string Passing grade. \n",
    "\n",
    "Again, if we change the grade to 50 or < 65 number, we will receive no output."
   ]
  },
  {
   "cell_type": "code",
   "execution_count": 1,
   "metadata": {},
   "outputs": [
    {
     "name": "stdout",
     "output_type": "stream",
     "text": [
      "hi\n"
     ]
    }
   ],
   "source": [
    "a=4\n",
    "if a>3:\n",
    "    print(\"hi\")"
   ]
  },
  {
   "cell_type": "code",
   "execution_count": 7,
   "metadata": {},
   "outputs": [
    {
     "name": "stdout",
     "output_type": "stream",
     "text": [
      "hi\n"
     ]
    }
   ],
   "source": [
    "if a>3:\n",
    "    print(\"hi\")"
   ]
  },
  {
   "cell_type": "code",
   "execution_count": 9,
   "metadata": {},
   "outputs": [
    {
     "name": "stdout",
     "output_type": "stream",
     "text": [
      "u are pass\n"
     ]
    }
   ],
   "source": [
    "grade = 60\n",
    "if grade>50:\n",
    "    print(\"u are pass\")"
   ]
  },
  {
   "cell_type": "code",
   "execution_count": 11,
   "metadata": {},
   "outputs": [],
   "source": [
    "if grade>60:\n",
    "    print(\"u are pass\")"
   ]
  },
  {
   "cell_type": "code",
   "execution_count": 13,
   "metadata": {},
   "outputs": [
    {
     "name": "stdout",
     "output_type": "stream",
     "text": [
      "im out of if loop\n"
     ]
    }
   ],
   "source": [
    "if grade>60:\n",
    "    print(\"u are pass\")\n",
    "print(\"im out of if loop\")"
   ]
  },
  {
   "cell_type": "code",
   "execution_count": 15,
   "metadata": {},
   "outputs": [
    {
     "name": "stdout",
     "output_type": "stream",
     "text": [
      "u are pass\n",
      "im out of if loop\n"
     ]
    }
   ],
   "source": [
    "if grade>50:\n",
    "    print(\"u are pass\")\n",
    "print(\"im out of if loop\")"
   ]
  },
  {
   "cell_type": "code",
   "execution_count": 17,
   "metadata": {},
   "outputs": [
    {
     "name": "stdout",
     "output_type": "stream",
     "text": [
      "num_1 is lesser\n"
     ]
    }
   ],
   "source": [
    "num_1, num_2 = 6,9\n",
    "if (num_1<num_2):\n",
    "    print(\"num_1 is lesser\")"
   ]
  },
  {
   "cell_type": "code",
   "execution_count": null,
   "metadata": {},
   "outputs": [],
   "source": []
  }
 ],
 "metadata": {
  "hide_input": false,
  "kernelspec": {
   "display_name": "Python [conda env:base] *",
   "language": "python",
   "name": "conda-base-py"
  },
  "language_info": {
   "codemirror_mode": {
    "name": "ipython",
    "version": 3
   },
   "file_extension": ".py",
   "mimetype": "text/x-python",
   "name": "python",
   "nbconvert_exporter": "python",
   "pygments_lexer": "ipython3",
   "version": "3.12.4"
  },
  "toc": {
   "base_numbering": 1,
   "nav_menu": {},
   "number_sections": true,
   "sideBar": true,
   "skip_h1_title": false,
   "title_cell": "Table of Contents",
   "title_sidebar": "Contents",
   "toc_cell": false,
   "toc_position": {},
   "toc_section_display": true,
   "toc_window_display": false
  },
  "varInspector": {
   "cols": {
    "lenName": 16,
    "lenType": 16,
    "lenVar": 40
   },
   "kernels_config": {
    "python": {
     "delete_cmd_postfix": "",
     "delete_cmd_prefix": "del ",
     "library": "var_list.py",
     "varRefreshCmd": "print(var_dic_list())"
    },
    "r": {
     "delete_cmd_postfix": ") ",
     "delete_cmd_prefix": "rm(",
     "library": "var_list.r",
     "varRefreshCmd": "cat(var_dic_list()) "
    }
   },
   "types_to_exclude": [
    "module",
    "function",
    "builtin_function_or_method",
    "instance",
    "_Feature"
   ],
   "window_display": false
  }
 },
 "nbformat": 4,
 "nbformat_minor": 4
}
