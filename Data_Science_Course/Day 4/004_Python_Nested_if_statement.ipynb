{
 "cells": [
  {
   "cell_type": "markdown",
   "metadata": {},
   "source": [
    "# Python Nested `if` statement\n",
    "\n"
   ]
  },
  {
   "cell_type": "markdown",
   "metadata": {},
   "source": [
    "### Syntax:\n",
    "\n",
    "#### Example 1:\n",
    "```python\n",
    "if conditon_outer:\n",
    "    if condition_inner:\n",
    "        statement of nested if\n",
    "    else:\n",
    "        statement of nested if else:\n",
    "    statement ot outer if\n",
    "else:\n",
    "    Outer else \n",
    "statement outside if block\n",
    "```\n",
    "\n",
    "#### Example 2:\n",
    "```python\n",
    "if expression1:\n",
    "    statement(s)\n",
    "    if expression2:\n",
    "        statement(s)\n",
    "    elif expression3:\n",
    "        statement(s)\n",
    "    elif expression4:\n",
    "        statement(s)\n",
    "    else:\n",
    "        statement(s)\n",
    "else:\n",
    "    statement(s)\n",
    "```"
   ]
  },
  {
   "cell_type": "code",
   "execution_count": 1,
   "metadata": {},
   "outputs": [
    {
     "name": "stdout",
     "output_type": "stream",
     "text": [
      "x<<<<y\n",
      "x is 10\n"
     ]
    }
   ],
   "source": [
    "x = 10\n",
    "y = 12\n",
    "if x>y:\n",
    "    print(\"x>>>>>y\")\n",
    "elif x<y:\n",
    "    print(\"x<<<<y\")\n",
    "    if x==10:\n",
    "        print(\"x is 10\")\n",
    "    else:\n",
    "        print(\"invalid\")\n",
    "else:\n",
    "    print(\"x=======y\")\n",
    "    \n",
    "        "
   ]
  },
  {
   "cell_type": "code",
   "execution_count": 3,
   "metadata": {},
   "outputs": [
    {
     "name": "stdout",
     "output_type": "stream",
     "text": [
      "x<<<<y\n",
      "invalid\n"
     ]
    }
   ],
   "source": [
    "x = 11\n",
    "y = 12\n",
    "if x>y:\n",
    "    print(\"x>>>>>y\")\n",
    "elif x<y:\n",
    "    print(\"x<<<<y\")\n",
    "    if x==10:\n",
    "        print(\"x is 10\")\n",
    "    else:\n",
    "        print(\"invalid\")\n",
    "else:\n",
    "    print(\"x=======y\")\n",
    "    "
   ]
  },
  {
   "cell_type": "code",
   "execution_count": 5,
   "metadata": {},
   "outputs": [
    {
     "name": "stdout",
     "output_type": "stream",
     "text": [
      "x<<<<y\n"
     ]
    }
   ],
   "source": [
    "x = 11\n",
    "y = 12\n",
    "if x>y:\n",
    "    print(\"x>>>>>y\")\n",
    "elif x<y:\n",
    "    print(\"x<<<<y\")\n",
    "    if x==10:\n",
    "        print(\"x is 10\")\n",
    "else:\n",
    "    print(\"x=======y\")\n",
    "    "
   ]
  },
  {
   "cell_type": "code",
   "execution_count": 7,
   "metadata": {},
   "outputs": [
    {
     "name": "stdout",
     "output_type": "stream",
     "text": [
      "x=======y\n"
     ]
    }
   ],
   "source": [
    "x = 11\n",
    "y = 11\n",
    "if x>y:\n",
    "    print(\"x>>>>>y\")\n",
    "elif x<y:\n",
    "    print(\"x<<<<y\")\n",
    "    if x==10:\n",
    "        print(\"x is 10\")\n",
    "    else:\n",
    "        print(\"invalid\")\n",
    "else:\n",
    "    print(\"x=======y\")\n",
    "    "
   ]
  },
  {
   "cell_type": "code",
   "execution_count": 9,
   "metadata": {},
   "outputs": [
    {
     "name": "stdout",
     "output_type": "stream",
     "text": [
      "x<<<<y\n",
      "invalid\n"
     ]
    }
   ],
   "source": [
    "x = 11\n",
    "y = 12\n",
    "if x>y:\n",
    "    print(\"x>>>>>y\")\n",
    "elif x<y:\n",
    "    print(\"x<<<<y\")\n",
    "    if x==10:\n",
    "        print(\"x is 10\")\n",
    "    else:\n",
    "        print(\"invalid\")\n",
    "\n",
    "    "
   ]
  },
  {
   "cell_type": "code",
   "execution_count": 11,
   "metadata": {},
   "outputs": [],
   "source": [
    "x = 11\n",
    "y = 11\n",
    "if x>y:\n",
    "    print(\"x>>>>>y\")\n",
    "elif x<y:\n",
    "    print(\"x<<<<y\")\n",
    "    if x==10:\n",
    "        print(\"x is 10\")\n",
    "    else:\n",
    "        print(\"invalid\")\n",
    "\n",
    "    "
   ]
  },
  {
   "cell_type": "code",
   "execution_count": null,
   "metadata": {},
   "outputs": [],
   "source": []
  }
 ],
 "metadata": {
  "hide_input": false,
  "kernelspec": {
   "display_name": "Python [conda env:base] *",
   "language": "python",
   "name": "conda-base-py"
  },
  "language_info": {
   "codemirror_mode": {
    "name": "ipython",
    "version": 3
   },
   "file_extension": ".py",
   "mimetype": "text/x-python",
   "name": "python",
   "nbconvert_exporter": "python",
   "pygments_lexer": "ipython3",
   "version": "3.12.4"
  },
  "toc": {
   "base_numbering": 1,
   "nav_menu": {},
   "number_sections": true,
   "sideBar": true,
   "skip_h1_title": false,
   "title_cell": "Table of Contents",
   "title_sidebar": "Contents",
   "toc_cell": false,
   "toc_position": {},
   "toc_section_display": true,
   "toc_window_display": false
  },
  "varInspector": {
   "cols": {
    "lenName": 16,
    "lenType": 16,
    "lenVar": 40
   },
   "kernels_config": {
    "python": {
     "delete_cmd_postfix": "",
     "delete_cmd_prefix": "del ",
     "library": "var_list.py",
     "varRefreshCmd": "print(var_dic_list())"
    },
    "r": {
     "delete_cmd_postfix": ") ",
     "delete_cmd_prefix": "rm(",
     "library": "var_list.r",
     "varRefreshCmd": "cat(var_dic_list()) "
    }
   },
   "types_to_exclude": [
    "module",
    "function",
    "builtin_function_or_method",
    "instance",
    "_Feature"
   ],
   "window_display": false
  }
 },
 "nbformat": 4,
 "nbformat_minor": 4
}
