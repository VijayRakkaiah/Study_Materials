{
 "cells": [
  {
   "cell_type": "markdown",
   "metadata": {},
   "source": [
    "# Python `if-else` statement\n",
    "\n"
   ]
  },
  {
   "cell_type": "markdown",
   "metadata": {},
   "source": [
    "### Syntax :\n",
    "\n",
    "```python\n",
    "if condition:\n",
    "    statement 1\n",
    "else:\n",
    "    statement 2\n",
    "```\n",
    "\n",
    "1. The **`if..else`** statement evaluates **`condition`** and will execute the body of **`if`** only when the test condition is **`True`**.\n",
    "\n",
    "2. If the condition is **`False`**, the body of **`else`** is executed. Indentation is used to separate the blocks.\n",
    "\n",
    "<div>\n",
    "<img src=\"img/ife0.png\" width=\"300\"/>\n",
    "</div>\n",
    "\n",
    "To do this, we will add an else statement to the grade condition above that is constructed like this:\n",
    "\n",
    "```python\n",
    ">>> grade = 60   \n",
    ">>> if grade >= 65:\n",
    ">>>     print(\"Passing grade\")\n",
    ">>> else:\n",
    ">>>     print(\"Failing grade\")\n",
    "\n",
    "Failing grade\n",
    "```\n",
    "\n",
    "Since the grade variable above has the value of 60, the if statement evaluates as false, so the program will not print out Passing grade. The else statement that follows tells the program to do **something anyway**.\n",
    "\n",
    "If we then rewrite the program to give the grade a value of 65 or higher, we will instead receive the output Passing grade."
   ]
  },
  {
   "cell_type": "code",
   "execution_count": 2,
   "metadata": {},
   "outputs": [
    {
     "name": "stdout",
     "output_type": "stream",
     "text": [
      "u are pass\n"
     ]
    }
   ],
   "source": [
    "grade = 60\n",
    "if grade>50:\n",
    "    print(\"u are pass\")\n",
    "else:\n",
    "    print(\"u are fail\")"
   ]
  },
  {
   "cell_type": "code",
   "execution_count": 4,
   "metadata": {},
   "outputs": [
    {
     "name": "stdout",
     "output_type": "stream",
     "text": [
      "u are fail\n"
     ]
    }
   ],
   "source": [
    "grade = 60\n",
    "if grade>60:\n",
    "    print(\"u are pass\")\n",
    "else:\n",
    "    print(\"u are fail\")"
   ]
  },
  {
   "cell_type": "code",
   "execution_count": 6,
   "metadata": {},
   "outputs": [
    {
     "name": "stdout",
     "output_type": "stream",
     "text": [
      "num_1 is lesser\n"
     ]
    }
   ],
   "source": [
    "num_1, num_2 = 6,9\n",
    "if (num_1<num_2):\n",
    "    print(\"num_1 is lesser\")\n",
    "else:\n",
    "    print(\"num_1 is greater\")"
   ]
  },
  {
   "cell_type": "code",
   "execution_count": 8,
   "metadata": {},
   "outputs": [
    {
     "name": "stdout",
     "output_type": "stream",
     "text": [
      "num_1 is greater\n"
     ]
    }
   ],
   "source": [
    "num_1, num_2 = 6,9\n",
    "if (num_1>num_2):\n",
    "    print(\"num_1 is lesser\")\n",
    "else:\n",
    "    print(\"num_1 is greater\")"
   ]
  },
  {
   "cell_type": "code",
   "execution_count": null,
   "metadata": {},
   "outputs": [],
   "source": []
  }
 ],
 "metadata": {
  "hide_input": false,
  "kernelspec": {
   "display_name": "Python [conda env:base] *",
   "language": "python",
   "name": "conda-base-py"
  },
  "language_info": {
   "codemirror_mode": {
    "name": "ipython",
    "version": 3
   },
   "file_extension": ".py",
   "mimetype": "text/x-python",
   "name": "python",
   "nbconvert_exporter": "python",
   "pygments_lexer": "ipython3",
   "version": "3.12.4"
  },
  "toc": {
   "base_numbering": 1,
   "nav_menu": {},
   "number_sections": true,
   "sideBar": true,
   "skip_h1_title": false,
   "title_cell": "Table of Contents",
   "title_sidebar": "Contents",
   "toc_cell": false,
   "toc_position": {},
   "toc_section_display": true,
   "toc_window_display": false
  },
  "varInspector": {
   "cols": {
    "lenName": 16,
    "lenType": 16,
    "lenVar": 40
   },
   "kernels_config": {
    "python": {
     "delete_cmd_postfix": "",
     "delete_cmd_prefix": "del ",
     "library": "var_list.py",
     "varRefreshCmd": "print(var_dic_list())"
    },
    "r": {
     "delete_cmd_postfix": ") ",
     "delete_cmd_prefix": "rm(",
     "library": "var_list.r",
     "varRefreshCmd": "cat(var_dic_list()) "
    }
   },
   "types_to_exclude": [
    "module",
    "function",
    "builtin_function_or_method",
    "instance",
    "_Feature"
   ],
   "window_display": false
  }
 },
 "nbformat": 4,
 "nbformat_minor": 4
}
