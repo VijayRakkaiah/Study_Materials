{
 "cells": [
  {
   "cell_type": "markdown",
   "metadata": {},
   "source": [
    "# Python Global, Local and Nonlocal variables\n",
    "\n",
    "In this class, you’ll learn about Python Global variables, Local variables, Nonlocal variables and where to use them.\n",
    "\n",
    "When we define a function with variables, then those variables scope is limited to that function. In Python, the scope of a variable is the portion of a program where the variable is declared. Parameters and variables defined inside a function are not visible from outside the function. Hence, it is called the variable’s local scope.\n",
    "\n",
    ">**Note:** The inner function does have access to the outer function’s local scope.\n",
    "\n",
    "When we are executing a function, the life of the variables is up to running time. Once we return from the function, those variables get destroyed. So function does no need to remember the value of a variable from its previous call."
   ]
  },
  {
   "cell_type": "markdown",
   "metadata": {},
   "source": [
    "## Global Variables\n",
    "\n",
    "In Python, a variable declared outside of the function or in global scope is known as a global variable. This means that a global variable can be accessed inside or outside of the function.\n",
    "\n",
    "For example:"
   ]
  },
  {
   "cell_type": "code",
   "execution_count": 1,
   "metadata": {},
   "outputs": [],
   "source": [
    "def fun1():\n",
    "    print(\"im in 1st function\")\n",
    "\n",
    "def fun2():\n",
    "    print(\"im in 2nd function\")"
   ]
  },
  {
   "cell_type": "code",
   "execution_count": 3,
   "metadata": {},
   "outputs": [
    {
     "name": "stdout",
     "output_type": "stream",
     "text": [
      "im in 1st function\n"
     ]
    }
   ],
   "source": [
    "fun1()"
   ]
  },
  {
   "cell_type": "code",
   "execution_count": 5,
   "metadata": {},
   "outputs": [
    {
     "name": "stdout",
     "output_type": "stream",
     "text": [
      "im in 2nd function\n"
     ]
    }
   ],
   "source": [
    "fun2()"
   ]
  },
  {
   "cell_type": "code",
   "execution_count": 7,
   "metadata": {},
   "outputs": [],
   "source": [
    "g_var = 999\n",
    "def fun1():\n",
    "    print(\"im in 1st function: \",g_var)\n",
    "\n",
    "def fun2():\n",
    "    print(\"im in 2nd function: \",g_var)\n",
    "    "
   ]
  },
  {
   "cell_type": "code",
   "execution_count": 9,
   "metadata": {},
   "outputs": [
    {
     "name": "stdout",
     "output_type": "stream",
     "text": [
      "im in 1st function:  999\n"
     ]
    }
   ],
   "source": [
    "fun1()"
   ]
  },
  {
   "cell_type": "code",
   "execution_count": 11,
   "metadata": {},
   "outputs": [
    {
     "name": "stdout",
     "output_type": "stream",
     "text": [
      "im in 2nd function:  999\n"
     ]
    }
   ],
   "source": [
    "fun2()"
   ]
  },
  {
   "cell_type": "code",
   "execution_count": 13,
   "metadata": {},
   "outputs": [
    {
     "name": "stdout",
     "output_type": "stream",
     "text": [
      "im in 3rd function:  45\n"
     ]
    }
   ],
   "source": [
    "def fun3():\n",
    "    g_var = 45\n",
    "    print(\"im in 3rd function: \", g_var)\n",
    "\n",
    "fun3() # local variable defin proi"
   ]
  },
  {
   "cell_type": "code",
   "execution_count": 15,
   "metadata": {},
   "outputs": [
    {
     "name": "stdout",
     "output_type": "stream",
     "text": [
      "im in 3rd function:  999\n"
     ]
    }
   ],
   "source": [
    "def fun3():\n",
    "    #g_var = 45 # if i didnt use this\n",
    "    print(\"im in 3rd function: \", g_var)\n",
    "\n",
    "fun3() # local variable defin proi"
   ]
  },
  {
   "cell_type": "code",
   "execution_count": 17,
   "metadata": {},
   "outputs": [
    {
     "ename": "UnboundLocalError",
     "evalue": "cannot access local variable 'g_var_1' where it is not associated with a value",
     "output_type": "error",
     "traceback": [
      "\u001b[1;31m---------------------------------------------------------------------------\u001b[0m",
      "\u001b[1;31mUnboundLocalError\u001b[0m                         Traceback (most recent call last)",
      "Cell \u001b[1;32mIn[17], line 7\u001b[0m\n\u001b[0;32m      4\u001b[0m     g_var_1 \u001b[38;5;241m=\u001b[39m g_var_1\u001b[38;5;241m+\u001b[39m\u001b[38;5;241m2\u001b[39m\n\u001b[0;32m      5\u001b[0m     \u001b[38;5;28mprint\u001b[39m(\u001b[38;5;124m\"\u001b[39m\u001b[38;5;124mg_var_1: \u001b[39m\u001b[38;5;124m\"\u001b[39m, g_var_1)\n\u001b[1;32m----> 7\u001b[0m fun4()\n",
      "Cell \u001b[1;32mIn[17], line 4\u001b[0m, in \u001b[0;36mfun4\u001b[1;34m()\u001b[0m\n\u001b[0;32m      3\u001b[0m \u001b[38;5;28;01mdef\u001b[39;00m \u001b[38;5;21mfun4\u001b[39m():\n\u001b[1;32m----> 4\u001b[0m     g_var_1 \u001b[38;5;241m=\u001b[39m g_var_1\u001b[38;5;241m+\u001b[39m\u001b[38;5;241m2\u001b[39m\n\u001b[0;32m      5\u001b[0m     \u001b[38;5;28mprint\u001b[39m(\u001b[38;5;124m\"\u001b[39m\u001b[38;5;124mg_var_1: \u001b[39m\u001b[38;5;124m\"\u001b[39m, g_var_1)\n",
      "\u001b[1;31mUnboundLocalError\u001b[0m: cannot access local variable 'g_var_1' where it is not associated with a value"
     ]
    }
   ],
   "source": [
    "g_var_1 = 10\n",
    "\n",
    "def fun4():\n",
    "    g_var_1 = g_var_1+2\n",
    "    print(\"g_var_1: \", g_var_1)\n",
    "\n",
    "fun4()"
   ]
  },
  {
   "cell_type": "code",
   "execution_count": 19,
   "metadata": {},
   "outputs": [
    {
     "name": "stdout",
     "output_type": "stream",
     "text": [
      "g_var_1:  22\n"
     ]
    }
   ],
   "source": [
    "g_var_1 = 10\n",
    "\n",
    "def fun5():\n",
    "    g_var_1 = 20\n",
    "    g_var_1 = g_var_1+2\n",
    "    print(\"g_var_1: \", g_var_1)\n",
    "\n",
    "fun5()"
   ]
  },
  {
   "cell_type": "code",
   "execution_count": 21,
   "metadata": {},
   "outputs": [],
   "source": [
    "g_var_1 = 10\n",
    "\n",
    "def fun6():\n",
    "    global g_var_1 \n",
    "    g_var_1 = g_var_1+2\n",
    "    print(\"g_var_1: \", g_var_1)\n",
    "\n",
    "def fun7():\n",
    "    print(\"g_var_1: \", g_var_1)\n"
   ]
  },
  {
   "cell_type": "code",
   "execution_count": 23,
   "metadata": {},
   "outputs": [
    {
     "name": "stdout",
     "output_type": "stream",
     "text": [
      "g_var_1:  10\n"
     ]
    }
   ],
   "source": [
    "fun7()"
   ]
  },
  {
   "cell_type": "code",
   "execution_count": 25,
   "metadata": {},
   "outputs": [
    {
     "name": "stdout",
     "output_type": "stream",
     "text": [
      "g_var_1:  12\n"
     ]
    }
   ],
   "source": [
    "fun6()"
   ]
  },
  {
   "cell_type": "code",
   "execution_count": 27,
   "metadata": {},
   "outputs": [
    {
     "name": "stdout",
     "output_type": "stream",
     "text": [
      "g_var_1:  12\n"
     ]
    }
   ],
   "source": [
    "fun7()"
   ]
  },
  {
   "cell_type": "markdown",
   "metadata": {},
   "source": [
    "## Local Variables\n",
    "\n",
    "A variable declared inside the function's body or in the local scope is known as a local variable.\n",
    "\n",
    "If we try to access the local variable from the outside of the function, we will get the error as **`NameError`**."
   ]
  },
  {
   "cell_type": "code",
   "execution_count": 29,
   "metadata": {},
   "outputs": [],
   "source": [
    "x = 9\n",
    "\n",
    "def f1():\n",
    "    print(\"im in function 1:\", x)\n",
    "\n",
    "def f2():\n",
    "    global x \n",
    "    x = 99\n",
    "    print(\"im in function 2:\", x)\n",
    "\n",
    "def f3():\n",
    "    print(\"im in function 3:\", x)"
   ]
  },
  {
   "cell_type": "code",
   "execution_count": 31,
   "metadata": {},
   "outputs": [
    {
     "data": {
      "text/plain": [
       "9"
      ]
     },
     "execution_count": 31,
     "metadata": {},
     "output_type": "execute_result"
    }
   ],
   "source": [
    "x"
   ]
  },
  {
   "cell_type": "code",
   "execution_count": 33,
   "metadata": {},
   "outputs": [
    {
     "name": "stdout",
     "output_type": "stream",
     "text": [
      "im in function 1: 9\n"
     ]
    }
   ],
   "source": [
    "f1()"
   ]
  },
  {
   "cell_type": "code",
   "execution_count": 35,
   "metadata": {},
   "outputs": [
    {
     "name": "stdout",
     "output_type": "stream",
     "text": [
      "im in function 2: 99\n"
     ]
    }
   ],
   "source": [
    "f2()"
   ]
  },
  {
   "cell_type": "code",
   "execution_count": 37,
   "metadata": {},
   "outputs": [
    {
     "data": {
      "text/plain": [
       "99"
      ]
     },
     "execution_count": 37,
     "metadata": {},
     "output_type": "execute_result"
    }
   ],
   "source": [
    "x"
   ]
  },
  {
   "cell_type": "code",
   "execution_count": 39,
   "metadata": {},
   "outputs": [
    {
     "name": "stdout",
     "output_type": "stream",
     "text": [
      "im in function 3: 99\n"
     ]
    }
   ],
   "source": [
    "f3()"
   ]
  },
  {
   "cell_type": "code",
   "execution_count": null,
   "metadata": {},
   "outputs": [],
   "source": []
  },
  {
   "cell_type": "markdown",
   "metadata": {},
   "source": [
    "## Global and local variables\n",
    "\n",
    "Here, we will show how to use global variables and local variables in the same code."
   ]
  },
  {
   "cell_type": "markdown",
   "metadata": {},
   "source": [
    "## Nonlocal Variables\n",
    "\n",
    "Nonlocal variables are used in nested functions whose local scope is not defined. This means that the variable can be neither in the local nor the global scope.\n",
    "\n",
    "Let's see an example of how a global variable is created in Python.\n",
    "\n",
    "We use **`nonlocal`** keywords to create nonlocal variables."
   ]
  },
  {
   "cell_type": "code",
   "execution_count": null,
   "metadata": {},
   "outputs": [],
   "source": []
  },
  {
   "cell_type": "code",
   "execution_count": 41,
   "metadata": {},
   "outputs": [],
   "source": [
    "def fun():\n",
    "    x = 30\n",
    "    def day():\n",
    "        global x\n",
    "        x = 45\n",
    "    print(\"before call :\",x)\n",
    "    print(\"call\")\n",
    "    day()\n",
    "    print(\"after call:\", x)\n",
    "    "
   ]
  },
  {
   "cell_type": "code",
   "execution_count": 43,
   "metadata": {},
   "outputs": [
    {
     "name": "stdout",
     "output_type": "stream",
     "text": [
      "before call : 30\n",
      "call\n",
      "after call: 30\n"
     ]
    }
   ],
   "source": [
    "fun()"
   ]
  },
  {
   "cell_type": "code",
   "execution_count": 45,
   "metadata": {},
   "outputs": [
    {
     "data": {
      "text/plain": [
       "45"
      ]
     },
     "execution_count": 45,
     "metadata": {},
     "output_type": "execute_result"
    }
   ],
   "source": [
    "x"
   ]
  },
  {
   "cell_type": "code",
   "execution_count": 47,
   "metadata": {},
   "outputs": [
    {
     "name": "stdout",
     "output_type": "stream",
     "text": [
      "after call: 45\n"
     ]
    }
   ],
   "source": [
    "def fun():\n",
    "    x = 30\n",
    "    def day():\n",
    "        global x\n",
    "        x = 45\n",
    "    print(\"before call :\",x)\n",
    "    print(\"call\")\n",
    "    day()\n",
    "print(\"after call:\", x)"
   ]
  },
  {
   "cell_type": "code",
   "execution_count": 49,
   "metadata": {},
   "outputs": [
    {
     "name": "stdout",
     "output_type": "stream",
     "text": [
      "before call : 30\n",
      "call\n"
     ]
    }
   ],
   "source": [
    "fun()"
   ]
  },
  {
   "cell_type": "code",
   "execution_count": 53,
   "metadata": {},
   "outputs": [
    {
     "name": "stdout",
     "output_type": "stream",
     "text": [
      "in outer local\n",
      "inner function non local\n",
      "variable: global\n"
     ]
    }
   ],
   "source": [
    "x1 = \"global\"\n",
    "def outer_fun():\n",
    "    x1 = \"local\"\n",
    "    print(\"in outer\", x1)\n",
    "    def inner_fun():\n",
    "        nonlocal x1\n",
    "        x1 = \"non local\"\n",
    "        print(\"inner function\",x1)\n",
    "    inner_fun()\n",
    "\n",
    "outer_fun()\n",
    "print(\"variable:\", x1)"
   ]
  },
  {
   "cell_type": "code",
   "execution_count": 55,
   "metadata": {},
   "outputs": [
    {
     "name": "stdout",
     "output_type": "stream",
     "text": [
      "in outer local\n",
      "inner function non local\n",
      "variable: non local\n"
     ]
    }
   ],
   "source": [
    "x1 = \"global\"\n",
    "def outer_fun():\n",
    "    x1 = \"local\"\n",
    "    print(\"in outer\", x1)\n",
    "    def inner_fun():\n",
    "        global x1\n",
    "        x1 = \"non local\"\n",
    "        print(\"inner function\",x1)\n",
    "    inner_fun()\n",
    "\n",
    "outer_fun()\n",
    "print(\"variable:\", x1)"
   ]
  },
  {
   "cell_type": "code",
   "execution_count": 57,
   "metadata": {},
   "outputs": [
    {
     "name": "stdout",
     "output_type": "stream",
     "text": [
      "in outer local\n",
      "inner function non local\n",
      "in outer non local\n",
      "variable: global\n"
     ]
    }
   ],
   "source": [
    "x1 = \"global\"\n",
    "def outer_fun():\n",
    "    x1 = \"local\"\n",
    "    print(\"in outer\", x1)\n",
    "    def inner_fun():\n",
    "        nonlocal x1\n",
    "        x1 = \"non local\"\n",
    "        print(\"inner function\",x1)\n",
    "    inner_fun()\n",
    "    print(\"in outer\", x1)\n",
    "\n",
    "outer_fun()\n",
    "print(\"variable:\", x1)"
   ]
  },
  {
   "cell_type": "code",
   "execution_count": 59,
   "metadata": {},
   "outputs": [
    {
     "name": "stdout",
     "output_type": "stream",
     "text": [
      "in outer local\n",
      "inner function non local\n",
      "in outer local\n",
      "variable: global\n"
     ]
    }
   ],
   "source": [
    "x1 = \"global\"\n",
    "def outer_fun():\n",
    "    x1 = \"local\"\n",
    "    print(\"in outer\", x1)\n",
    "    def inner_fun():\n",
    "       # nonlocal x1\n",
    "        x1 = \"non local\"\n",
    "        print(\"inner function\",x1)\n",
    "    inner_fun()\n",
    "    print(\"in outer\", x1)\n",
    "\n",
    "outer_fun()\n",
    "print(\"variable:\", x1)"
   ]
  },
  {
   "cell_type": "code",
   "execution_count": 61,
   "metadata": {},
   "outputs": [
    {
     "name": "stdout",
     "output_type": "stream",
     "text": [
      "in outer 100\n",
      "inner function 1000\n",
      "in outer 1000\n",
      "variable: 99\n"
     ]
    }
   ],
   "source": [
    "x1 = 99\n",
    "def outer_fun():\n",
    "    x1 = 100\n",
    "    print(\"in outer\", x1)\n",
    "    def inner_fun():\n",
    "        nonlocal x1\n",
    "        x1 = 1000\n",
    "        print(\"inner function\",x1)\n",
    "    inner_fun()\n",
    "    print(\"in outer\", x1)\n",
    "\n",
    "outer_fun()\n",
    "print(\"variable:\", x1)"
   ]
  },
  {
   "cell_type": "code",
   "execution_count": 63,
   "metadata": {},
   "outputs": [
    {
     "name": "stdout",
     "output_type": "stream",
     "text": [
      "in outer 100\n",
      "inner function 1000\n",
      "in outer 100\n",
      "variable: 1000\n"
     ]
    }
   ],
   "source": [
    "x1 = 99\n",
    "def outer_fun():\n",
    "    x1 = 100\n",
    "    print(\"in outer\", x1)\n",
    "    def inner_fun():\n",
    "        global x1\n",
    "        x1 = 1000\n",
    "        print(\"inner function\",x1)\n",
    "    inner_fun()\n",
    "    print(\"in outer\", x1)\n",
    "\n",
    "outer_fun()\n",
    "print(\"variable:\", x1)"
   ]
  },
  {
   "cell_type": "code",
   "execution_count": null,
   "metadata": {},
   "outputs": [],
   "source": []
  }
 ],
 "metadata": {
  "hide_input": false,
  "kernelspec": {
   "display_name": "Python [conda env:base] *",
   "language": "python",
   "name": "conda-base-py"
  },
  "language_info": {
   "codemirror_mode": {
    "name": "ipython",
    "version": 3
   },
   "file_extension": ".py",
   "mimetype": "text/x-python",
   "name": "python",
   "nbconvert_exporter": "python",
   "pygments_lexer": "ipython3",
   "version": "3.12.4"
  },
  "toc": {
   "base_numbering": 1,
   "nav_menu": {},
   "number_sections": true,
   "sideBar": true,
   "skip_h1_title": false,
   "title_cell": "Table of Contents",
   "title_sidebar": "Contents",
   "toc_cell": false,
   "toc_position": {},
   "toc_section_display": true,
   "toc_window_display": false
  },
  "varInspector": {
   "cols": {
    "lenName": 16,
    "lenType": 16,
    "lenVar": 40
   },
   "kernels_config": {
    "python": {
     "delete_cmd_postfix": "",
     "delete_cmd_prefix": "del ",
     "library": "var_list.py",
     "varRefreshCmd": "print(var_dic_list())"
    },
    "r": {
     "delete_cmd_postfix": ") ",
     "delete_cmd_prefix": "rm(",
     "library": "var_list.r",
     "varRefreshCmd": "cat(var_dic_list()) "
    }
   },
   "types_to_exclude": [
    "module",
    "function",
    "builtin_function_or_method",
    "instance",
    "_Feature"
   ],
   "window_display": false
  }
 },
 "nbformat": 4,
 "nbformat_minor": 4
}
