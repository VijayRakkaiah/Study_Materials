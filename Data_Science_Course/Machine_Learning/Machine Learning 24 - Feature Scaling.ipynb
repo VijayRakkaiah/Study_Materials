{
 "cells": [
  {
   "cell_type": "markdown",
   "metadata": {
    "id": "-3QC-lhS22k_"
   },
   "source": [
    "# Import necessary dependencies and settings"
   ]
  },
  {
   "cell_type": "code",
   "execution_count": 2,
   "metadata": {
    "id": "2-QDbAeL22lA"
   },
   "outputs": [],
   "source": [
    "from sklearn.preprocessing import StandardScaler, MinMaxScaler, RobustScaler\n",
    "import numpy as np\n",
    "import pandas as pd\n",
    "np.set_printoptions(suppress=True)"
   ]
  },
  {
   "cell_type": "markdown",
   "metadata": {
    "id": "iHHPtEJv22lB"
   },
   "source": [
    "# Load sample data of video views"
   ]
  },
  {
   "cell_type": "code",
   "execution_count": 4,
   "metadata": {
    "colab": {
     "base_uri": "https://localhost:8080/",
     "height": 237
    },
    "id": "SRvt8uCP22lB",
    "outputId": "4b27f378-5e36-4684-a885-2e2f82f4159b"
   },
   "outputs": [
    {
     "data": {
      "text/html": [
       "<div>\n",
       "<style scoped>\n",
       "    .dataframe tbody tr th:only-of-type {\n",
       "        vertical-align: middle;\n",
       "    }\n",
       "\n",
       "    .dataframe tbody tr th {\n",
       "        vertical-align: top;\n",
       "    }\n",
       "\n",
       "    .dataframe thead th {\n",
       "        text-align: right;\n",
       "    }\n",
       "</style>\n",
       "<table border=\"1\" class=\"dataframe\">\n",
       "  <thead>\n",
       "    <tr style=\"text-align: right;\">\n",
       "      <th></th>\n",
       "      <th>views</th>\n",
       "    </tr>\n",
       "  </thead>\n",
       "  <tbody>\n",
       "    <tr>\n",
       "      <th>0</th>\n",
       "      <td>1295.0</td>\n",
       "    </tr>\n",
       "    <tr>\n",
       "      <th>1</th>\n",
       "      <td>25.0</td>\n",
       "    </tr>\n",
       "    <tr>\n",
       "      <th>2</th>\n",
       "      <td>19000.0</td>\n",
       "    </tr>\n",
       "    <tr>\n",
       "      <th>3</th>\n",
       "      <td>5.0</td>\n",
       "    </tr>\n",
       "    <tr>\n",
       "      <th>4</th>\n",
       "      <td>1.0</td>\n",
       "    </tr>\n",
       "    <tr>\n",
       "      <th>5</th>\n",
       "      <td>300.0</td>\n",
       "    </tr>\n",
       "  </tbody>\n",
       "</table>\n",
       "</div>"
      ],
      "text/plain": [
       "     views\n",
       "0   1295.0\n",
       "1     25.0\n",
       "2  19000.0\n",
       "3      5.0\n",
       "4      1.0\n",
       "5    300.0"
      ]
     },
     "execution_count": 4,
     "metadata": {},
     "output_type": "execute_result"
    }
   ],
   "source": [
    "views = pd.DataFrame([1295., 25., 19000., 5., 1., 300.], columns=['views'])\n",
    "views"
   ]
  },
  {
   "cell_type": "markdown",
   "metadata": {
    "id": "4ch0I09P22lC"
   },
   "source": [
    "# Standard Scaler $\\frac{x_i - \\mu}{\\sigma}$"
   ]
  },
  {
   "cell_type": "code",
   "execution_count": 6,
   "metadata": {
    "colab": {
     "base_uri": "https://localhost:8080/",
     "height": 237
    },
    "id": "6CypduTa22lC",
    "outputId": "04e57143-7c7c-42d5-e687-aaa25962356f"
   },
   "outputs": [
    {
     "data": {
      "text/html": [
       "<div>\n",
       "<style scoped>\n",
       "    .dataframe tbody tr th:only-of-type {\n",
       "        vertical-align: middle;\n",
       "    }\n",
       "\n",
       "    .dataframe tbody tr th {\n",
       "        vertical-align: top;\n",
       "    }\n",
       "\n",
       "    .dataframe thead th {\n",
       "        text-align: right;\n",
       "    }\n",
       "</style>\n",
       "<table border=\"1\" class=\"dataframe\">\n",
       "  <thead>\n",
       "    <tr style=\"text-align: right;\">\n",
       "      <th></th>\n",
       "      <th>views</th>\n",
       "      <th>zscore</th>\n",
       "    </tr>\n",
       "  </thead>\n",
       "  <tbody>\n",
       "    <tr>\n",
       "      <th>0</th>\n",
       "      <td>1295.0</td>\n",
       "      <td>-0.307214</td>\n",
       "    </tr>\n",
       "    <tr>\n",
       "      <th>1</th>\n",
       "      <td>25.0</td>\n",
       "      <td>-0.489306</td>\n",
       "    </tr>\n",
       "    <tr>\n",
       "      <th>2</th>\n",
       "      <td>19000.0</td>\n",
       "      <td>2.231317</td>\n",
       "    </tr>\n",
       "    <tr>\n",
       "      <th>3</th>\n",
       "      <td>5.0</td>\n",
       "      <td>-0.492173</td>\n",
       "    </tr>\n",
       "    <tr>\n",
       "      <th>4</th>\n",
       "      <td>1.0</td>\n",
       "      <td>-0.492747</td>\n",
       "    </tr>\n",
       "    <tr>\n",
       "      <th>5</th>\n",
       "      <td>300.0</td>\n",
       "      <td>-0.449877</td>\n",
       "    </tr>\n",
       "  </tbody>\n",
       "</table>\n",
       "</div>"
      ],
      "text/plain": [
       "     views    zscore\n",
       "0   1295.0 -0.307214\n",
       "1     25.0 -0.489306\n",
       "2  19000.0  2.231317\n",
       "3      5.0 -0.492173\n",
       "4      1.0 -0.492747\n",
       "5    300.0 -0.449877"
      ]
     },
     "execution_count": 6,
     "metadata": {},
     "output_type": "execute_result"
    }
   ],
   "source": [
    "ss = StandardScaler()\n",
    "views['zscore'] = ss.fit_transform(views[['views']])\n",
    "views"
   ]
  },
  {
   "cell_type": "code",
   "execution_count": 7,
   "metadata": {
    "colab": {
     "base_uri": "https://localhost:8080/"
    },
    "id": "k0v2HXes22lC",
    "outputId": "5f2500f6-b792-4824-fd93-12e4936e3aae"
   },
   "outputs": [
    {
     "data": {
      "text/plain": [
       "-0.30721413311687235"
      ]
     },
     "execution_count": 7,
     "metadata": {},
     "output_type": "execute_result"
    }
   ],
   "source": [
    "vw = np.array(views['views'])\n",
    "(vw[0] - np.mean(vw)) / np.std(vw)"
   ]
  },
  {
   "cell_type": "markdown",
   "metadata": {
    "id": "nrBXHeeU22lC"
   },
   "source": [
    "# Min-Max Scaler $\\frac{x_i - min(x)}{max(x) - min(x)}$"
   ]
  },
  {
   "cell_type": "code",
   "execution_count": 9,
   "metadata": {
    "colab": {
     "base_uri": "https://localhost:8080/",
     "height": 237
    },
    "id": "47kladLP22lC",
    "outputId": "abac7eaa-ff06-40c4-9489-a03c94d7ecf0"
   },
   "outputs": [
    {
     "data": {
      "text/html": [
       "<div>\n",
       "<style scoped>\n",
       "    .dataframe tbody tr th:only-of-type {\n",
       "        vertical-align: middle;\n",
       "    }\n",
       "\n",
       "    .dataframe tbody tr th {\n",
       "        vertical-align: top;\n",
       "    }\n",
       "\n",
       "    .dataframe thead th {\n",
       "        text-align: right;\n",
       "    }\n",
       "</style>\n",
       "<table border=\"1\" class=\"dataframe\">\n",
       "  <thead>\n",
       "    <tr style=\"text-align: right;\">\n",
       "      <th></th>\n",
       "      <th>views</th>\n",
       "      <th>zscore</th>\n",
       "      <th>minmax</th>\n",
       "    </tr>\n",
       "  </thead>\n",
       "  <tbody>\n",
       "    <tr>\n",
       "      <th>0</th>\n",
       "      <td>1295.0</td>\n",
       "      <td>-0.307214</td>\n",
       "      <td>0.068109</td>\n",
       "    </tr>\n",
       "    <tr>\n",
       "      <th>1</th>\n",
       "      <td>25.0</td>\n",
       "      <td>-0.489306</td>\n",
       "      <td>0.001263</td>\n",
       "    </tr>\n",
       "    <tr>\n",
       "      <th>2</th>\n",
       "      <td>19000.0</td>\n",
       "      <td>2.231317</td>\n",
       "      <td>1.000000</td>\n",
       "    </tr>\n",
       "    <tr>\n",
       "      <th>3</th>\n",
       "      <td>5.0</td>\n",
       "      <td>-0.492173</td>\n",
       "      <td>0.000211</td>\n",
       "    </tr>\n",
       "    <tr>\n",
       "      <th>4</th>\n",
       "      <td>1.0</td>\n",
       "      <td>-0.492747</td>\n",
       "      <td>0.000000</td>\n",
       "    </tr>\n",
       "    <tr>\n",
       "      <th>5</th>\n",
       "      <td>300.0</td>\n",
       "      <td>-0.449877</td>\n",
       "      <td>0.015738</td>\n",
       "    </tr>\n",
       "  </tbody>\n",
       "</table>\n",
       "</div>"
      ],
      "text/plain": [
       "     views    zscore    minmax\n",
       "0   1295.0 -0.307214  0.068109\n",
       "1     25.0 -0.489306  0.001263\n",
       "2  19000.0  2.231317  1.000000\n",
       "3      5.0 -0.492173  0.000211\n",
       "4      1.0 -0.492747  0.000000\n",
       "5    300.0 -0.449877  0.015738"
      ]
     },
     "execution_count": 9,
     "metadata": {},
     "output_type": "execute_result"
    }
   ],
   "source": [
    "mms = MinMaxScaler()\n",
    "views['minmax'] = mms.fit_transform(views[['views']])\n",
    "views"
   ]
  },
  {
   "cell_type": "code",
   "execution_count": 10,
   "metadata": {
    "colab": {
     "base_uri": "https://localhost:8080/"
    },
    "id": "kpWH2iHf22lC",
    "outputId": "cf4f2f0c-7fc0-4f3a-9f94-c8e09790e51d"
   },
   "outputs": [
    {
     "data": {
      "text/plain": [
       "0.06810884783409653"
      ]
     },
     "execution_count": 10,
     "metadata": {},
     "output_type": "execute_result"
    }
   ],
   "source": [
    "(vw[0] - np.min(vw)) / (np.max(vw) - np.min(vw))"
   ]
  },
  {
   "cell_type": "markdown",
   "metadata": {
    "id": "DJ_hKAzS22lD"
   },
   "source": [
    "# Robust Scaler $\\frac{x_i - median(x)}{IQR_{(1,3)}(x)}$"
   ]
  },
  {
   "cell_type": "code",
   "execution_count": 12,
   "metadata": {
    "colab": {
     "base_uri": "https://localhost:8080/",
     "height": 237
    },
    "id": "PWsBOtJq22lD",
    "outputId": "49d80fe3-ecf1-4c52-ac4c-cd5fc5389ce9"
   },
   "outputs": [
    {
     "data": {
      "text/html": [
       "<div>\n",
       "<style scoped>\n",
       "    .dataframe tbody tr th:only-of-type {\n",
       "        vertical-align: middle;\n",
       "    }\n",
       "\n",
       "    .dataframe tbody tr th {\n",
       "        vertical-align: top;\n",
       "    }\n",
       "\n",
       "    .dataframe thead th {\n",
       "        text-align: right;\n",
       "    }\n",
       "</style>\n",
       "<table border=\"1\" class=\"dataframe\">\n",
       "  <thead>\n",
       "    <tr style=\"text-align: right;\">\n",
       "      <th></th>\n",
       "      <th>views</th>\n",
       "      <th>zscore</th>\n",
       "      <th>minmax</th>\n",
       "      <th>robust</th>\n",
       "    </tr>\n",
       "  </thead>\n",
       "  <tbody>\n",
       "    <tr>\n",
       "      <th>0</th>\n",
       "      <td>1295.0</td>\n",
       "      <td>-0.307214</td>\n",
       "      <td>0.068109</td>\n",
       "      <td>1.092883</td>\n",
       "    </tr>\n",
       "    <tr>\n",
       "      <th>1</th>\n",
       "      <td>25.0</td>\n",
       "      <td>-0.489306</td>\n",
       "      <td>0.001263</td>\n",
       "      <td>-0.132690</td>\n",
       "    </tr>\n",
       "    <tr>\n",
       "      <th>2</th>\n",
       "      <td>19000.0</td>\n",
       "      <td>2.231317</td>\n",
       "      <td>1.000000</td>\n",
       "      <td>18.178528</td>\n",
       "    </tr>\n",
       "    <tr>\n",
       "      <th>3</th>\n",
       "      <td>5.0</td>\n",
       "      <td>-0.492173</td>\n",
       "      <td>0.000211</td>\n",
       "      <td>-0.151990</td>\n",
       "    </tr>\n",
       "    <tr>\n",
       "      <th>4</th>\n",
       "      <td>1.0</td>\n",
       "      <td>-0.492747</td>\n",
       "      <td>0.000000</td>\n",
       "      <td>-0.155850</td>\n",
       "    </tr>\n",
       "    <tr>\n",
       "      <th>5</th>\n",
       "      <td>300.0</td>\n",
       "      <td>-0.449877</td>\n",
       "      <td>0.015738</td>\n",
       "      <td>0.132690</td>\n",
       "    </tr>\n",
       "  </tbody>\n",
       "</table>\n",
       "</div>"
      ],
      "text/plain": [
       "     views    zscore    minmax     robust\n",
       "0   1295.0 -0.307214  0.068109   1.092883\n",
       "1     25.0 -0.489306  0.001263  -0.132690\n",
       "2  19000.0  2.231317  1.000000  18.178528\n",
       "3      5.0 -0.492173  0.000211  -0.151990\n",
       "4      1.0 -0.492747  0.000000  -0.155850\n",
       "5    300.0 -0.449877  0.015738   0.132690"
      ]
     },
     "execution_count": 12,
     "metadata": {},
     "output_type": "execute_result"
    }
   ],
   "source": [
    "rs = RobustScaler()\n",
    "views['robust'] = rs.fit_transform(views[['views']])\n",
    "views"
   ]
  },
  {
   "cell_type": "code",
   "execution_count": 13,
   "metadata": {
    "colab": {
     "base_uri": "https://localhost:8080/"
    },
    "id": "hYhdQQDg22lD",
    "outputId": "c27575cb-a3b3-4f6a-d646-1e123da55417"
   },
   "outputs": [
    {
     "data": {
      "text/plain": [
       "1.0928829915560916"
      ]
     },
     "execution_count": 13,
     "metadata": {},
     "output_type": "execute_result"
    }
   ],
   "source": [
    "quartiles = np.percentile(vw, (25., 75.))\n",
    "iqr = quartiles[1] - quartiles[0]\n",
    "(vw[0] - np.median(vw)) / iqr"
   ]
  },
  {
   "cell_type": "code",
   "execution_count": null,
   "metadata": {
    "id": "7AApG8ZIGh8W"
   },
   "outputs": [],
   "source": []
  }
 ],
 "metadata": {
  "anaconda-cloud": {},
  "colab": {
   "provenance": []
  },
  "kernelspec": {
   "display_name": "Python [conda env:base] *",
   "language": "python",
   "name": "conda-base-py"
  },
  "language_info": {
   "codemirror_mode": {
    "name": "ipython",
    "version": 3
   },
   "file_extension": ".py",
   "mimetype": "text/x-python",
   "name": "python",
   "nbconvert_exporter": "python",
   "pygments_lexer": "ipython3",
   "version": "3.12.4"
  }
 },
 "nbformat": 4,
 "nbformat_minor": 4
}
