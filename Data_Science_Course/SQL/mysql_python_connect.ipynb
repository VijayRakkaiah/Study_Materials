{
 "cells": [
  {
   "cell_type": "code",
   "execution_count": 1,
   "id": "ac701626",
   "metadata": {},
   "outputs": [
    {
     "name": "stdout",
     "output_type": "stream",
     "text": [
      "Requirement already satisfied: pymysql in c:\\users\\ajantha\\anaconda3\\lib\\site-packages (1.1.1)\n",
      "Note: you may need to restart the kernel to use updated packages.\n"
     ]
    }
   ],
   "source": [
    "pip install pymysql"
   ]
  },
  {
   "cell_type": "code",
   "execution_count": 3,
   "id": "fd0a5433",
   "metadata": {
    "id": "fd0a5433"
   },
   "outputs": [],
   "source": [
    "import numpy as np\n",
    "import pandas as pd\n",
    "import pymysql"
   ]
  },
  {
   "cell_type": "code",
   "execution_count": 17,
   "id": "7c140f79",
   "metadata": {
    "id": "7c140f79"
   },
   "outputs": [],
   "source": [
    "myconnection = pymysql.connect(host = '127.0.0.1',user='root',passwd='ap3solutions')"
   ]
  },
  {
   "cell_type": "code",
   "execution_count": null,
   "id": "44cf708b",
   "metadata": {
    "id": "44cf708b"
   },
   "outputs": [],
   "source": [
    "cur = myconnection.cursor()"
   ]
  },
  {
   "cell_type": "code",
   "execution_count": null,
   "id": "b46c94ea",
   "metadata": {
    "id": "b46c94ea",
    "outputId": "2b6ca3f1-f13f-4341-c04f-a6c5d8fc66fb"
   },
   "outputs": [],
   "source": [
    "cur.execute(\"create database IPL_Match\")"
   ]
  },
  {
   "cell_type": "code",
   "execution_count": null,
   "id": "60d23bbe",
   "metadata": {
    "id": "60d23bbe"
   },
   "outputs": [],
   "source": [
    "myconnection = pymysql.connect(host = '127.0.0.1',user='root',passwd='ap3solutions',database = \"IPL_Match\")"
   ]
  },
  {
   "cell_type": "code",
   "execution_count": null,
   "id": "a423bc85",
   "metadata": {
    "id": "a423bc85"
   },
   "outputs": [],
   "source": [
    "cur = myconnection.cursor()"
   ]
  },
  {
   "cell_type": "code",
   "execution_count": null,
   "id": "2117fe17",
   "metadata": {
    "id": "2117fe17",
    "outputId": "5e3fd13f-02e5-48ab-eeec-d6f66571ef28"
   },
   "outputs": [],
   "source": [
    "cur.execute(\"create table ajantha_PROD_1(make varchar(20),model varchar(20),year int,mileage int,price int,color varchar(10),state varchar(10))\")"
   ]
  },
  {
   "cell_type": "code",
   "execution_count": null,
   "id": "4c484e95",
   "metadata": {
    "id": "4c484e95"
   },
   "outputs": [],
   "source": [
    "#sql = \"insert into ajantha_PROD_1(make,model,year,mileage,price,color,state) values ('aj','sd',2014,10,1234,'red','tn')\""
   ]
  },
  {
   "cell_type": "code",
   "execution_count": null,
   "id": "DuqEfxhzX8qj",
   "metadata": {
    "id": "DuqEfxhzX8qj"
   },
   "outputs": [],
   "source": [
    "cur.execute(\"insert into ajantha_PROD_1(make,model,year,mileage,price,color,state) values ('aj','sd',2014,10,1234,'red','tn')\")"
   ]
  },
  {
   "cell_type": "code",
   "execution_count": 19,
   "id": "6198daa9",
   "metadata": {},
   "outputs": [],
   "source": [
    "myconnection.commit()"
   ]
  },
  {
   "cell_type": "code",
   "execution_count": null,
   "id": "255b701f",
   "metadata": {},
   "outputs": [],
   "source": []
  },
  {
   "cell_type": "code",
   "execution_count": null,
   "id": "0d672b89",
   "metadata": {},
   "outputs": [],
   "source": [
    "#df=pd.read_csv(\"csv_example1.csv\")"
   ]
  },
  {
   "cell_type": "code",
   "execution_count": null,
   "id": "78ee6079",
   "metadata": {},
   "outputs": [],
   "source": [
    "myconnection_1 = pymysql.connect(host = '127.0.0.1',user='root',passwd='ap3solutions',database = \"ajan\")"
   ]
  },
  {
   "cell_type": "code",
   "execution_count": null,
   "id": "93c690fe",
   "metadata": {
    "id": "93c690fe",
    "outputId": "68d15c69-104e-4194-fff4-3d1e50ed852e"
   },
   "outputs": [],
   "source": [
    "pd.read_sql_query(\"select * from student1\",myconnection_1)"
   ]
  },
  {
   "cell_type": "code",
   "execution_count": null,
   "id": "1b61ea71",
   "metadata": {
    "id": "1b61ea71"
   },
   "outputs": [],
   "source": []
  },
  {
   "cell_type": "code",
   "execution_count": null,
   "id": "35a2bbd4",
   "metadata": {
    "id": "35a2bbd4"
   },
   "outputs": [],
   "source": [
    "#existing database"
   ]
  },
  {
   "cell_type": "code",
   "execution_count": null,
   "id": "dcb6e586",
   "metadata": {
    "id": "dcb6e586"
   },
   "outputs": [],
   "source": [
    "myconnection_2 = pymysql.connect(host = '127.0.0.1',user='root',passwd='ap3solutions',database = \"dtm43\")"
   ]
  },
  {
   "cell_type": "code",
   "execution_count": null,
   "id": "46633e17",
   "metadata": {
    "id": "46633e17",
    "outputId": "e957f8e9-e655-4008-d532-f9c30793388d"
   },
   "outputs": [],
   "source": [
    "pd.read_sql_query(\"select fname, salary,case when salary > 5000 then 'high'when salary is null then 'invalid'else 'low'end as salary_level from employee\",myconnection_2)"
   ]
  },
  {
   "cell_type": "code",
   "execution_count": null,
   "id": "9004ecd1",
   "metadata": {
    "id": "9004ecd1"
   },
   "outputs": [],
   "source": []
  },
  {
   "cell_type": "code",
   "execution_count": null,
   "id": "j4xtx2cPY29S",
   "metadata": {
    "id": "j4xtx2cPY29S"
   },
   "outputs": [],
   "source": []
  },
  {
   "cell_type": "code",
   "execution_count": 5,
   "id": "AUUeIPbTY2_x",
   "metadata": {
    "id": "AUUeIPbTY2_x"
   },
   "outputs": [],
   "source": [
    "myconnection_4 = pymysql.connect(host = '127.0.0.1',user='root',passwd='ap3solutions',database = \"dtm43\")"
   ]
  },
  {
   "cell_type": "code",
   "execution_count": 11,
   "id": "c0af2a5d-0eb8-4a6c-9b43-1534fb6f5d82",
   "metadata": {},
   "outputs": [],
   "source": [
    "cur = myconnection_4.cursor()"
   ]
  },
  {
   "cell_type": "code",
   "execution_count": 13,
   "id": "122d5932-6461-4ecd-b284-aa0d1e701845",
   "metadata": {},
   "outputs": [
    {
     "ename": "KeyboardInterrupt",
     "evalue": "",
     "output_type": "error",
     "traceback": [
      "\u001b[1;31m---------------------------------------------------------------------------\u001b[0m",
      "\u001b[1;31mKeyboardInterrupt\u001b[0m                         Traceback (most recent call last)",
      "Cell \u001b[1;32mIn[13], line 1\u001b[0m\n\u001b[1;32m----> 1\u001b[0m cur\u001b[38;5;241m.\u001b[39mexecute(\u001b[38;5;124m\"\u001b[39m\u001b[38;5;124minsert into employee values (301,\u001b[39m\u001b[38;5;124m'\u001b[39m\u001b[38;5;124mgs\u001b[39m\u001b[38;5;124m'\u001b[39m\u001b[38;5;124m,\u001b[39m\u001b[38;5;124m'\u001b[39m\u001b[38;5;124mdev\u001b[39m\u001b[38;5;124m'\u001b[39m\u001b[38;5;124m,\u001b[39m\u001b[38;5;124m'\u001b[39m\u001b[38;5;124mHR\u001b[39m\u001b[38;5;124m'\u001b[39m\u001b[38;5;124m,5000.00,\u001b[39m\u001b[38;5;124m'\u001b[39m\u001b[38;5;124m2025-01-13\u001b[39m\u001b[38;5;124m'\u001b[39m\u001b[38;5;124m), (305,\u001b[39m\u001b[38;5;124m'\u001b[39m\u001b[38;5;124msfd\u001b[39m\u001b[38;5;124m'\u001b[39m\u001b[38;5;124m,\u001b[39m\u001b[38;5;124m'\u001b[39m\u001b[38;5;124mdev\u001b[39m\u001b[38;5;124m'\u001b[39m\u001b[38;5;124m,\u001b[39m\u001b[38;5;124m'\u001b[39m\u001b[38;5;124mR&D\u001b[39m\u001b[38;5;124m'\u001b[39m\u001b[38;5;124m,5000.00,\u001b[39m\u001b[38;5;124m'\u001b[39m\u001b[38;5;124m2025-01-13\u001b[39m\u001b[38;5;124m'\u001b[39m\u001b[38;5;124m), (306,\u001b[39m\u001b[38;5;124m'\u001b[39m\u001b[38;5;124msg\u001b[39m\u001b[38;5;124m'\u001b[39m\u001b[38;5;124m,\u001b[39m\u001b[38;5;124m'\u001b[39m\u001b[38;5;124mdev\u001b[39m\u001b[38;5;124m'\u001b[39m\u001b[38;5;124m,\u001b[39m\u001b[38;5;124m'\u001b[39m\u001b[38;5;124mHR\u001b[39m\u001b[38;5;124m'\u001b[39m\u001b[38;5;124m,5000.00,\u001b[39m\u001b[38;5;124m'\u001b[39m\u001b[38;5;124m2025-01-03\u001b[39m\u001b[38;5;124m'\u001b[39m\u001b[38;5;124m), (307,\u001b[39m\u001b[38;5;124m'\u001b[39m\u001b[38;5;124mgd\u001b[39m\u001b[38;5;124m'\u001b[39m\u001b[38;5;124m,\u001b[39m\u001b[38;5;124m'\u001b[39m\u001b[38;5;124mdev\u001b[39m\u001b[38;5;124m'\u001b[39m\u001b[38;5;124m,\u001b[39m\u001b[38;5;124m'\u001b[39m\u001b[38;5;124mR&D\u001b[39m\u001b[38;5;124m'\u001b[39m\u001b[38;5;124m,5000.00,\u001b[39m\u001b[38;5;124m'\u001b[39m\u001b[38;5;124m2025-01-14\u001b[39m\u001b[38;5;124m'\u001b[39m\u001b[38;5;124m), (308,\u001b[39m\u001b[38;5;124m'\u001b[39m\u001b[38;5;124mytr\u001b[39m\u001b[38;5;124m'\u001b[39m\u001b[38;5;124m,\u001b[39m\u001b[38;5;124m'\u001b[39m\u001b[38;5;124mdev\u001b[39m\u001b[38;5;124m'\u001b[39m\u001b[38;5;124m,\u001b[39m\u001b[38;5;124m'\u001b[39m\u001b[38;5;124mHR\u001b[39m\u001b[38;5;124m'\u001b[39m\u001b[38;5;124m,5000.00,\u001b[39m\u001b[38;5;124m'\u001b[39m\u001b[38;5;124m2025-01-15\u001b[39m\u001b[38;5;124m'\u001b[39m\u001b[38;5;124m)\u001b[39m\u001b[38;5;124m\"\u001b[39m)\n",
      "File \u001b[1;32m~\\anaconda3\\Lib\\site-packages\\pymysql\\cursors.py:153\u001b[0m, in \u001b[0;36mCursor.execute\u001b[1;34m(self, query, args)\u001b[0m\n\u001b[0;32m    149\u001b[0m     \u001b[38;5;28;01mpass\u001b[39;00m\n\u001b[0;32m    151\u001b[0m query \u001b[38;5;241m=\u001b[39m \u001b[38;5;28mself\u001b[39m\u001b[38;5;241m.\u001b[39mmogrify(query, args)\n\u001b[1;32m--> 153\u001b[0m result \u001b[38;5;241m=\u001b[39m \u001b[38;5;28mself\u001b[39m\u001b[38;5;241m.\u001b[39m_query(query)\n\u001b[0;32m    154\u001b[0m \u001b[38;5;28mself\u001b[39m\u001b[38;5;241m.\u001b[39m_executed \u001b[38;5;241m=\u001b[39m query\n\u001b[0;32m    155\u001b[0m \u001b[38;5;28;01mreturn\u001b[39;00m result\n",
      "File \u001b[1;32m~\\anaconda3\\Lib\\site-packages\\pymysql\\cursors.py:322\u001b[0m, in \u001b[0;36mCursor._query\u001b[1;34m(self, q)\u001b[0m\n\u001b[0;32m    320\u001b[0m conn \u001b[38;5;241m=\u001b[39m \u001b[38;5;28mself\u001b[39m\u001b[38;5;241m.\u001b[39m_get_db()\n\u001b[0;32m    321\u001b[0m \u001b[38;5;28mself\u001b[39m\u001b[38;5;241m.\u001b[39m_clear_result()\n\u001b[1;32m--> 322\u001b[0m conn\u001b[38;5;241m.\u001b[39mquery(q)\n\u001b[0;32m    323\u001b[0m \u001b[38;5;28mself\u001b[39m\u001b[38;5;241m.\u001b[39m_do_get_result()\n\u001b[0;32m    324\u001b[0m \u001b[38;5;28;01mreturn\u001b[39;00m \u001b[38;5;28mself\u001b[39m\u001b[38;5;241m.\u001b[39mrowcount\n",
      "File \u001b[1;32m~\\anaconda3\\Lib\\site-packages\\pymysql\\connections.py:563\u001b[0m, in \u001b[0;36mConnection.query\u001b[1;34m(self, sql, unbuffered)\u001b[0m\n\u001b[0;32m    561\u001b[0m     sql \u001b[38;5;241m=\u001b[39m sql\u001b[38;5;241m.\u001b[39mencode(\u001b[38;5;28mself\u001b[39m\u001b[38;5;241m.\u001b[39mencoding, \u001b[38;5;124m\"\u001b[39m\u001b[38;5;124msurrogateescape\u001b[39m\u001b[38;5;124m\"\u001b[39m)\n\u001b[0;32m    562\u001b[0m \u001b[38;5;28mself\u001b[39m\u001b[38;5;241m.\u001b[39m_execute_command(COMMAND\u001b[38;5;241m.\u001b[39mCOM_QUERY, sql)\n\u001b[1;32m--> 563\u001b[0m \u001b[38;5;28mself\u001b[39m\u001b[38;5;241m.\u001b[39m_affected_rows \u001b[38;5;241m=\u001b[39m \u001b[38;5;28mself\u001b[39m\u001b[38;5;241m.\u001b[39m_read_query_result(unbuffered\u001b[38;5;241m=\u001b[39munbuffered)\n\u001b[0;32m    564\u001b[0m \u001b[38;5;28;01mreturn\u001b[39;00m \u001b[38;5;28mself\u001b[39m\u001b[38;5;241m.\u001b[39m_affected_rows\n",
      "File \u001b[1;32m~\\anaconda3\\Lib\\site-packages\\pymysql\\connections.py:825\u001b[0m, in \u001b[0;36mConnection._read_query_result\u001b[1;34m(self, unbuffered)\u001b[0m\n\u001b[0;32m    823\u001b[0m \u001b[38;5;28;01melse\u001b[39;00m:\n\u001b[0;32m    824\u001b[0m     result \u001b[38;5;241m=\u001b[39m MySQLResult(\u001b[38;5;28mself\u001b[39m)\n\u001b[1;32m--> 825\u001b[0m     result\u001b[38;5;241m.\u001b[39mread()\n\u001b[0;32m    826\u001b[0m \u001b[38;5;28mself\u001b[39m\u001b[38;5;241m.\u001b[39m_result \u001b[38;5;241m=\u001b[39m result\n\u001b[0;32m    827\u001b[0m \u001b[38;5;28;01mif\u001b[39;00m result\u001b[38;5;241m.\u001b[39mserver_status \u001b[38;5;129;01mis\u001b[39;00m \u001b[38;5;129;01mnot\u001b[39;00m \u001b[38;5;28;01mNone\u001b[39;00m:\n",
      "File \u001b[1;32m~\\anaconda3\\Lib\\site-packages\\pymysql\\connections.py:1199\u001b[0m, in \u001b[0;36mMySQLResult.read\u001b[1;34m(self)\u001b[0m\n\u001b[0;32m   1197\u001b[0m \u001b[38;5;28;01mdef\u001b[39;00m \u001b[38;5;21mread\u001b[39m(\u001b[38;5;28mself\u001b[39m):\n\u001b[0;32m   1198\u001b[0m     \u001b[38;5;28;01mtry\u001b[39;00m:\n\u001b[1;32m-> 1199\u001b[0m         first_packet \u001b[38;5;241m=\u001b[39m \u001b[38;5;28mself\u001b[39m\u001b[38;5;241m.\u001b[39mconnection\u001b[38;5;241m.\u001b[39m_read_packet()\n\u001b[0;32m   1201\u001b[0m         \u001b[38;5;28;01mif\u001b[39;00m first_packet\u001b[38;5;241m.\u001b[39mis_ok_packet():\n\u001b[0;32m   1202\u001b[0m             \u001b[38;5;28mself\u001b[39m\u001b[38;5;241m.\u001b[39m_read_ok_packet(first_packet)\n",
      "File \u001b[1;32m~\\anaconda3\\Lib\\site-packages\\pymysql\\connections.py:744\u001b[0m, in \u001b[0;36mConnection._read_packet\u001b[1;34m(self, packet_type)\u001b[0m\n\u001b[0;32m    742\u001b[0m buff \u001b[38;5;241m=\u001b[39m \u001b[38;5;28mbytearray\u001b[39m()\n\u001b[0;32m    743\u001b[0m \u001b[38;5;28;01mwhile\u001b[39;00m \u001b[38;5;28;01mTrue\u001b[39;00m:\n\u001b[1;32m--> 744\u001b[0m     packet_header \u001b[38;5;241m=\u001b[39m \u001b[38;5;28mself\u001b[39m\u001b[38;5;241m.\u001b[39m_read_bytes(\u001b[38;5;241m4\u001b[39m)\n\u001b[0;32m    745\u001b[0m     \u001b[38;5;66;03m# if DEBUG: dump_packet(packet_header)\u001b[39;00m\n\u001b[0;32m    747\u001b[0m     btrl, btrh, packet_number \u001b[38;5;241m=\u001b[39m struct\u001b[38;5;241m.\u001b[39munpack(\u001b[38;5;124m\"\u001b[39m\u001b[38;5;124m<HBB\u001b[39m\u001b[38;5;124m\"\u001b[39m, packet_header)\n",
      "File \u001b[1;32m~\\anaconda3\\Lib\\site-packages\\pymysql\\connections.py:782\u001b[0m, in \u001b[0;36mConnection._read_bytes\u001b[1;34m(self, num_bytes)\u001b[0m\n\u001b[0;32m    780\u001b[0m \u001b[38;5;28;01mwhile\u001b[39;00m \u001b[38;5;28;01mTrue\u001b[39;00m:\n\u001b[0;32m    781\u001b[0m     \u001b[38;5;28;01mtry\u001b[39;00m:\n\u001b[1;32m--> 782\u001b[0m         data \u001b[38;5;241m=\u001b[39m \u001b[38;5;28mself\u001b[39m\u001b[38;5;241m.\u001b[39m_rfile\u001b[38;5;241m.\u001b[39mread(num_bytes)\n\u001b[0;32m    783\u001b[0m         \u001b[38;5;28;01mbreak\u001b[39;00m\n\u001b[0;32m    784\u001b[0m     \u001b[38;5;28;01mexcept\u001b[39;00m \u001b[38;5;167;01mOSError\u001b[39;00m \u001b[38;5;28;01mas\u001b[39;00m e:\n",
      "File \u001b[1;32m~\\anaconda3\\Lib\\socket.py:708\u001b[0m, in \u001b[0;36mSocketIO.readinto\u001b[1;34m(self, b)\u001b[0m\n\u001b[0;32m    706\u001b[0m \u001b[38;5;28;01mwhile\u001b[39;00m \u001b[38;5;28;01mTrue\u001b[39;00m:\n\u001b[0;32m    707\u001b[0m     \u001b[38;5;28;01mtry\u001b[39;00m:\n\u001b[1;32m--> 708\u001b[0m         \u001b[38;5;28;01mreturn\u001b[39;00m \u001b[38;5;28mself\u001b[39m\u001b[38;5;241m.\u001b[39m_sock\u001b[38;5;241m.\u001b[39mrecv_into(b)\n\u001b[0;32m    709\u001b[0m     \u001b[38;5;28;01mexcept\u001b[39;00m timeout:\n\u001b[0;32m    710\u001b[0m         \u001b[38;5;28mself\u001b[39m\u001b[38;5;241m.\u001b[39m_timeout_occurred \u001b[38;5;241m=\u001b[39m \u001b[38;5;28;01mTrue\u001b[39;00m\n",
      "\u001b[1;31mKeyboardInterrupt\u001b[0m: "
     ]
    }
   ],
   "source": [
    "cur.execute(\"insert into employee values (301,'gs','dev','HR',5000.00,'2025-01-13'), (305,'sfd','dev','R&D',5000.00,'2025-01-13'), (306,'sg','dev','HR',5000.00,'2025-01-03'), (307,'gd','dev','R&D',5000.00,'2025-01-14'), (308,'ytr','dev','HR',5000.00,'2025-01-15')\")"
   ]
  },
  {
   "cell_type": "code",
   "execution_count": null,
   "id": "56a97c39-52b8-4c63-9a39-d82da9345f0c",
   "metadata": {},
   "outputs": [],
   "source": []
  },
  {
   "cell_type": "code",
   "execution_count": null,
   "id": "364a82be-ff8c-42ef-8a82-0ed6802efb4c",
   "metadata": {},
   "outputs": [],
   "source": [
    "pd.read_sql_query(\"select * from employee\",myconnection_4)"
   ]
  },
  {
   "cell_type": "code",
   "execution_count": null,
   "id": "2Eqt_9xeY3C4",
   "metadata": {
    "id": "2Eqt_9xeY3C4"
   },
   "outputs": [],
   "source": []
  },
  {
   "cell_type": "code",
   "execution_count": null,
   "id": "smL-3b8BY3GI",
   "metadata": {
    "id": "smL-3b8BY3GI"
   },
   "outputs": [],
   "source": []
  }
 ],
 "metadata": {
  "colab": {
   "provenance": []
  },
  "kernelspec": {
   "display_name": "Python [conda env:base] *",
   "language": "python",
   "name": "conda-base-py"
  },
  "language_info": {
   "codemirror_mode": {
    "name": "ipython",
    "version": 3
   },
   "file_extension": ".py",
   "mimetype": "text/x-python",
   "name": "python",
   "nbconvert_exporter": "python",
   "pygments_lexer": "ipython3",
   "version": "3.12.4"
  }
 },
 "nbformat": 4,
 "nbformat_minor": 5
}
