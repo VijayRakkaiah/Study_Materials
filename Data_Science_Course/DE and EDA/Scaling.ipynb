{
 "cells": [
  {
   "cell_type": "code",
   "execution_count": 1,
   "id": "3944518b-e2b5-41af-82ef-9756fd93c536",
   "metadata": {},
   "outputs": [],
   "source": [
    "import numpy as np\n",
    "x= np.array([1.5,3.7,2.6,8.3,5.65,9.08,2.2,8.9,1.9,4.7])\n",
    "def normalize():\n",
    "    result = (x-min(x))/(max(x)-min(x))\n",
    "    return result\n",
    "    "
   ]
  },
  {
   "cell_type": "code",
   "execution_count": 3,
   "id": "ed01b2b6-cae3-4b0c-bc3b-96d45ae8024a",
   "metadata": {},
   "outputs": [
    {
     "name": "stdout",
     "output_type": "stream",
     "text": [
      "[1.5  3.7  2.6  8.3  5.65 9.08 2.2  8.9  1.9  4.7 ]\n",
      "after normalization:,\n",
      "[0.         0.29023747 0.14511873 0.89709763 0.5474934  1.\n",
      " 0.09234828 0.9762533  0.05277045 0.42216359]\n"
     ]
    }
   ],
   "source": [
    "print(x)\n",
    "y = normalize()\n",
    "\n",
    "print(\"after normalization:,\")\n",
    "print(y)"
   ]
  },
  {
   "cell_type": "code",
   "execution_count": 5,
   "id": "ede52596-d15e-4c22-945e-d7129a59a1d1",
   "metadata": {},
   "outputs": [
    {
     "name": "stdout",
     "output_type": "stream",
     "text": [
      "after normalization:,\n",
      "[0.16519824 0.40748899 0.28634361 0.91409692 0.6222467  1.\n",
      " 0.24229075 0.98017621 0.2092511  0.51762115]\n"
     ]
    }
   ],
   "source": [
    "def norm():\n",
    "    resu = x/max(x)\n",
    "    return resu\n",
    "y = norm()\n",
    "\n",
    "print(\"after normalization:,\")\n",
    "print(y)"
   ]
  },
  {
   "cell_type": "code",
   "execution_count": 7,
   "id": "fbbf5a39-404f-4ec2-9f5b-14251243fbea",
   "metadata": {},
   "outputs": [],
   "source": [
    "from sklearn import preprocessing"
   ]
  },
  {
   "cell_type": "code",
   "execution_count": 13,
   "id": "53872b36-d3c8-4980-a31a-e1ab05a40a18",
   "metadata": {},
   "outputs": [
    {
     "name": "stdout",
     "output_type": "stream",
     "text": [
      "[[ 3.  -1.5  2.  -5.4]\n",
      " [ 0.   4.  -0.3  2.1]\n",
      " [ 1.   3.3 -1.9 -4.3]]\n",
      "after scaling\n",
      "[[1.         0.         1.         0.        ]\n",
      " [0.         1.         0.41025641 1.        ]\n",
      " [0.33333333 0.87272727 0.         0.14666667]]\n"
     ]
    }
   ],
   "source": [
    "x1 = np.array([[3,-1.5,2,-5.4],\n",
    "               [0,4,-0.3,2.1],\n",
    "               [1,3.3,-1.9,-4.3]])\n",
    "data_scalar = preprocessing.MinMaxScaler(feature_range=(0,1))\n",
    "data_2 = data_scalar.fit_transform(x1)\n",
    "print(x1)\n",
    "print(\"after scaling\")\n",
    "print(data_2)"
   ]
  },
  {
   "cell_type": "code",
   "execution_count": 15,
   "id": "27dd0a2b-cb83-42f8-a891-c09c0a1e96fa",
   "metadata": {},
   "outputs": [
    {
     "name": "stdout",
     "output_type": "stream",
     "text": [
      "[[ 0.25210084 -0.12605042  0.16806723 -0.45378151]\n",
      " [ 0.          0.625      -0.046875    0.328125  ]\n",
      " [ 0.0952381   0.31428571 -0.18095238 -0.40952381]]\n"
     ]
    }
   ],
   "source": [
    "data_nor = preprocessing.normalize(x1, norm = 'l1')\n",
    "print(data_nor)"
   ]
  },
  {
   "cell_type": "code",
   "execution_count": 17,
   "id": "8d0f40e9-99e5-4d06-86a7-8bab115fa9d4",
   "metadata": {},
   "outputs": [
    {
     "name": "stdout",
     "output_type": "stream",
     "text": [
      "[[0. 0. 1. 0. 1. 0. 0. 0. 1. 1. 0.]]\n"
     ]
    }
   ],
   "source": [
    "# one hot encoding\n",
    "encoder = preprocessing.OneHotEncoder()\n",
    "encoder.fit([[0,2,1,12],\n",
    "            [1,3,5,3],\n",
    "            [2,3,2,12],\n",
    "            [1,2,4,3]])\n",
    "encoded_vector = encoder.transform([[2,3,5,3]]).toarray()\n",
    "print(encoded_vector)"
   ]
  },
  {
   "cell_type": "code",
   "execution_count": 19,
   "id": "a0f457bc-418a-4263-bef9-05e06be8f774",
   "metadata": {},
   "outputs": [
    {
     "name": "stdout",
     "output_type": "stream",
     "text": [
      "audi -> 0\n",
      "bmw -> 1\n",
      "ford -> 2\n",
      "toyota -> 3\n"
     ]
    }
   ],
   "source": [
    "# label encoding\n",
    "label_enco = preprocessing.LabelEncoder()\n",
    "input_cl = ['audi','ford','audi','toyota','ford', 'bmw']\n",
    "\n",
    "label_enco.fit(input_cl)\n",
    "\n",
    "for i, item in enumerate(label_enco.classes_):\n",
    "    print(item, '->', i)"
   ]
  },
  {
   "cell_type": "code",
   "execution_count": null,
   "id": "147076d2-3374-4ac0-bcd3-84049252386d",
   "metadata": {},
   "outputs": [],
   "source": []
  }
 ],
 "metadata": {
  "kernelspec": {
   "display_name": "Python [conda env:base] *",
   "language": "python",
   "name": "conda-base-py"
  },
  "language_info": {
   "codemirror_mode": {
    "name": "ipython",
    "version": 3
   },
   "file_extension": ".py",
   "mimetype": "text/x-python",
   "name": "python",
   "nbconvert_exporter": "python",
   "pygments_lexer": "ipython3",
   "version": "3.12.7"
  }
 },
 "nbformat": 4,
 "nbformat_minor": 5
}
