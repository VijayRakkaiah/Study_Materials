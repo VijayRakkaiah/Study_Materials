{
 "cells": [
  {
   "cell_type": "code",
   "execution_count": 1,
   "id": "bf007fa2",
   "metadata": {},
   "outputs": [
    {
     "name": "stdout",
     "output_type": "stream",
     "text": [
      "pathology\n",
      "biol776ogy\n",
      "geography\n",
      "mathematics\n"
     ]
    }
   ],
   "source": [
    "# square\n",
    "import re\n",
    "patter = '.*[ab].*'\n",
    "\n",
    "# square brackets [ ]\n",
    "str_list = [ \"pathology\", \"biol776ogy\", \"geography\", \"psychology\", \"mathematics\"]\n",
    "\n",
    "for str1 in str_list:\n",
    "    result= re.match(patter,str1) \n",
    "    if result:\n",
    "        print(str1)"
   ]
  },
  {
   "cell_type": "code",
   "execution_count": 5,
   "id": "7be64134-60c8-4b0d-9104-23216f005680",
   "metadata": {},
   "outputs": [
    {
     "name": "stdout",
     "output_type": "stream",
     "text": [
      "pathology\n",
      "biol776ogy\n",
      "geography\n",
      "psychology\n"
     ]
    }
   ],
   "source": [
    "# square\n",
    "import re\n",
    "patter = '.*[g].*'\n",
    "\n",
    "# square brackets [ ]\n",
    "str_list = [ \"pathology\", \"biol776ogy\", \"geography\", \"psychology\", \"mathematics\"]\n",
    "\n",
    "for str1 in str_list:\n",
    "    result= re.match(patter,str1) \n",
    "    if result:\n",
    "        print(str1)"
   ]
  },
  {
   "cell_type": "code",
   "execution_count": 7,
   "id": "4864310c",
   "metadata": {},
   "outputs": [
    {
     "name": "stdout",
     "output_type": "stream",
     "text": [
      "pathology\n",
      "geography\n",
      "psychology\n",
      "mathematics\n"
     ]
    }
   ],
   "source": [
    "# period (.)\n",
    "\n",
    "import re\n",
    "patter = '........'\n",
    "\n",
    "\n",
    "str_list = [ \"pathology\", \"biology\", \"geography\", \"psychology\", \"mathematics\"]\n",
    "\n",
    "for str1 in str_list:\n",
    "    result= re.match(patter,str1) \n",
    "    if result:\n",
    "        print(str1)"
   ]
  },
  {
   "cell_type": "code",
   "execution_count": 9,
   "id": "37cef2e1",
   "metadata": {},
   "outputs": [
    {
     "name": "stdout",
     "output_type": "stream",
     "text": [
      "pathology\n",
      "biology\n",
      "geography\n",
      "psychology\n",
      "y\n"
     ]
    }
   ],
   "source": [
    "# ^ carrot , $ dollar\n",
    "\n",
    "import re\n",
    "patter = '.*y$'\n",
    "\n",
    "\n",
    "str_list = [ \"pathology\", \"biology\", \"geography\", \"psychology\", \"mathematics\", \"y\"]\n",
    "\n",
    "for str1 in str_list:\n",
    "    result= re.match(patter,str1) \n",
    "    if result:\n",
    "        print(str1)"
   ]
  },
  {
   "cell_type": "code",
   "execution_count": 11,
   "id": "4e8c6465-802f-4050-b0eb-87da4ca76579",
   "metadata": {},
   "outputs": [
    {
     "name": "stdout",
     "output_type": "stream",
     "text": [
      "pathology\n",
      "psychology\n"
     ]
    }
   ],
   "source": [
    "# ^ carrot , $ dollar\n",
    "\n",
    "import re\n",
    "patter = '^p.*y$'\n",
    "\n",
    "\n",
    "str_list = [ \"pathology\", \"biology\", \"geography\", \"psychology\", \"mathematics\", \"y\"]\n",
    "\n",
    "for str1 in str_list:\n",
    "    result= re.match(patter,str1) \n",
    "    if result:\n",
    "        print(str1)"
   ]
  },
  {
   "cell_type": "code",
   "execution_count": 13,
   "id": "353a50c7",
   "metadata": {},
   "outputs": [
    {
     "name": "stdout",
     "output_type": "stream",
     "text": [
      "pathology\n",
      "biology\n",
      "psychology\n"
     ]
    }
   ],
   "source": [
    "# + and ?\n",
    "\n",
    "import re\n",
    "patter = '.*og+y'# ogy\n",
    "#ogy\n",
    "#patter = '.*lo+g'\n",
    "\n",
    "str_list = [ \"pathology\", \"biology\", \"geography\", \"psychology\", \"mathematics\"]\n",
    "\n",
    "for str1 in str_list:\n",
    "    result= re.match(patter,str1) \n",
    "    if result:\n",
    "        print(str1)"
   ]
  },
  {
   "cell_type": "code",
   "execution_count": 15,
   "id": "8e8975c5",
   "metadata": {},
   "outputs": [
    {
     "name": "stdout",
     "output_type": "stream",
     "text": [
      "pathology\n",
      "geography\n",
      "mathematics\n"
     ]
    }
   ],
   "source": [
    "import re\n",
    "patter = '.*[at].*'\n",
    "\n",
    "str_list = [ \"pathology\", \"biology\", \"geography\", \"psychology\", \"mathematics\"]\n",
    "\n",
    "for str1 in str_list:\n",
    "    result= re.match(patter,str1) \n",
    "    if result:\n",
    "        print(str1)"
   ]
  },
  {
   "cell_type": "code",
   "execution_count": 17,
   "id": "e5a17b33",
   "metadata": {},
   "outputs": [
    {
     "name": "stdout",
     "output_type": "stream",
     "text": [
      "pathology\n",
      "mathematics\n"
     ]
    }
   ],
   "source": [
    "import re\n",
    "patter = '.*a+t.*'\n",
    "\n",
    "str_list = [ \"pathology\", \"biology\", \"geography\", \"psychology\", \"mathematics\"]\n",
    "\n",
    "for str1 in str_list:\n",
    "    result= re.match(patter,str1) \n",
    "    if result:\n",
    "        print(str1)"
   ]
  },
  {
   "cell_type": "code",
   "execution_count": null,
   "id": "a83ac8a1",
   "metadata": {},
   "outputs": [],
   "source": []
  },
  {
   "cell_type": "code",
   "execution_count": null,
   "id": "ff8ad8c6",
   "metadata": {},
   "outputs": [],
   "source": []
  },
  {
   "cell_type": "code",
   "execution_count": 19,
   "id": "9a7a4eb3",
   "metadata": {},
   "outputs": [
    {
     "name": "stdout",
     "output_type": "stream",
     "text": [
      "pathology\n",
      "biology\n",
      "geography\n",
      "psychology\n"
     ]
    }
   ],
   "source": [
    "import re\n",
    "patter = '.*og.*y'\n",
    "#ogy\n",
    "\n",
    "str_list = [ \"pathology\", \"biology\", \"geography\", \"psychology\", \"mathematics\"]\n",
    "\n",
    "for str1 in str_list:\n",
    "    result= re.match(patter,str1) \n",
    "    if result:\n",
    "        print(str1)"
   ]
  },
  {
   "cell_type": "code",
   "execution_count": 21,
   "id": "2bfaeb49",
   "metadata": {},
   "outputs": [
    {
     "name": "stdout",
     "output_type": "stream",
     "text": [
      "pathology\n",
      "geograthy\n",
      "mathematics\n"
     ]
    }
   ],
   "source": [
    "import re\n",
    "patter = '.*at?h' # one or more occurance\n",
    "\n",
    "\n",
    "str_list = [ \"pathology\", \"biology\", \"geograthy\", \"psychology\", \"mathematics\"]\n",
    "\n",
    "for str1 in str_list:\n",
    "    result= re.match(patter,str1) \n",
    "    if result:\n",
    "        print(str1)"
   ]
  },
  {
   "cell_type": "code",
   "execution_count": 23,
   "id": "74893228",
   "metadata": {},
   "outputs": [
    {
     "name": "stdout",
     "output_type": "stream",
     "text": [
      "<re.Match object; span=(0, 1), match='A'>\n"
     ]
    }
   ],
   "source": [
    "import re\n",
    "\n",
    "s = \"Ajantha.devi\"\n",
    "match = re.search('.',s) # without \\\n",
    "print(match)"
   ]
  },
  {
   "cell_type": "code",
   "execution_count": 25,
   "id": "93a2712a",
   "metadata": {},
   "outputs": [
    {
     "name": "stdout",
     "output_type": "stream",
     "text": [
      "<re.Match object; span=(7, 8), match=' '>\n"
     ]
    }
   ],
   "source": [
    "s = \"Ajantha devi\"\n",
    "match = re.search(' ',s) \n",
    "print(match)"
   ]
  },
  {
   "cell_type": "code",
   "execution_count": null,
   "id": "c8fb2807",
   "metadata": {},
   "outputs": [],
   "source": []
  },
  {
   "cell_type": "code",
   "execution_count": 27,
   "id": "462c26eb",
   "metadata": {},
   "outputs": [
    {
     "name": "stdout",
     "output_type": "stream",
     "text": [
      "<re.Match object; span=(1, 2), match='j'>\n"
     ]
    }
   ],
   "source": [
    "s = \"Ajantha.devi\"\n",
    "match = re.search('j',s) # without \\\n",
    "print(match)"
   ]
  },
  {
   "cell_type": "code",
   "execution_count": null,
   "id": "5b431e16",
   "metadata": {},
   "outputs": [],
   "source": []
  },
  {
   "cell_type": "code",
   "execution_count": 29,
   "id": "2a915219",
   "metadata": {},
   "outputs": [
    {
     "name": "stdout",
     "output_type": "stream",
     "text": [
      "<re.Match object; span=(7, 8), match='.'>\n"
     ]
    },
    {
     "name": "stderr",
     "output_type": "stream",
     "text": [
      "<>:1: SyntaxWarning: invalid escape sequence '\\.'\n",
      "<>:1: SyntaxWarning: invalid escape sequence '\\.'\n",
      "C:\\Users\\AJANTHA\\AppData\\Local\\Temp\\ipykernel_15076\\180943832.py:1: SyntaxWarning: invalid escape sequence '\\.'\n",
      "  match = re.search('\\.',s) # with \\\n"
     ]
    }
   ],
   "source": [
    "match = re.search('\\.',s) # with \\\n",
    "print(match)"
   ]
  },
  {
   "cell_type": "code",
   "execution_count": 31,
   "id": "69f54b71",
   "metadata": {},
   "outputs": [
    {
     "name": "stdout",
     "output_type": "stream",
     "text": [
      "['123456789', '987654321']\n"
     ]
    },
    {
     "name": "stderr",
     "output_type": "stream",
     "text": [
      "<>:12: SyntaxWarning: invalid escape sequence '\\d'\n",
      "<>:12: SyntaxWarning: invalid escape sequence '\\d'\n",
      "C:\\Users\\AJANTHA\\AppData\\Local\\Temp\\ipykernel_15076\\3866660151.py:12: SyntaxWarning: invalid escape sequence '\\d'\n",
      "  match = re.findall('\\d+', string)\n"
     ]
    }
   ],
   "source": [
    "# special seq\n",
    "\n",
    "\n",
    "# d => 0-9\n",
    "# w => a-z, A-Z, 0-9, _ => alpha numeric\n",
    "\n",
    "# re.findall()\n",
    "\n",
    "string = \"\"\" hello my number is 123456789 and \n",
    "my friends number is 987654321\"\"\"\n",
    "\n",
    "match = re.findall('\\d+', string)\n",
    "print(match)"
   ]
  },
  {
   "cell_type": "code",
   "execution_count": 33,
   "id": "305d69cc",
   "metadata": {},
   "outputs": [
    {
     "name": "stdout",
     "output_type": "stream",
     "text": [
      "['d', 'd']\n"
     ]
    }
   ],
   "source": [
    "# string = \"\"\" hello my number is 123456789 and \n",
    "# my friends number is 987654321\"\"\"\n",
    "\n",
    "# match = re.findall('d', string)\n",
    "# print(match)"
   ]
  },
  {
   "cell_type": "code",
   "execution_count": 35,
   "id": "2ac4c131",
   "metadata": {},
   "outputs": [
    {
     "name": "stdout",
     "output_type": "stream",
     "text": [
      "['1', '2', '3', '4', '5', '6', '7', '8', '9', '9', '8', '7', '6', '5', '4', '3', '2', '1']\n"
     ]
    },
    {
     "name": "stderr",
     "output_type": "stream",
     "text": [
      "<>:4: SyntaxWarning: invalid escape sequence '\\d'\n",
      "<>:4: SyntaxWarning: invalid escape sequence '\\d'\n",
      "C:\\Users\\AJANTHA\\AppData\\Local\\Temp\\ipykernel_15076\\1552593740.py:4: SyntaxWarning: invalid escape sequence '\\d'\n",
      "  match = re.findall('\\d', string)\n"
     ]
    }
   ],
   "source": [
    "string = \"\"\" hello my number is 123456789 and \n",
    "my friends number is 987654321\"\"\"\n",
    "\n",
    "match = re.findall('\\d', string)\n",
    "print(match)"
   ]
  },
  {
   "cell_type": "code",
   "execution_count": 37,
   "id": "c3d15f6a",
   "metadata": {},
   "outputs": [
    {
     "name": "stdout",
     "output_type": "stream",
     "text": [
      "['hello', 'my', 'number', 'is', '123456789', 'and', 'my', 'friends', 'number', 'is', '987654321']\n"
     ]
    },
    {
     "name": "stderr",
     "output_type": "stream",
     "text": [
      "<>:6: SyntaxWarning: invalid escape sequence '\\w'\n",
      "<>:6: SyntaxWarning: invalid escape sequence '\\w'\n",
      "C:\\Users\\AJANTHA\\AppData\\Local\\Temp\\ipykernel_15076\\330396719.py:6: SyntaxWarning: invalid escape sequence '\\w'\n",
      "  match = re.findall('\\w+', string)\n"
     ]
    }
   ],
   "source": [
    "# re.findall()\n",
    "\n",
    "string = \"\"\" hello my number is 123456789 and \n",
    "my friends number is 987654321\"\"\"\n",
    "\n",
    "match = re.findall('\\w+', string)\n",
    "print(match)"
   ]
  },
  {
   "cell_type": "code",
   "execution_count": 39,
   "id": "8b442065",
   "metadata": {},
   "outputs": [
    {
     "name": "stdout",
     "output_type": "stream",
     "text": [
      "['h', 'e', 'l', 'l', 'o', 'm', 'y', 'n', 'u', 'm', 'b', 'e', 'r', 'i', 's', '1', '2', '3', '4', '5', '6', '7', '8', '9', 'a', 'n', 'd', 'm', 'y', 'f', 'r', 'i', 'e', 'n', 'd', 's', 'n', 'u', 'm', 'b', 'e', 'r', 'i', 's', '9', '8', '7', '6', '5', '4', '3', '2', '1']\n"
     ]
    },
    {
     "name": "stderr",
     "output_type": "stream",
     "text": [
      "<>:4: SyntaxWarning: invalid escape sequence '\\w'\n",
      "<>:4: SyntaxWarning: invalid escape sequence '\\w'\n",
      "C:\\Users\\AJANTHA\\AppData\\Local\\Temp\\ipykernel_15076\\1530948013.py:4: SyntaxWarning: invalid escape sequence '\\w'\n",
      "  match = re.findall('\\w', string)\n"
     ]
    }
   ],
   "source": [
    "string = \"\"\" hello my number is 123456789 and \n",
    "my friends number is 987654321\"\"\"\n",
    "\n",
    "match = re.findall('\\w', string)\n",
    "print(match)"
   ]
  },
  {
   "cell_type": "code",
   "execution_count": 41,
   "id": "b32869b1",
   "metadata": {},
   "outputs": [
    {
     "name": "stdout",
     "output_type": "stream",
     "text": [
      "['A', 'e', ' ', 's', ' ', 'G', 's', 'e', ' ', 'S']\n"
     ]
    }
   ],
   "source": [
    "\n",
    "p = re.compile('[A, G, S,s, e]')\n",
    "print(p.findall(\"Aye said Mr.Gibsen Stark\"))\n",
    "# A, e, s, G, s, e, S"
   ]
  },
  {
   "cell_type": "code",
   "execution_count": 43,
   "id": "161c0720",
   "metadata": {},
   "outputs": [
    {
     "name": "stdout",
     "output_type": "stream",
     "text": [
      "['A', 'e', ' ', 's', 'a', ' ', 'G', 's', 'e', ' ', 'S', 'a']\n"
     ]
    }
   ],
   "source": [
    "p = re.compile('[A, G, S,a, s, e]')\n",
    "print(p.findall(\"Aye said Mr.Gibsen Stark\"))\n",
    "# A, e, s,a, G, s, e, S"
   ]
  },
  {
   "cell_type": "code",
   "execution_count": 45,
   "id": "7bfeaae6",
   "metadata": {},
   "outputs": [
    {
     "name": "stdout",
     "output_type": "stream",
     "text": [
      "['A', 'e', ' ', 's', 'a', ' ', 'G', 's', 'e', ' ', 'a']\n"
     ]
    }
   ],
   "source": [
    "p = re.compile('[A, G, Z,a, s, e]')\n",
    "print(p.findall(\"Aye said Mr.Gibsen Stark\"))"
   ]
  },
  {
   "cell_type": "code",
   "execution_count": null,
   "id": "b4cfc58c",
   "metadata": {},
   "outputs": [],
   "source": []
  },
  {
   "cell_type": "code",
   "execution_count": null,
   "id": "d6036046",
   "metadata": {},
   "outputs": [],
   "source": []
  },
  {
   "cell_type": "code",
   "execution_count": null,
   "id": "30895d57",
   "metadata": {},
   "outputs": [],
   "source": []
  },
  {
   "cell_type": "code",
   "execution_count": 47,
   "id": "96fd05c5",
   "metadata": {},
   "outputs": [
    {
     "name": "stdout",
     "output_type": "stream",
     "text": [
      "['1', '1', '0', '5', '2', '0', '2', '0']\n"
     ]
    },
    {
     "name": "stderr",
     "output_type": "stream",
     "text": [
      "<>:1: SyntaxWarning: invalid escape sequence '\\d'\n",
      "<>:1: SyntaxWarning: invalid escape sequence '\\d'\n",
      "C:\\Users\\AJANTHA\\AppData\\Local\\Temp\\ipykernel_15076\\1046847585.py:1: SyntaxWarning: invalid escape sequence '\\d'\n",
      "  p = re.compile('\\d') # single digit\n"
     ]
    }
   ],
   "source": [
    "p = re.compile('\\d') # single digit\n",
    "print(p.findall(\"I went to the hospital at 11 a.m on 05th Jan 2020\"))\n"
   ]
  },
  {
   "cell_type": "code",
   "execution_count": 49,
   "id": "cff9a399-84c1-4a36-a1bc-4d9ca8577343",
   "metadata": {},
   "outputs": [
    {
     "name": "stdout",
     "output_type": "stream",
     "text": [
      "['11', '05', '2020']\n"
     ]
    },
    {
     "name": "stderr",
     "output_type": "stream",
     "text": [
      "<>:1: SyntaxWarning: invalid escape sequence '\\d'\n",
      "<>:1: SyntaxWarning: invalid escape sequence '\\d'\n",
      "C:\\Users\\AJANTHA\\AppData\\Local\\Temp\\ipykernel_15076\\2367684308.py:1: SyntaxWarning: invalid escape sequence '\\d'\n",
      "  p = re.compile('\\d+')\n"
     ]
    }
   ],
   "source": [
    "\n",
    "p = re.compile('\\d+')\n",
    "print(p.findall(\"I went to the hospital at 11 a.m on 05th Jan 2020\"))"
   ]
  },
  {
   "cell_type": "code",
   "execution_count": 51,
   "id": "60af78d8",
   "metadata": {},
   "outputs": [
    {
     "name": "stdout",
     "output_type": "stream",
     "text": [
      "['I', 'w', 'e', 'n', 't', 't', 'o', 't', 'h', 'e', 'h', 'o', 's', 'p', 'i', 't', 'a', 'l', 'a', 't', '1', '1', 'a', 'm', 'o', 'n', '5', 't', 'h', 'J', 'a', 'n', '2', '0', '2', '0']\n"
     ]
    },
    {
     "name": "stderr",
     "output_type": "stream",
     "text": [
      "<>:1: SyntaxWarning: invalid escape sequence '\\w'\n",
      "<>:1: SyntaxWarning: invalid escape sequence '\\w'\n",
      "C:\\Users\\AJANTHA\\AppData\\Local\\Temp\\ipykernel_15076\\1526700301.py:1: SyntaxWarning: invalid escape sequence '\\w'\n",
      "  p = re.compile('\\w') # [A-Za-z_0-9]\n"
     ]
    }
   ],
   "source": [
    "p = re.compile('\\w') # [A-Za-z_0-9]\n",
    "print(p.findall(\"I went to the hospital at 11 a.m on 5th Jan 2020\")) # without space, single letter\n",
    "\n"
   ]
  },
  {
   "cell_type": "code",
   "execution_count": 53,
   "id": "93d28187-b689-4738-ab73-0678d598bb9d",
   "metadata": {},
   "outputs": [
    {
     "name": "stdout",
     "output_type": "stream",
     "text": [
      "['I', 'went', 'to', 'the', 'hospital', 'at', '11', 'a', 'm', 'on', '5th', 'Jan', '2020']\n"
     ]
    },
    {
     "name": "stderr",
     "output_type": "stream",
     "text": [
      "<>:1: SyntaxWarning: invalid escape sequence '\\w'\n",
      "<>:1: SyntaxWarning: invalid escape sequence '\\w'\n",
      "C:\\Users\\AJANTHA\\AppData\\Local\\Temp\\ipykernel_15076\\1832462728.py:1: SyntaxWarning: invalid escape sequence '\\w'\n",
      "  p = re.compile('\\w+')# alphanumeric\n"
     ]
    }
   ],
   "source": [
    "p = re.compile('\\w+')# alphanumeric\n",
    "print(p.findall(\"I went to the hospital at 11 a.m on 5th Jan 2020\"))# word by word\n",
    "\n"
   ]
  },
  {
   "cell_type": "code",
   "execution_count": 55,
   "id": "323f86b0-9de1-4c4f-aeeb-1d57dc3b61c4",
   "metadata": {},
   "outputs": [
    {
     "name": "stdout",
     "output_type": "stream",
     "text": [
      "[' ', ' ', '*', ' ', ' ', ' ', '-', ' ', ' ', ' ', ' ', '.', ' ', '#', ' ', ' ', ' ', '$', ' ', ' ']\n"
     ]
    },
    {
     "name": "stderr",
     "output_type": "stream",
     "text": [
      "<>:1: SyntaxWarning: invalid escape sequence '\\W'\n",
      "<>:1: SyntaxWarning: invalid escape sequence '\\W'\n",
      "C:\\Users\\AJANTHA\\AppData\\Local\\Temp\\ipykernel_15076\\2365085706.py:1: SyntaxWarning: invalid escape sequence '\\W'\n",
      "  p = re.compile('\\W')#non alphanumeric\n"
     ]
    }
   ],
   "source": [
    "p = re.compile('\\W')#non alphanumeric\n",
    "print(p.findall(\"I went * to the - hospital at 11 a.m # on 5th $ Jan 2020\")) # space, symbol\n"
   ]
  },
  {
   "cell_type": "code",
   "execution_count": 57,
   "id": "b5bb4cc0",
   "metadata": {},
   "outputs": [
    {
     "name": "stdout",
     "output_type": "stream",
     "text": [
      "[' ', ' ', '*', ' ', ' ', ' ', '-', ' ', ' ', ' ', ' ', '.', ' ', '#', ' ', ' ', ' ', '$', '$', '$', ' ', ' ', ' ']\n"
     ]
    },
    {
     "name": "stderr",
     "output_type": "stream",
     "text": [
      "<>:1: SyntaxWarning: invalid escape sequence '\\W'\n",
      "<>:1: SyntaxWarning: invalid escape sequence '\\W'\n",
      "C:\\Users\\AJANTHA\\AppData\\Local\\Temp\\ipykernel_15076\\4020689339.py:1: SyntaxWarning: invalid escape sequence '\\W'\n",
      "  p = re.compile('\\W')#non alphanumeric\n"
     ]
    }
   ],
   "source": [
    "p = re.compile('\\W')#non alphanumeric\n",
    "print(p.findall(\"I went * to the - hospital at 11 a.m # on 5th $$$ Jan _ 2020\")) # space, symbol\n"
   ]
  },
  {
   "cell_type": "code",
   "execution_count": 59,
   "id": "336136f5",
   "metadata": {},
   "outputs": [
    {
     "name": "stdout",
     "output_type": "stream",
     "text": [
      "[' ', ' * ', ' ', ' - ', ' ', ' ', ' ', '.', ' # ', ' ', ' $$$ ', ' ', ' ']\n"
     ]
    },
    {
     "name": "stderr",
     "output_type": "stream",
     "text": [
      "<>:1: SyntaxWarning: invalid escape sequence '\\W'\n",
      "<>:1: SyntaxWarning: invalid escape sequence '\\W'\n",
      "C:\\Users\\AJANTHA\\AppData\\Local\\Temp\\ipykernel_15076\\1474289164.py:1: SyntaxWarning: invalid escape sequence '\\W'\n",
      "  p = re.compile('\\W+')#non alphanumeric\n"
     ]
    }
   ],
   "source": [
    "p = re.compile('\\W+')#non alphanumeric\n",
    "print(p.findall(\"I went * to the - hospital at 11 a.m # on 5th $$$ Jan _ 2020\")) # space, symbol\n"
   ]
  },
  {
   "cell_type": "code",
   "execution_count": 61,
   "id": "8b64806d",
   "metadata": {},
   "outputs": [
    {
     "name": "stdout",
     "output_type": "stream",
     "text": [
      "['I', ' ', 'w', 'e', 'n', 't', ' ', 't', 'o', ' ', 't', 'h', 'e', ' ', 'h', 'o', 's', 'p', 'i', 't', 'a', 'l', ' ', 'a', 't', ' ', ' ', 'a', '.', 'm', ' ', 'o', 'n', ' ', 't', 'h', ' ', 'J', 'a', 'n', ' ']\n"
     ]
    },
    {
     "name": "stderr",
     "output_type": "stream",
     "text": [
      "<>:1: SyntaxWarning: invalid escape sequence '\\D'\n",
      "<>:1: SyntaxWarning: invalid escape sequence '\\D'\n",
      "C:\\Users\\AJANTHA\\AppData\\Local\\Temp\\ipykernel_15076\\1525028957.py:1: SyntaxWarning: invalid escape sequence '\\D'\n",
      "  p = re.compile('\\D')\n"
     ]
    }
   ],
   "source": [
    "p = re.compile('\\D')\n",
    "print(p.findall(\"I went to the hospital at 11 a.m on 05th Jan 2020\"))"
   ]
  },
  {
   "cell_type": "code",
   "execution_count": 63,
   "id": "31e0fb7c",
   "metadata": {},
   "outputs": [
    {
     "name": "stdout",
     "output_type": "stream",
     "text": [
      "['I went to the hospital at ', ' a.m on ', 'th Jan ']\n"
     ]
    },
    {
     "name": "stderr",
     "output_type": "stream",
     "text": [
      "<>:1: SyntaxWarning: invalid escape sequence '\\D'\n",
      "<>:1: SyntaxWarning: invalid escape sequence '\\D'\n",
      "C:\\Users\\AJANTHA\\AppData\\Local\\Temp\\ipykernel_15076\\1429487559.py:1: SyntaxWarning: invalid escape sequence '\\D'\n",
      "  p = re.compile('\\D+') # non digit -> split\n"
     ]
    }
   ],
   "source": [
    "p = re.compile('\\D+') # non digit -> split\n",
    "print(p.findall(\"I went to the hospital at 11 a.m on 05th Jan 2020\"))"
   ]
  },
  {
   "cell_type": "code",
   "execution_count": null,
   "id": "fcc59424",
   "metadata": {},
   "outputs": [],
   "source": [
    "string = \"\"\" hello my number is 123456789 and \n",
    "my friends number is 987654321\"\"\"\n",
    "p = re.compile('\\w+')\n",
    "print(p.findall(string)) # word by word"
   ]
  },
  {
   "cell_type": "code",
   "execution_count": null,
   "id": "969daa45",
   "metadata": {},
   "outputs": [],
   "source": []
  },
  {
   "cell_type": "code",
   "execution_count": null,
   "id": "d34d114f",
   "metadata": {},
   "outputs": [],
   "source": [
    "#split('*')"
   ]
  },
  {
   "cell_type": "code",
   "execution_count": 65,
   "id": "7e1a2ec8",
   "metadata": {},
   "outputs": [
    {
     "name": "stdout",
     "output_type": "stream",
     "text": [
      "['words', 'Words', 'word', \"s, Word's\"]\n"
     ]
    },
    {
     "name": "stderr",
     "output_type": "stream",
     "text": [
      "<>:5: SyntaxWarning: invalid escape sequence '\\W'\n",
      "<>:5: SyntaxWarning: invalid escape sequence '\\W'\n",
      "C:\\Users\\AJANTHA\\AppData\\Local\\Temp\\ipykernel_15076\\1913992898.py:5: SyntaxWarning: invalid escape sequence '\\W'\n",
      "  print(split('\\W+', \"words, Words, word's, Word's\",  maxsplit =3))# , space  '\n"
     ]
    }
   ],
   "source": [
    "# re.split(pattern, string, maxsplit =0, flags = 0)\n",
    "\n",
    "from re import split\n",
    "\n",
    "print(split('\\W+', \"words, Words, word's, Word's\",  maxsplit =3))# , space  '"
   ]
  },
  {
   "cell_type": "code",
   "execution_count": 67,
   "id": "97ec520f",
   "metadata": {},
   "outputs": [
    {
     "name": "stdout",
     "output_type": "stream",
     "text": [
      "['words', 'Words', 'word', 's, Word#s']\n"
     ]
    },
    {
     "name": "stderr",
     "output_type": "stream",
     "text": [
      "<>:1: SyntaxWarning: invalid escape sequence '\\W'\n",
      "<>:1: SyntaxWarning: invalid escape sequence '\\W'\n",
      "C:\\Users\\AJANTHA\\AppData\\Local\\Temp\\ipykernel_15076\\1698263968.py:1: SyntaxWarning: invalid escape sequence '\\W'\n",
      "  print(split('\\W+', \"words, Words, word#s, Word#s\",  maxsplit =3))\n"
     ]
    }
   ],
   "source": [
    "print(split('\\W+', \"words, Words, word#s, Word#s\",  maxsplit =3))"
   ]
  },
  {
   "cell_type": "code",
   "execution_count": 69,
   "id": "c76dc05f",
   "metadata": {},
   "outputs": [
    {
     "name": "stdout",
     "output_type": "stream",
     "text": [
      "['words', 'Words', 'word', 's', 'Word', 's']\n"
     ]
    },
    {
     "name": "stderr",
     "output_type": "stream",
     "text": [
      "<>:1: SyntaxWarning: invalid escape sequence '\\W'\n",
      "<>:1: SyntaxWarning: invalid escape sequence '\\W'\n",
      "C:\\Users\\AJANTHA\\AppData\\Local\\Temp\\ipykernel_15076\\1794145181.py:1: SyntaxWarning: invalid escape sequence '\\W'\n",
      "  print(split('\\W+', \"words, Words, word#s, Word#s\",  maxsplit =5))\n"
     ]
    }
   ],
   "source": [
    "print(split('\\W+', \"words, Words, word#s, Word#s\",  maxsplit =5))"
   ]
  },
  {
   "cell_type": "code",
   "execution_count": 71,
   "id": "4b526bc2",
   "metadata": {},
   "outputs": [
    {
     "name": "stdout",
     "output_type": "stream",
     "text": [
      "['words', 'Words', 'word', 's', 'Word', 's']\n"
     ]
    },
    {
     "name": "stderr",
     "output_type": "stream",
     "text": [
      "<>:1: SyntaxWarning: invalid escape sequence '\\W'\n",
      "<>:1: SyntaxWarning: invalid escape sequence '\\W'\n",
      "C:\\Users\\AJANTHA\\AppData\\Local\\Temp\\ipykernel_15076\\1749687583.py:1: SyntaxWarning: invalid escape sequence '\\W'\n",
      "  print(split('\\W+', \"words, Words, word#s, Word#s\",  maxsplit =7))\n"
     ]
    }
   ],
   "source": [
    "print(split('\\W+', \"words, Words, word#s, Word#s\",  maxsplit =7))"
   ]
  },
  {
   "cell_type": "code",
   "execution_count": null,
   "id": "5bdc9587",
   "metadata": {},
   "outputs": [],
   "source": []
  },
  {
   "cell_type": "code",
   "execution_count": 73,
   "id": "794fc16f",
   "metadata": {},
   "outputs": [
    {
     "name": "stdout",
     "output_type": "stream",
     "text": [
      "['On', '12th', 'Jan', '2020', 'at', '11', '02', 'a', 'm']\n"
     ]
    },
    {
     "name": "stderr",
     "output_type": "stream",
     "text": [
      "<>:1: SyntaxWarning: invalid escape sequence '\\W'\n",
      "<>:1: SyntaxWarning: invalid escape sequence '\\W'\n",
      "C:\\Users\\AJANTHA\\AppData\\Local\\Temp\\ipykernel_15076\\303568480.py:1: SyntaxWarning: invalid escape sequence '\\W'\n",
      "  print(split('\\W+', \"On 12th Jan 2020, at 11.02 a.m\")) # space , .\n"
     ]
    }
   ],
   "source": [
    "print(split('\\W+', \"On 12th Jan 2020, at 11.02 a.m\")) # space , ."
   ]
  },
  {
   "cell_type": "code",
   "execution_count": 75,
   "id": "2312cd19",
   "metadata": {},
   "outputs": [
    {
     "name": "stdout",
     "output_type": "stream",
     "text": [
      "['On', '12th', 'Jan', '2020', 'at', '11', '02', 'a.m']\n"
     ]
    },
    {
     "name": "stderr",
     "output_type": "stream",
     "text": [
      "<>:1: SyntaxWarning: invalid escape sequence '\\W'\n",
      "<>:1: SyntaxWarning: invalid escape sequence '\\W'\n",
      "C:\\Users\\AJANTHA\\AppData\\Local\\Temp\\ipykernel_15076\\172518454.py:1: SyntaxWarning: invalid escape sequence '\\W'\n",
      "  print(split('\\W+', \"On 12th Jan 2020, at 11.02 a.m\", maxsplit = 7))\n"
     ]
    }
   ],
   "source": [
    "print(split('\\W+', \"On 12th Jan 2020, at 11.02 a.m\", maxsplit = 7))"
   ]
  },
  {
   "cell_type": "code",
   "execution_count": 77,
   "id": "920a60e2",
   "metadata": {},
   "outputs": [
    {
     "name": "stdout",
     "output_type": "stream",
     "text": [
      "['On', '12th', 'Jan', '2020', 'at', '11.02 a.m']\n"
     ]
    },
    {
     "name": "stderr",
     "output_type": "stream",
     "text": [
      "<>:1: SyntaxWarning: invalid escape sequence '\\W'\n",
      "<>:1: SyntaxWarning: invalid escape sequence '\\W'\n",
      "C:\\Users\\AJANTHA\\AppData\\Local\\Temp\\ipykernel_15076\\1905372300.py:1: SyntaxWarning: invalid escape sequence '\\W'\n",
      "  print(split('\\W+', \"On 12th Jan 2020, at 11.02 a.m\", maxsplit = 5))\n"
     ]
    }
   ],
   "source": [
    "print(split('\\W+', \"On 12th Jan 2020, at 11.02 a.m\", maxsplit = 5))"
   ]
  },
  {
   "cell_type": "code",
   "execution_count": 79,
   "id": "537dd227",
   "metadata": {},
   "outputs": [
    {
     "name": "stdout",
     "output_type": "stream",
     "text": [
      "S~*ject has ~*er booked already\n"
     ]
    }
   ],
   "source": [
    "# re.sub(pattern, repl, string, count =0, flags = 0)\n",
    "\n",
    "print(re.sub('ub', \"~*\", \"Subject has Uber booked already\", flags=re.IGNORECASE))"
   ]
  },
  {
   "cell_type": "code",
   "execution_count": 81,
   "id": "b46f0e0b",
   "metadata": {},
   "outputs": [
    {
     "name": "stdout",
     "output_type": "stream",
     "text": [
      "S~*ject has ~*er booked already\n"
     ]
    }
   ],
   "source": [
    "print(re.sub('UB', \"~*\", \"Subject has Uber booked already\", flags=re.IGNORECASE))"
   ]
  },
  {
   "cell_type": "code",
   "execution_count": 83,
   "id": "b9379cb5",
   "metadata": {},
   "outputs": [
    {
     "name": "stdout",
     "output_type": "stream",
     "text": [
      "S~*ject has Uber booked already\n"
     ]
    }
   ],
   "source": [
    "print(re.sub('ub', \"~*\", \"Subject has Uber booked already\"))"
   ]
  },
  {
   "cell_type": "code",
   "execution_count": 85,
   "id": "a61e0dfb",
   "metadata": {},
   "outputs": [
    {
     "name": "stdout",
     "output_type": "stream",
     "text": [
      "S####ject has \"Ubers\" booked already\n"
     ]
    }
   ],
   "source": [
    "\n",
    "print(re.sub('ub', '####', 'Subject has \"Ubers\" booked already'))"
   ]
  },
  {
   "cell_type": "code",
   "execution_count": 87,
   "id": "53bd45e7",
   "metadata": {},
   "outputs": [
    {
     "name": "stdout",
     "output_type": "stream",
     "text": [
      "S~*ject has ~*er booked already ~*er\n"
     ]
    }
   ],
   "source": [
    "print(re.sub('ub', \"~*\", \"Subject has Uber booked already uber\",flags=re.IGNORECASE)) # count => occurs"
   ]
  },
  {
   "cell_type": "code",
   "execution_count": null,
   "id": "141c97dd",
   "metadata": {},
   "outputs": [],
   "source": []
  }
 ],
 "metadata": {
  "kernelspec": {
   "display_name": "Python [conda env:base] *",
   "language": "python",
   "name": "conda-base-py"
  },
  "language_info": {
   "codemirror_mode": {
    "name": "ipython",
    "version": 3
   },
   "file_extension": ".py",
   "mimetype": "text/x-python",
   "name": "python",
   "nbconvert_exporter": "python",
   "pygments_lexer": "ipython3",
   "version": "3.12.4"
  }
 },
 "nbformat": 4,
 "nbformat_minor": 5
}
