{
 "cells": [
  {
   "cell_type": "code",
   "execution_count": 1,
   "id": "e6f6e9e4-0944-45d5-9cc5-90de4f201f2b",
   "metadata": {},
   "outputs": [
    {
     "data": {
      "text/plain": [
       "list"
      ]
     },
     "execution_count": 1,
     "metadata": {},
     "output_type": "execute_result"
    }
   ],
   "source": [
    "li = [1,2,3,4]\n",
    "type(li)"
   ]
  },
  {
   "cell_type": "code",
   "execution_count": 3,
   "id": "e35304f5-d22a-4ed9-a46a-ac02923e3b08",
   "metadata": {},
   "outputs": [
    {
     "name": "stdout",
     "output_type": "stream",
     "text": [
      "<class 'list'>\n"
     ]
    }
   ],
   "source": [
    "print(type(li))"
   ]
  },
  {
   "cell_type": "code",
   "execution_count": null,
   "id": "739cb891-e03a-4d32-8453-c39188064f4a",
   "metadata": {},
   "outputs": [],
   "source": [
    "# li1 = ()\n",
    "# li2 = {}"
   ]
  },
  {
   "cell_type": "code",
   "execution_count": null,
   "id": "17ea480a-36ea-4243-87db-a57848f78e02",
   "metadata": {},
   "outputs": [],
   "source": []
  },
  {
   "cell_type": "code",
   "execution_count": 5,
   "id": "fae368a2-d09e-4dc3-9595-1b2a16823ff3",
   "metadata": {},
   "outputs": [],
   "source": [
    "class new_class:\n",
    "    def class_methods(self):\n",
    "        print(\"hello in the method of class\")\n",
    "        "
   ]
  },
  {
   "cell_type": "code",
   "execution_count": 7,
   "id": "73374cc3-880f-47be-afd9-9a1eab296d2d",
   "metadata": {},
   "outputs": [],
   "source": [
    "# object of the class\n",
    "nc = new_class()"
   ]
  },
  {
   "cell_type": "code",
   "execution_count": 9,
   "id": "88c4a511-23f6-4360-8da8-2ca843c58c15",
   "metadata": {},
   "outputs": [
    {
     "name": "stdout",
     "output_type": "stream",
     "text": [
      "hello in the method of class\n"
     ]
    }
   ],
   "source": [
    "nc.class_methods()"
   ]
  },
  {
   "cell_type": "code",
   "execution_count": 13,
   "id": "8bf88234-eaa4-43e2-9f1a-5395fb114de2",
   "metadata": {},
   "outputs": [],
   "source": [
    "# member / variable and methods/func\n",
    "\n",
    "class new_class_1:\n",
    "    def class_methods(self):\n",
    "        self.color = \"red\"\n",
    "        self.id = 34\n",
    "        print(\"hello in the method of class\")\n",
    "        "
   ]
  },
  {
   "cell_type": "code",
   "execution_count": 15,
   "id": "5bab0e12-5b88-4f11-a317-29c412e77942",
   "metadata": {},
   "outputs": [],
   "source": [
    "nc1 = new_class_1()"
   ]
  },
  {
   "cell_type": "code",
   "execution_count": 17,
   "id": "64c342ff-eead-4714-a328-50f7f317cda9",
   "metadata": {},
   "outputs": [
    {
     "name": "stdout",
     "output_type": "stream",
     "text": [
      "hello in the method of class\n"
     ]
    }
   ],
   "source": [
    "nc1.class_methods()"
   ]
  },
  {
   "cell_type": "code",
   "execution_count": 19,
   "id": "c9a05312-7f1b-4df9-aefd-b0d9c0c11215",
   "metadata": {},
   "outputs": [
    {
     "data": {
      "text/plain": [
       "'red'"
      ]
     },
     "execution_count": 19,
     "metadata": {},
     "output_type": "execute_result"
    }
   ],
   "source": [
    "nc1.color"
   ]
  },
  {
   "cell_type": "code",
   "execution_count": 21,
   "id": "aca3fb21-55e8-4f7c-8138-c59c07b8680f",
   "metadata": {},
   "outputs": [
    {
     "data": {
      "text/plain": [
       "34"
      ]
     },
     "execution_count": 21,
     "metadata": {},
     "output_type": "execute_result"
    }
   ],
   "source": [
    "nc1.id"
   ]
  },
  {
   "cell_type": "code",
   "execution_count": 23,
   "id": "b3304271-c465-480d-a64c-319c33ec80a5",
   "metadata": {},
   "outputs": [],
   "source": [
    "class new_class_2:\n",
    "    def class_methods(self,my_color, my_id):\n",
    "        self.color = my_color\n",
    "        self.id = my_id        \n",
    "        print(\"hello in the method of class\")\n",
    "  "
   ]
  },
  {
   "cell_type": "code",
   "execution_count": 25,
   "id": "58f84080-fd91-4d07-ad42-afb6bb8b8d47",
   "metadata": {},
   "outputs": [
    {
     "ename": "TypeError",
     "evalue": "new_class_2.class_methods() missing 2 required positional arguments: 'my_color' and 'my_id'",
     "output_type": "error",
     "traceback": [
      "\u001b[1;31m---------------------------------------------------------------------------\u001b[0m",
      "\u001b[1;31mTypeError\u001b[0m                                 Traceback (most recent call last)",
      "Cell \u001b[1;32mIn[25], line 2\u001b[0m\n\u001b[0;32m      1\u001b[0m nc2 \u001b[38;5;241m=\u001b[39m new_class_2()\n\u001b[1;32m----> 2\u001b[0m nc2\u001b[38;5;241m.\u001b[39mclass_methods()\n",
      "\u001b[1;31mTypeError\u001b[0m: new_class_2.class_methods() missing 2 required positional arguments: 'my_color' and 'my_id'"
     ]
    }
   ],
   "source": [
    "nc2 = new_class_2()\n",
    "nc2.class_methods()"
   ]
  },
  {
   "cell_type": "code",
   "execution_count": 27,
   "id": "2b0e8aaf-5b44-4ec4-8c16-c1b4985bd496",
   "metadata": {},
   "outputs": [
    {
     "name": "stdout",
     "output_type": "stream",
     "text": [
      "hello in the method of class\n"
     ]
    }
   ],
   "source": [
    "nc2.class_methods(\"yellow\",24)"
   ]
  },
  {
   "cell_type": "code",
   "execution_count": 29,
   "id": "2d8a4d61-b565-4515-94bc-4538b19cbb69",
   "metadata": {},
   "outputs": [
    {
     "data": {
      "text/plain": [
       "'yellow'"
      ]
     },
     "execution_count": 29,
     "metadata": {},
     "output_type": "execute_result"
    }
   ],
   "source": [
    "nc2.color"
   ]
  },
  {
   "cell_type": "code",
   "execution_count": 31,
   "id": "85b83c35-c2ff-41cc-b2fc-2e16fe4e31ad",
   "metadata": {},
   "outputs": [
    {
     "data": {
      "text/plain": [
       "24"
      ]
     },
     "execution_count": 31,
     "metadata": {},
     "output_type": "execute_result"
    }
   ],
   "source": [
    "nc2.id"
   ]
  },
  {
   "cell_type": "code",
   "execution_count": 33,
   "id": "11647d52-af07-4a2b-94f1-34b87003909b",
   "metadata": {},
   "outputs": [],
   "source": [
    "# constructor => s\n",
    "\n",
    "class new_cl:\n",
    "    def __init__(self, my_color, my_id):\n",
    "        self.color = my_color\n",
    "        self.id = my_id\n",
    "    def display_var(self):\n",
    "        print(self.color)\n",
    "        print(self.id)"
   ]
  },
  {
   "cell_type": "code",
   "execution_count": 35,
   "id": "ed1afb03-0b23-4c98-a39d-2d389a354c53",
   "metadata": {},
   "outputs": [
    {
     "ename": "TypeError",
     "evalue": "new_cl.__init__() missing 2 required positional arguments: 'my_color' and 'my_id'",
     "output_type": "error",
     "traceback": [
      "\u001b[1;31m---------------------------------------------------------------------------\u001b[0m",
      "\u001b[1;31mTypeError\u001b[0m                                 Traceback (most recent call last)",
      "Cell \u001b[1;32mIn[35], line 1\u001b[0m\n\u001b[1;32m----> 1\u001b[0m nc3 \u001b[38;5;241m=\u001b[39m new_cl()\n",
      "\u001b[1;31mTypeError\u001b[0m: new_cl.__init__() missing 2 required positional arguments: 'my_color' and 'my_id'"
     ]
    }
   ],
   "source": [
    "nc3 = new_cl()"
   ]
  },
  {
   "cell_type": "code",
   "execution_count": 37,
   "id": "8d60ad98-90d4-4004-9e43-3a01daa34f05",
   "metadata": {},
   "outputs": [],
   "source": [
    "nc3 = new_cl(\"purple\", 98)"
   ]
  },
  {
   "cell_type": "code",
   "execution_count": 39,
   "id": "76cc6b31-568b-471e-95b6-07a3670bff8f",
   "metadata": {},
   "outputs": [
    {
     "name": "stdout",
     "output_type": "stream",
     "text": [
      "purple\n",
      "98\n"
     ]
    }
   ],
   "source": [
    "nc3.display_var()"
   ]
  },
  {
   "cell_type": "code",
   "execution_count": 41,
   "id": "0d1c76f6-db0e-4cd4-bcd8-2b01e1a94002",
   "metadata": {},
   "outputs": [],
   "source": [
    "nc4 = new_cl(\"pink\", 89) # member attributes"
   ]
  },
  {
   "cell_type": "code",
   "execution_count": 43,
   "id": "ac172c1a-2bc6-4d45-98c3-4040eadbffcf",
   "metadata": {},
   "outputs": [
    {
     "name": "stdout",
     "output_type": "stream",
     "text": [
      "pink\n",
      "89\n"
     ]
    }
   ],
   "source": [
    "nc4.display_var()"
   ]
  },
  {
   "cell_type": "code",
   "execution_count": 48,
   "id": "ff067c89-e4d4-4792-9237-7b8a5cda12c7",
   "metadata": {},
   "outputs": [],
   "source": [
    "# Class member / instance member\n",
    "\n",
    "class new_class_4:\n",
    "    # class varial\n",
    "    num_objects = 0\n",
    "    # constru\n",
    "    def __init__(self, my_color, my_id):\n",
    "        # class member\n",
    "        self.color = my_color\n",
    "        self.id = my_id\n",
    "        new_class_4.num_objects +=1\n",
    "\n",
    "    # instan meberm/ method\n",
    "    def display_var(self):\n",
    "        print(self.color)\n",
    "        print(self.id)\n",
    "        \n",
    "    def show_object_count():\n",
    "        print(\"number of object:\", str(new_class_4.num_objects))"
   ]
  },
  {
   "cell_type": "code",
   "execution_count": 50,
   "id": "b557a207-d3a6-45af-88ff-1244bb5e001d",
   "metadata": {},
   "outputs": [],
   "source": [
    "nc5 = new_class_4(\"green\",75)"
   ]
  },
  {
   "cell_type": "code",
   "execution_count": 52,
   "id": "6e97cf16-e0f0-40e3-a313-c0a2db4b1315",
   "metadata": {},
   "outputs": [
    {
     "name": "stdout",
     "output_type": "stream",
     "text": [
      "green\n",
      "75\n"
     ]
    }
   ],
   "source": [
    "nc5.display_var()"
   ]
  },
  {
   "cell_type": "code",
   "execution_count": 54,
   "id": "8a997bef-834e-4b9d-86b9-e7fb2e4649cc",
   "metadata": {},
   "outputs": [
    {
     "name": "stdout",
     "output_type": "stream",
     "text": [
      "number of object: 1\n"
     ]
    }
   ],
   "source": [
    "new_class_4.show_object_count()"
   ]
  },
  {
   "cell_type": "code",
   "execution_count": 56,
   "id": "4848c6e1-7981-4ae6-aa50-402189dfb750",
   "metadata": {},
   "outputs": [
    {
     "name": "stdout",
     "output_type": "stream",
     "text": [
      "red\n",
      "77\n",
      "number of object: 2\n"
     ]
    }
   ],
   "source": [
    "nc6 = new_class_4(\"red\",77)\n",
    "nc6.display_var()\n",
    "new_class_4.show_object_count()"
   ]
  },
  {
   "cell_type": "code",
   "execution_count": 58,
   "id": "e75396f4-556b-4674-b1a3-23d48a9638e4",
   "metadata": {},
   "outputs": [],
   "source": [
    "# iterators\n",
    "\n",
    "\n",
    "class get_event:\n",
    "    def __iter__(self):\n",
    "        self.id = 1\n",
    "        return self\n",
    "    def __next__(self):\n",
    "        new_id  = self.id\n",
    "        self.id +=1\n",
    "        return new_id"
   ]
  },
  {
   "cell_type": "code",
   "execution_count": 60,
   "id": "371130f0-5373-492e-80f4-7c4eb7fb8aa4",
   "metadata": {},
   "outputs": [
    {
     "name": "stdout",
     "output_type": "stream",
     "text": [
      "1\n"
     ]
    }
   ],
   "source": [
    "obj_get_event = get_event()\n",
    "obj_get_event_iter = iter(obj_get_event)\n",
    "print(next(obj_get_event_iter))"
   ]
  },
  {
   "cell_type": "code",
   "execution_count": 62,
   "id": "cd6fb6e3-ee7e-4302-b029-374e608d854b",
   "metadata": {},
   "outputs": [
    {
     "name": "stdout",
     "output_type": "stream",
     "text": [
      "2\n"
     ]
    }
   ],
   "source": [
    "print(next(obj_get_event_iter))"
   ]
  },
  {
   "cell_type": "code",
   "execution_count": 64,
   "id": "dba014c4-2849-40f9-a652-7a698cca9e70",
   "metadata": {},
   "outputs": [
    {
     "name": "stdout",
     "output_type": "stream",
     "text": [
      "3\n"
     ]
    }
   ],
   "source": [
    "print(next(obj_get_event_iter))"
   ]
  },
  {
   "cell_type": "code",
   "execution_count": 66,
   "id": "76ff97c8-5292-4f45-95d0-dd57aba3ad92",
   "metadata": {},
   "outputs": [
    {
     "name": "stdout",
     "output_type": "stream",
     "text": [
      "4\n"
     ]
    }
   ],
   "source": [
    "print(next(obj_get_event_iter))"
   ]
  },
  {
   "cell_type": "code",
   "execution_count": 68,
   "id": "938ff07c-4cb0-46ba-9fc8-5f38a5ecb11f",
   "metadata": {},
   "outputs": [],
   "source": [
    "class get_event:\n",
    "    def __iter__(self):\n",
    "        self.id = 1\n",
    "        return self\n",
    "    def __next__(self):\n",
    "        new_id  = self.id\n",
    "        self.id +=2\n",
    "        return new_id"
   ]
  },
  {
   "cell_type": "code",
   "execution_count": 70,
   "id": "1c34f2e4-bf60-435e-b9f4-c87dba26d190",
   "metadata": {},
   "outputs": [
    {
     "name": "stdout",
     "output_type": "stream",
     "text": [
      "1\n"
     ]
    }
   ],
   "source": [
    "# object => class\n",
    "obj_get_event_1 = get_event()\n",
    "# itera => object\n",
    "obj_get_event_iter_1 = iter(obj_get_event_1)\n",
    "print(next(obj_get_event_iter_1))"
   ]
  },
  {
   "cell_type": "code",
   "execution_count": 72,
   "id": "814f520a-3b43-4d2e-a7de-33854e7e9519",
   "metadata": {},
   "outputs": [
    {
     "name": "stdout",
     "output_type": "stream",
     "text": [
      "3\n"
     ]
    }
   ],
   "source": [
    "print(next(obj_get_event_iter_1))"
   ]
  },
  {
   "cell_type": "code",
   "execution_count": 75,
   "id": "6c0f56ac-aabd-4b4f-890a-3c33fa32f32a",
   "metadata": {},
   "outputs": [
    {
     "name": "stdout",
     "output_type": "stream",
     "text": [
      "5\n"
     ]
    }
   ],
   "source": [
    "print(next(obj_get_event_iter_1))"
   ]
  },
  {
   "cell_type": "code",
   "execution_count": 77,
   "id": "7b1af8a8-e950-4a35-843c-bce35ced5478",
   "metadata": {},
   "outputs": [
    {
     "name": "stdout",
     "output_type": "stream",
     "text": [
      "7\n"
     ]
    }
   ],
   "source": [
    "print(next(obj_get_event_iter_1))"
   ]
  },
  {
   "cell_type": "code",
   "execution_count": 81,
   "id": "1bc4e842-87b9-43ae-81e3-1be15685c9c1",
   "metadata": {},
   "outputs": [],
   "source": [
    "class car:\n",
    "    def __init__(self, color = \"red\", id=34):\n",
    "        self.color = color\n",
    "        self.id = id\n",
    "    def display(self):\n",
    "        print(f\"car color is {self.color}, car id is {self.id}\")"
   ]
  },
  {
   "cell_type": "code",
   "execution_count": 83,
   "id": "1b3bb22f-f1d4-4413-9d71-9fb502e94cd0",
   "metadata": {},
   "outputs": [],
   "source": [
    "car1 = car() # non-para\n",
    "car2 =  car(\"blue\",67)\n"
   ]
  },
  {
   "cell_type": "code",
   "execution_count": 85,
   "id": "ad3b6d4f-a7dc-4b0c-b5bb-4936d10551dc",
   "metadata": {},
   "outputs": [
    {
     "name": "stdout",
     "output_type": "stream",
     "text": [
      "car color is red, car id is 34\n"
     ]
    }
   ],
   "source": [
    "car1.display()"
   ]
  },
  {
   "cell_type": "code",
   "execution_count": 87,
   "id": "ab388d9c-604b-4964-8810-1504ec6a52c3",
   "metadata": {},
   "outputs": [
    {
     "name": "stdout",
     "output_type": "stream",
     "text": [
      "car color is blue, car id is 67\n"
     ]
    }
   ],
   "source": [
    "car2.display()"
   ]
  },
  {
   "cell_type": "code",
   "execution_count": 89,
   "id": "476b2203-7c90-47fd-841f-134c0ff6b2c8",
   "metadata": {},
   "outputs": [],
   "source": [
    "# inheritance\n",
    "\n",
    "class parent:\n",
    "    def display_text(self):\n",
    "        print(\"in parent class\")\n",
    "class child(parent):\n",
    "    pass"
   ]
  },
  {
   "cell_type": "code",
   "execution_count": 95,
   "id": "34c64171-f1e1-40df-9043-d7ccfa0968b5",
   "metadata": {},
   "outputs": [
    {
     "name": "stdout",
     "output_type": "stream",
     "text": [
      "in parent class\n"
     ]
    }
   ],
   "source": [
    "# single\n",
    "ch1 = child()\n",
    "ch1.display_text()"
   ]
  },
  {
   "cell_type": "code",
   "execution_count": 97,
   "id": "280d46be-6465-4577-af9d-7b7eb89324fe",
   "metadata": {},
   "outputs": [],
   "source": [
    "class shape:\n",
    "    def set_shape(self, name, area):\n",
    "        self.shape_name = name\n",
    "        self.shape_area = area\n",
    "    def display_shape(self):\n",
    "        print(\"Shape:\", self.shape_name)\n",
    "        print(\"shape area:\", self.shape_area)\n",
    "\n",
    "\n",
    "class circle(shape):\n",
    "    def set_circle(self, radius):\n",
    "        self.radius = radius\n",
    "    def display_circle(self):\n",
    "        print(\"circle radius:\", self.radius)\n",
    "\n",
    "\n",
    "class square(shape):\n",
    "    def set_squ(self, sides):\n",
    "        self.sides = sides\n",
    "    def display_squ(self):\n",
    "        print(\"square sides:\", self.sides)\n"
   ]
  },
  {
   "cell_type": "code",
   "execution_count": 99,
   "id": "ab557ce7-701c-48fa-8539-c7e6c5010a43",
   "metadata": {},
   "outputs": [
    {
     "name": "stdout",
     "output_type": "stream",
     "text": [
      "Shape: circle\n",
      "shape area: 300\n"
     ]
    }
   ],
   "source": [
    "c1 = circle()\n",
    "c1.set_shape(\"circle\",300)\n",
    "c1.display_shape()"
   ]
  },
  {
   "cell_type": "code",
   "execution_count": 101,
   "id": "74dfd54b-9adc-4db6-92e3-488f04a6f4ad",
   "metadata": {},
   "outputs": [
    {
     "name": "stdout",
     "output_type": "stream",
     "text": [
      "circle radius: 50\n"
     ]
    }
   ],
   "source": [
    "c1.set_circle(50)\n",
    "c1.display_circle()"
   ]
  },
  {
   "cell_type": "code",
   "execution_count": 103,
   "id": "76ae0b41-1a7f-44f9-8458-a239c5c21517",
   "metadata": {},
   "outputs": [
    {
     "name": "stdout",
     "output_type": "stream",
     "text": [
      "Shape: square\n",
      "shape area: 200\n"
     ]
    }
   ],
   "source": [
    "sq1 = square()\n",
    "sq1.set_shape(\"square\",200)\n",
    "sq1.display_shape()"
   ]
  },
  {
   "cell_type": "code",
   "execution_count": 105,
   "id": "43d45343-8456-4798-ac7d-78a525a16040",
   "metadata": {},
   "outputs": [
    {
     "name": "stdout",
     "output_type": "stream",
     "text": [
      "Shape: rect\n",
      "shape area: 300\n"
     ]
    }
   ],
   "source": [
    "s1 = shape()\n",
    "s1.set_shape(\"rect\", 300)\n",
    "s1.display_shape()"
   ]
  },
  {
   "cell_type": "code",
   "execution_count": null,
   "id": "e848a607-b3ee-43c5-86a5-e2ac865d095c",
   "metadata": {},
   "outputs": [],
   "source": []
  }
 ],
 "metadata": {
  "kernelspec": {
   "display_name": "Python [conda env:base] *",
   "language": "python",
   "name": "conda-base-py"
  },
  "language_info": {
   "codemirror_mode": {
    "name": "ipython",
    "version": 3
   },
   "file_extension": ".py",
   "mimetype": "text/x-python",
   "name": "python",
   "nbconvert_exporter": "python",
   "pygments_lexer": "ipython3",
   "version": "3.12.4"
  }
 },
 "nbformat": 4,
 "nbformat_minor": 5
}
