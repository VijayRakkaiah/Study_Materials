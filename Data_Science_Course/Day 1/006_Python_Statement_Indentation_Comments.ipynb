{
 "cells": [
  {
   "cell_type": "markdown",
   "metadata": {},
   "source": [
    "# Python Statement, Indentation and Comments\n",
    "\n",
    "In this class, you will learn about Python statements, why indentation is important and use of comments in programming."
   ]
  },
  {
   "cell_type": "markdown",
   "metadata": {},
   "source": [
    "## 1. Python Statement\n",
    "\n",
    "Instructions that a Python interpreter can execute are called statements. For example, **`a = 1`** is an assignment statement. **`if`** statement, **`for`** statement, **`while`** statement, etc. are other kinds of statements which will be discussed later."
   ]
  },
  {
   "cell_type": "markdown",
   "metadata": {},
   "source": [
    "### Multi-line statement\n",
    "\n",
    "In Python, the end of a statement is marked by a newline character. But we can make a statement extend over multiple lines with the line continuation character **`\\`**.\n",
    "\n",
    "* Statements finish at the end of the line:\n",
    "  * Except when there is an open bracket or paranthesis:\n",
    "  \n",
    "```python\n",
    ">>> 1+2\n",
    ">>> +3  #illegal continuation of the sum\n",
    "```\n",
    "  * A single backslash at the end of the line can also be used to indicate that a statement is still incomplete  \n",
    "  \n",
    "```python\n",
    ">>> 1 + \\\n",
    ">>>    2 + 3 # this is also okay\n",
    "```\n",
    "\n",
    "For example:"
   ]
  },
  {
   "cell_type": "code",
   "execution_count": 1,
   "metadata": {},
   "outputs": [
    {
     "data": {
      "text/plain": [
       "17"
      ]
     },
     "execution_count": 1,
     "metadata": {},
     "output_type": "execute_result"
    }
   ],
   "source": [
    "1+2+3+4\n",
    "+5+6+7\n",
    "+8+9"
   ]
  },
  {
   "cell_type": "code",
   "execution_count": 3,
   "metadata": {},
   "outputs": [
    {
     "ename": "SyntaxError",
     "evalue": "invalid syntax. Perhaps you forgot a comma? (3762225557.py, line 1)",
     "output_type": "error",
     "traceback": [
      "\u001b[1;36m  Cell \u001b[1;32mIn[3], line 1\u001b[1;36m\u001b[0m\n\u001b[1;33m    if(SALDJlkASJ lkjSAKLDj lkSDL LKSADkl )and (asDhlASHD LKADklAJSLD klSADKLj )\u001b[0m\n\u001b[1;37m       ^\u001b[0m\n\u001b[1;31mSyntaxError\u001b[0m\u001b[1;31m:\u001b[0m invalid syntax. Perhaps you forgot a comma?\n"
     ]
    }
   ],
   "source": [
    "if(SALDJlkASJ lkjSAKLDj lkSDL LKSADkl )and (asDhlASHD LKADklAJSLD klSADKLj )\n",
    "or(ASKLDjlASd lkASNDlknaS lkANSDLKnSA lkNASKLDn lkNSKDL)\n",
    "                                            and(sfsdfDSfm; LSKnfklF LASKdsad klSJklJSd lkANSKD)"
   ]
  },
  {
   "cell_type": "code",
   "execution_count": 5,
   "metadata": {},
   "outputs": [
    {
     "data": {
      "text/plain": [
       "45"
      ]
     },
     "execution_count": 5,
     "metadata": {},
     "output_type": "execute_result"
    }
   ],
   "source": [
    "(1+2+3+4\n",
    "+5+6+7\n",
    "+8+9)"
   ]
  },
  {
   "cell_type": "code",
   "execution_count": 7,
   "metadata": {},
   "outputs": [
    {
     "data": {
      "text/plain": [
       "45"
      ]
     },
     "execution_count": 7,
     "metadata": {},
     "output_type": "execute_result"
    }
   ],
   "source": [
    "1+2+3+4 \\\n",
    "+5+6+7\\\n",
    "+8+9"
   ]
  },
  {
   "cell_type": "code",
   "execution_count": null,
   "metadata": {},
   "outputs": [],
   "source": []
  },
  {
   "cell_type": "code",
   "execution_count": null,
   "metadata": {},
   "outputs": [],
   "source": []
  },
  {
   "cell_type": "markdown",
   "metadata": {},
   "source": [
    "## 2. Python Indentation\n",
    "\n",
    "No spaces or tab characters allowed at the start of a statement: Indentation plays a special role in Python (see the section on control statements). For now simply ensure that all statements start at the beginning of the line.\n",
    "\n",
    "<div>\n",
    "<img src=\"img/ind1.png\" width=\"700\"/>\n",
    "</div>\n",
    "\n",
    "Most of the programming languages like C, C++, and Java use braces **`{ }`** to define a block of code. Python, however, uses indentation.\n",
    "\n",
    "A comparison of C & Python will help you understand it better.\n",
    "\n",
    "<div>\n",
    "<img src=\"img/ind2.png\" width=\"700\"/>\n",
    "</div>\n",
    "\n",
    "\n",
    "Generally, four whitespaces are used for indentation and are preferred over tabs. Here is an example.\n",
    "\n",
    "> **In the case of Python, indentation is not for styling purpose. It is rather a requirement for your code to get compiled and executed. Thus it is mandatory!!!**"
   ]
  },
  {
   "cell_type": "code",
   "execution_count": null,
   "metadata": {},
   "outputs": [],
   "source": [
    "a = 5\n",
    "if a>4:\n",
    "    print()\n",
    "\n"
   ]
  },
  {
   "cell_type": "code",
   "execution_count": null,
   "metadata": {},
   "outputs": [],
   "source": [
    "if a>4\n",
    "print()"
   ]
  },
  {
   "cell_type": "markdown",
   "metadata": {},
   "source": [
    "## 3. Python Comments\n",
    "\n",
    "Comments are very important while writing a program. They describe what is going on inside a program, so that a person looking at the source code does not have a hard time figuring it out.\n",
    "\n",
    "You might forget the key details of the program you just wrote in a month's time. So taking the time to explain these concepts in the form of comments is always fruitful.\n",
    "\n",
    "In Python, we use the hash **`#`** symbol to start writing a comment.\n",
    "\n",
    "It extends up to the newline character. Comments are for programmers to better understand a program. Python Interpreter ignores comments.\n",
    "\n",
    "Generally, comments will look something like this:\n",
    "\n",
    "```python\n",
    "#This is a Comment\n",
    "```\n",
    "\n",
    "Because comments do not **execute**, when you run a program you will not see any indication of the comment there. Comments are in the source code for **humans** to **read**, not for **computers to execute**."
   ]
  },
  {
   "cell_type": "markdown",
   "metadata": {},
   "source": [
    "### 1. Single lined comment:\n",
    "In case user wants to specify a single line comment, then comment must start with **`#`**.\n",
    "\n",
    "```python\n",
    "#This is single line comment.\n",
    "```"
   ]
  },
  {
   "cell_type": "code",
   "execution_count": 9,
   "metadata": {},
   "outputs": [],
   "source": [
    "###########"
   ]
  },
  {
   "cell_type": "code",
   "execution_count": null,
   "metadata": {},
   "outputs": [],
   "source": [
    "#this is a sta"
   ]
  },
  {
   "cell_type": "code",
   "execution_count": null,
   "metadata": {},
   "outputs": [],
   "source": []
  },
  {
   "cell_type": "markdown",
   "metadata": {},
   "source": [
    "### 2. Inline comments\n",
    "If a comment is placed on the same line as a statement, it is called an inline comment. Similar to the block comment, an inline comment begins with a single hash (#) sign and followed by a space and comment.\n",
    "\n",
    "It is recommended that an inline comment should separate from the statement at least **two spaces**. The following example demonstrates an inline comment\n",
    "\n",
    "```python\n",
    ">>>n+=1  # increase/add n by 1\n",
    "```"
   ]
  },
  {
   "cell_type": "code",
   "execution_count": null,
   "metadata": {},
   "outputs": [],
   "source": [
    "a = 5 # this is a clas"
   ]
  },
  {
   "cell_type": "code",
   "execution_count": null,
   "metadata": {},
   "outputs": [],
   "source": []
  },
  {
   "cell_type": "code",
   "execution_count": null,
   "metadata": {},
   "outputs": [],
   "source": []
  },
  {
   "cell_type": "markdown",
   "metadata": {},
   "source": [
    "### 3. Multi lined comment:\n",
    "\n",
    "We can have comments that extend up to multiple lines. One way is to use the hash **`#`** symbol at the beginning of each line. For example:"
   ]
  },
  {
   "cell_type": "code",
   "execution_count": 12,
   "metadata": {},
   "outputs": [],
   "source": [
    "#askjdhaskjhdakj\n",
    "#asdnkasndkasjdkj\n",
    "#absaskdna\n",
    "a=5\n",
    "b=\"ajantha\""
   ]
  },
  {
   "cell_type": "code",
   "execution_count": null,
   "metadata": {},
   "outputs": [],
   "source": []
  },
  {
   "cell_type": "markdown",
   "metadata": {},
   "source": [
    "### 4. Docstrings in Python\n",
    "\n",
    "A docstring is short for documentation string.\n",
    "\n",
    "\n",
    "Triple quotes are used while writing docstrings. For example:\n",
    "\n",
    "```python\n",
    ">>>def double(num):\n",
    ">>>    \"\"\"Function to double the value\"\"\"\n",
    ">>>    return 3*num\n",
    "```\n",
    "\n",
    "Docstrings appear right after the definition of a function, class, or a module. This separates docstrings from multiline comments using triple quotes.\n",
    "\n",
    "The docstrings are associated with the object as their **`__doc__`** attribute.\n",
    "\n",
    "So, we can access the docstrings of the above function with the following lines of code:"
   ]
  },
  {
   "cell_type": "markdown",
   "metadata": {},
   "source": [
    "## Help topics\n",
    "\n",
    "Python has extensive help built in. You can execute **`help()`** for an overview or **`help(x)`** for any library, object or type **`x`**. Try using **`help(\"topics\")`** to get a list of help pages built into the help system.\n",
    "\n",
    "`help(\"topics\")`"
   ]
  },
  {
   "cell_type": "code",
   "execution_count": null,
   "metadata": {},
   "outputs": [],
   "source": []
  },
  {
   "cell_type": "code",
   "execution_count": null,
   "metadata": {},
   "outputs": [],
   "source": []
  }
 ],
 "metadata": {
  "hide_input": false,
  "kernelspec": {
   "display_name": "Python [conda env:base] *",
   "language": "python",
   "name": "conda-base-py"
  },
  "language_info": {
   "codemirror_mode": {
    "name": "ipython",
    "version": 3
   },
   "file_extension": ".py",
   "mimetype": "text/x-python",
   "name": "python",
   "nbconvert_exporter": "python",
   "pygments_lexer": "ipython3",
   "version": "3.12.4"
  },
  "toc": {
   "base_numbering": 1,
   "nav_menu": {},
   "number_sections": true,
   "sideBar": true,
   "skip_h1_title": false,
   "title_cell": "Table of Contents",
   "title_sidebar": "Contents",
   "toc_cell": false,
   "toc_position": {},
   "toc_section_display": true,
   "toc_window_display": false
  },
  "varInspector": {
   "cols": {
    "lenName": 16,
    "lenType": 16,
    "lenVar": 40
   },
   "kernels_config": {
    "python": {
     "delete_cmd_postfix": "",
     "delete_cmd_prefix": "del ",
     "library": "var_list.py",
     "varRefreshCmd": "print(var_dic_list())"
    },
    "r": {
     "delete_cmd_postfix": ") ",
     "delete_cmd_prefix": "rm(",
     "library": "var_list.r",
     "varRefreshCmd": "cat(var_dic_list()) "
    }
   },
   "types_to_exclude": [
    "module",
    "function",
    "builtin_function_or_method",
    "instance",
    "_Feature"
   ],
   "window_display": false
  }
 },
 "nbformat": 4,
 "nbformat_minor": 4
}
