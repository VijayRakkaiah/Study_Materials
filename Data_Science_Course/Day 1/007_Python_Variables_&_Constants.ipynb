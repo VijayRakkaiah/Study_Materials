{
 "cells": [
  {
   "cell_type": "markdown",
   "metadata": {},
   "source": [
    "# Python Variables and Constants\n",
    "\n",
    "In this class, you will learn about Python variables, constants, literals and their use cases."
   ]
  },
  {
   "cell_type": "markdown",
   "metadata": {},
   "source": [
    "# 1. Python Variables\n",
    "\n",
    "A variable is a named location used to **store data in the memory**. Variable also known as **identifier** and used to hold value. It is helpful to think of variables as a container that holds data that can be changed later in the program. **Mnemonic** variables are recommended to use in many programming languages. A mnemonic variable is a variable name that can be easily remembered and associated. A variable refers to a memory address in which data is stored. For example,\n",
    "\n",
    "```python\n",
    ">>>number = 90\n",
    "```\n",
    "\n",
    "Here, we have created a variable named **`number`**. We have assigned the value **`10`** to the variable.\n",
    "\n",
    "You can think of variables as a bag to store books in it and that book can be replaced at any time.\n",
    "\n",
    "```python\n",
    ">>>number = 90\n",
    ">>>number = 9.1\n",
    "```\n",
    "\n",
    "Initially, the value of number was **`90`**. Later, it was changed to **`9.1`**.\n",
    "\n",
    "> **Note**: In Python, we don't actually assign values to the variables. Instead, Python gives the reference of the object(value) to the variable.\n",
    "\n",
    "In Python, we don't need to specify the type of variable because Python is a **type infer language** and smart enough to get variable type. \n",
    "\n",
    "Python Variable Name Rules\n",
    "\n",
    "- A variable name must start with a **letter** **`A`**-**`z`** or the **underscore** **`_`** character\n",
    "- A variable name cannot start with a **number** **`0`**-**`9`**\n",
    "- A variable name can only contain alpha-numeric characters and underscores (**`A`**-**`z`**, **`0`**-**`9`**, and **`_`** )\n",
    "- Variable names are case-sensitive (**`firstname`**, **`Firstname`**, **`FirstName`** and **`FIRSTNAME`**) are different variables). It is recomended to use lowercase letters for variable name."
   ]
  },
  {
   "cell_type": "markdown",
   "metadata": {},
   "source": [
    "#### Let us see valid variable names\n",
    "\n",
    "```python\n",
    "firstname\n",
    "lastname\n",
    "age\n",
    "country\n",
    "city\n",
    "first_name\n",
    "last_name\n",
    "capital_city\n",
    "_if          # if we want to use reserved word as a variable\n",
    "year_2021\n",
    "year2021\n",
    "current_year_2021\n",
    "birth_year\n",
    "num1\n",
    "num2\n",
    "```\n",
    "\n",
    "Invalid variables names:\n",
    "\n",
    "```python\n",
    "first-name\n",
    "first@name\n",
    "first$name\n",
    "num-1\n",
    "1num\n",
    "```\n",
    "\n",
    "We will use standard Python variable naming style which has been adopted by many Python developers. Python developers use snake case(snake_case) variable naming convention. We use underscore character after each word for a variable containing more than one word (eg. **`first_name`**, **`last_name`**, **`engine_rotation_speed`**).  The example below is an example of standard naming of variables, underscore is required when the variable name is more than one word.\n",
    "\n",
    "When we assign a certain data type to a variable, it is called variable declaration. For instance in the example below my first name is assigned to a variable **`first_name`**. The equal sign is an assignment operator. Assigning means storing data in the variable. The equal sign in Python is not equality as in Mathematics."
   ]
  },
  {
   "cell_type": "markdown",
   "metadata": {},
   "source": [
    "### Assigning values to Variables in Python\n",
    "\n",
    "Think of a variable as a name attached to a particular object. In Python, variables need not be declared or defined in advance, as is the case in many other programming languages. \n",
    "\n",
    "As you can see from the above example, you can use the assignment operator **`=`** to assign a value to a variable."
   ]
  },
  {
   "cell_type": "markdown",
   "metadata": {},
   "source": [
    "#### Example 1: Declaring and assigning value to a variable"
   ]
  },
  {
   "cell_type": "code",
   "execution_count": 1,
   "metadata": {},
   "outputs": [],
   "source": [
    "a = 5\n",
    "b = 7.5"
   ]
  },
  {
   "cell_type": "code",
   "execution_count": null,
   "metadata": {},
   "outputs": [],
   "source": []
  },
  {
   "cell_type": "markdown",
   "metadata": {},
   "source": [
    "#### Example 2: Declaring multiple variables in one line** using comma  **`,`**  and semicolon **`;`**"
   ]
  },
  {
   "cell_type": "code",
   "execution_count": 3,
   "metadata": {},
   "outputs": [],
   "source": [
    "a = 5;b=7.5"
   ]
  },
  {
   "cell_type": "code",
   "execution_count": 5,
   "metadata": {},
   "outputs": [],
   "source": [
    "a,b,c,d = 5,7.6,\"ajan\", 6"
   ]
  },
  {
   "cell_type": "code",
   "execution_count": 7,
   "metadata": {},
   "outputs": [
    {
     "name": "stdout",
     "output_type": "stream",
     "text": [
      "5\n",
      "7.6\n",
      "ajan\n",
      "6\n"
     ]
    }
   ],
   "source": [
    "print(a)\n",
    "print(b)\n",
    "print(c)\n",
    "print(d)"
   ]
  },
  {
   "cell_type": "code",
   "execution_count": 9,
   "metadata": {},
   "outputs": [
    {
     "ename": "SyntaxError",
     "evalue": "cannot mix bytes and nonbytes literals (3628960030.py, line 1)",
     "output_type": "error",
     "traceback": [
      "\u001b[1;36m  Cell \u001b[1;32mIn[9], line 1\u001b[1;36m\u001b[0m\n\u001b[1;33m    print(a\"\\n\"b\"\\n\"c\"\\n\"d)\u001b[0m\n\u001b[1;37m                    ^\u001b[0m\n\u001b[1;31mSyntaxError\u001b[0m\u001b[1;31m:\u001b[0m cannot mix bytes and nonbytes literals\n"
     ]
    }
   ],
   "source": [
    "print(a,b,c,d)"
   ]
  },
  {
   "cell_type": "code",
   "execution_count": 11,
   "metadata": {},
   "outputs": [
    {
     "name": "stdout",
     "output_type": "stream",
     "text": [
      "5 \n",
      " 2.5 \n",
      " ajay \n",
      " 6.2\n"
     ]
    }
   ],
   "source": [
    "a,b,c,d=5,2.5,\"ajay\",6.2\n",
    "print(a,\"\\n\",b,\"\\n\",c,\"\\n\",d)"
   ]
  },
  {
   "cell_type": "code",
   "execution_count": 15,
   "metadata": {},
   "outputs": [
    {
     "name": "stdout",
     "output_type": "stream",
     "text": [
      "\n",
      " 5 \n",
      " 2.5 \n",
      " ajay \n",
      " 6.2\n"
     ]
    }
   ],
   "source": [
    "print(\"\\n\",a,\"\\n\",b,\"\\n\",c,\"\\n\",d)"
   ]
  },
  {
   "cell_type": "markdown",
   "metadata": {},
   "source": [
    "#### Example 3: Changing the value of a variable"
   ]
  },
  {
   "cell_type": "code",
   "execution_count": null,
   "metadata": {},
   "outputs": [],
   "source": []
  },
  {
   "cell_type": "markdown",
   "metadata": {},
   "source": [
    "# 2. Constants\n",
    "\n",
    "A constant is a type of variable whose value cannot be changed. It is helpful to think of constants as containers that hold information which cannot be changed later.\n",
    "\n",
    "You can think of constants as a bag to store some books which cannot be replaced once placed inside the bag."
   ]
  },
  {
   "cell_type": "code",
   "execution_count": 17,
   "metadata": {},
   "outputs": [
    {
     "ename": "NameError",
     "evalue": "name 'PI' is not defined",
     "output_type": "error",
     "traceback": [
      "\u001b[1;31m---------------------------------------------------------------------------\u001b[0m",
      "\u001b[1;31mNameError\u001b[0m                                 Traceback (most recent call last)",
      "Cell \u001b[1;32mIn[17], line 1\u001b[0m\n\u001b[1;32m----> 1\u001b[0m PI\n",
      "\u001b[1;31mNameError\u001b[0m: name 'PI' is not defined"
     ]
    }
   ],
   "source": [
    "PI"
   ]
  },
  {
   "cell_type": "markdown",
   "metadata": {},
   "source": [
    "### Assigning value to constant in Python\n",
    "\n",
    "In Python, constants are usually declared and assigned in a module. Here, the module is a new file containing variables, functions, etc which is imported to the main file. Inside the module, constants are written in all capital letters and underscores separating the words."
   ]
  },
  {
   "cell_type": "markdown",
   "metadata": {},
   "source": [
    "#### Example 1: Declaring and assigning value to a constant\n",
    "\n",
    "Create a **constant.py**:\n",
    "\n",
    "```python\n",
    ">>>PI = 3.14\n",
    ">>>GRAVITY = 9.8\n",
    "```\n",
    "\n",
    "Create a **main.py**:\n",
    "\n",
    "```python\n",
    ">>>import constant\n",
    ">>>print(constant.PI)\n",
    ">>>print(constant.GRAVITY)\n",
    "\n",
    "3.14\n",
    "9.8\n",
    "```\n",
    "\n",
    "In the above program, we create a **constant.py** module file. Then, we assign the constant value to **`PI`** and **`GRAVITY`**. After that, we create a **main.py** file and import the **`constant`** module. Finally, we print the constant value.\n",
    "\n",
    "> **Note**: In reality, we don't use constants in Python. Naming them in all capital letters is a convention to separate them from variables, however, it does not actually prevent reassignment."
   ]
  },
  {
   "cell_type": "code",
   "execution_count": 19,
   "metadata": {},
   "outputs": [],
   "source": [
    "import const"
   ]
  },
  {
   "cell_type": "code",
   "execution_count": 21,
   "metadata": {},
   "outputs": [
    {
     "data": {
      "text/plain": [
       "'ajantha'"
      ]
     },
     "execution_count": 21,
     "metadata": {},
     "output_type": "execute_result"
    }
   ],
   "source": [
    "const.PI"
   ]
  },
  {
   "cell_type": "code",
   "execution_count": 23,
   "metadata": {},
   "outputs": [
    {
     "data": {
      "text/plain": [
       "100"
      ]
     },
     "execution_count": 23,
     "metadata": {},
     "output_type": "execute_result"
    }
   ],
   "source": [
    "const.a"
   ]
  },
  {
   "cell_type": "code",
   "execution_count": 25,
   "metadata": {},
   "outputs": [
    {
     "ename": "NameError",
     "evalue": "name 'PI' is not defined",
     "output_type": "error",
     "traceback": [
      "\u001b[1;31m---------------------------------------------------------------------------\u001b[0m",
      "\u001b[1;31mNameError\u001b[0m                                 Traceback (most recent call last)",
      "Cell \u001b[1;32mIn[25], line 1\u001b[0m\n\u001b[1;32m----> 1\u001b[0m PI\n",
      "\u001b[1;31mNameError\u001b[0m: name 'PI' is not defined"
     ]
    }
   ],
   "source": [
    "PI"
   ]
  },
  {
   "cell_type": "code",
   "execution_count": 27,
   "metadata": {},
   "outputs": [
    {
     "data": {
      "text/plain": [
       "'ajantha'"
      ]
     },
     "execution_count": 27,
     "metadata": {},
     "output_type": "execute_result"
    }
   ],
   "source": [
    "const.PI"
   ]
  },
  {
   "cell_type": "code",
   "execution_count": null,
   "metadata": {},
   "outputs": [],
   "source": []
  }
 ],
 "metadata": {
  "hide_input": false,
  "kernelspec": {
   "display_name": "Python [conda env:base] *",
   "language": "python",
   "name": "conda-base-py"
  },
  "language_info": {
   "codemirror_mode": {
    "name": "ipython",
    "version": 3
   },
   "file_extension": ".py",
   "mimetype": "text/x-python",
   "name": "python",
   "nbconvert_exporter": "python",
   "pygments_lexer": "ipython3",
   "version": "3.12.4"
  },
  "toc": {
   "base_numbering": 1,
   "nav_menu": {},
   "number_sections": true,
   "sideBar": true,
   "skip_h1_title": false,
   "title_cell": "Table of Contents",
   "title_sidebar": "Contents",
   "toc_cell": false,
   "toc_position": {},
   "toc_section_display": true,
   "toc_window_display": false
  },
  "varInspector": {
   "cols": {
    "lenName": 16,
    "lenType": 16,
    "lenVar": 40
   },
   "kernels_config": {
    "python": {
     "delete_cmd_postfix": "",
     "delete_cmd_prefix": "del ",
     "library": "var_list.py",
     "varRefreshCmd": "print(var_dic_list())"
    },
    "r": {
     "delete_cmd_postfix": ") ",
     "delete_cmd_prefix": "rm(",
     "library": "var_list.r",
     "varRefreshCmd": "cat(var_dic_list()) "
    }
   },
   "types_to_exclude": [
    "module",
    "function",
    "builtin_function_or_method",
    "instance",
    "_Feature"
   ],
   "window_display": false
  }
 },
 "nbformat": 4,
 "nbformat_minor": 4
}
