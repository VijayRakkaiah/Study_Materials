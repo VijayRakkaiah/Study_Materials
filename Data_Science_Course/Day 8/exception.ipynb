{
 "cells": [
  {
   "cell_type": "code",
   "execution_count": 3,
   "id": "fbf01f89-25b3-4b2f-aa23-f2a3225df40a",
   "metadata": {},
   "outputs": [],
   "source": [
    "def divide_num(a,b):\n",
    "    result = a/b\n",
    "    print(result)"
   ]
  },
  {
   "cell_type": "code",
   "execution_count": 5,
   "id": "cbe6dbd5-181e-4cf5-84b2-d42240279cab",
   "metadata": {},
   "outputs": [
    {
     "name": "stdout",
     "output_type": "stream",
     "text": [
      "0.5\n"
     ]
    }
   ],
   "source": [
    "divide_num(5,10)"
   ]
  },
  {
   "cell_type": "code",
   "execution_count": 9,
   "id": "4abcd45e-434c-4ab6-9c4e-e78e103edb11",
   "metadata": {},
   "outputs": [
    {
     "ename": "ZeroDivisionError",
     "evalue": "division by zero",
     "output_type": "error",
     "traceback": [
      "\u001b[1;31m---------------------------------------------------------------------------\u001b[0m",
      "\u001b[1;31mZeroDivisionError\u001b[0m                         Traceback (most recent call last)",
      "Cell \u001b[1;32mIn[9], line 1\u001b[0m\n\u001b[1;32m----> 1\u001b[0m divide_num(\u001b[38;5;241m5\u001b[39m,\u001b[38;5;241m0\u001b[39m)\n",
      "Cell \u001b[1;32mIn[3], line 2\u001b[0m, in \u001b[0;36mdivide_num\u001b[1;34m(a, b)\u001b[0m\n\u001b[0;32m      1\u001b[0m \u001b[38;5;28;01mdef\u001b[39;00m \u001b[38;5;21mdivide_num\u001b[39m(a,b):\n\u001b[1;32m----> 2\u001b[0m     result \u001b[38;5;241m=\u001b[39m a\u001b[38;5;241m/\u001b[39mb\n\u001b[0;32m      3\u001b[0m     \u001b[38;5;28mprint\u001b[39m(result)\n",
      "\u001b[1;31mZeroDivisionError\u001b[0m: division by zero"
     ]
    }
   ],
   "source": [
    "divide_num(5,0)"
   ]
  },
  {
   "cell_type": "code",
   "execution_count": 11,
   "id": "9900c618-4700-42f9-9a04-34023cb87e51",
   "metadata": {},
   "outputs": [],
   "source": [
    "def divide_num_1(a,b):\n",
    "    result = a/b\n",
    "    print(resutl)"
   ]
  },
  {
   "cell_type": "code",
   "execution_count": 13,
   "id": "cb19a27f-285c-4dc2-bf44-b6b8a2c7e804",
   "metadata": {},
   "outputs": [
    {
     "ename": "ZeroDivisionError",
     "evalue": "division by zero",
     "output_type": "error",
     "traceback": [
      "\u001b[1;31m---------------------------------------------------------------------------\u001b[0m",
      "\u001b[1;31mZeroDivisionError\u001b[0m                         Traceback (most recent call last)",
      "Cell \u001b[1;32mIn[13], line 1\u001b[0m\n\u001b[1;32m----> 1\u001b[0m divide_num_1(\u001b[38;5;241m5\u001b[39m,\u001b[38;5;241m0\u001b[39m)\n",
      "Cell \u001b[1;32mIn[11], line 2\u001b[0m, in \u001b[0;36mdivide_num_1\u001b[1;34m(a, b)\u001b[0m\n\u001b[0;32m      1\u001b[0m \u001b[38;5;28;01mdef\u001b[39;00m \u001b[38;5;21mdivide_num_1\u001b[39m(a,b):\n\u001b[1;32m----> 2\u001b[0m     result \u001b[38;5;241m=\u001b[39m a\u001b[38;5;241m/\u001b[39mb\n\u001b[0;32m      3\u001b[0m     \u001b[38;5;28mprint\u001b[39m(resutl)\n",
      "\u001b[1;31mZeroDivisionError\u001b[0m: division by zero"
     ]
    }
   ],
   "source": [
    "divide_num_1(5,0)"
   ]
  },
  {
   "cell_type": "code",
   "execution_count": 15,
   "id": "f9e89c36-6f65-4463-bc9b-ad7564d8c281",
   "metadata": {},
   "outputs": [
    {
     "ename": "NameError",
     "evalue": "name 'resutl' is not defined",
     "output_type": "error",
     "traceback": [
      "\u001b[1;31m---------------------------------------------------------------------------\u001b[0m",
      "\u001b[1;31mNameError\u001b[0m                                 Traceback (most recent call last)",
      "Cell \u001b[1;32mIn[15], line 1\u001b[0m\n\u001b[1;32m----> 1\u001b[0m divide_num_1(\u001b[38;5;241m5\u001b[39m,\u001b[38;5;241m10\u001b[39m)\n",
      "Cell \u001b[1;32mIn[11], line 3\u001b[0m, in \u001b[0;36mdivide_num_1\u001b[1;34m(a, b)\u001b[0m\n\u001b[0;32m      1\u001b[0m \u001b[38;5;28;01mdef\u001b[39;00m \u001b[38;5;21mdivide_num_1\u001b[39m(a,b):\n\u001b[0;32m      2\u001b[0m     result \u001b[38;5;241m=\u001b[39m a\u001b[38;5;241m/\u001b[39mb\n\u001b[1;32m----> 3\u001b[0m     \u001b[38;5;28mprint\u001b[39m(resutl)\n",
      "\u001b[1;31mNameError\u001b[0m: name 'resutl' is not defined"
     ]
    }
   ],
   "source": [
    "divide_num_1(5,10)"
   ]
  },
  {
   "cell_type": "code",
   "execution_count": 17,
   "id": "747ed2e2-cfdb-4b4c-b12a-f3ec6ee4a06c",
   "metadata": {},
   "outputs": [],
   "source": [
    "def divide_num_2(a,b):\n",
    "    try:\n",
    "        result = a/b\n",
    "        print(resutl)\n",
    "    except:\n",
    "        print(\"an exception happend\")"
   ]
  },
  {
   "cell_type": "code",
   "execution_count": 19,
   "id": "bd31631a-5a1b-42cd-97d9-d8dde1ab739f",
   "metadata": {},
   "outputs": [
    {
     "name": "stdout",
     "output_type": "stream",
     "text": [
      "an exception happend\n"
     ]
    }
   ],
   "source": [
    "divide_num_2(5,0)"
   ]
  },
  {
   "cell_type": "code",
   "execution_count": 21,
   "id": "2b51049f-6807-4155-ba79-8be7d084a548",
   "metadata": {},
   "outputs": [
    {
     "name": "stdout",
     "output_type": "stream",
     "text": [
      "an exception happend\n"
     ]
    }
   ],
   "source": [
    "divide_num_2(5,10)"
   ]
  },
  {
   "cell_type": "code",
   "execution_count": 25,
   "id": "2ec24af4-9559-4aa9-a591-f2104451647a",
   "metadata": {},
   "outputs": [],
   "source": [
    "def divide_num_3(a,b):\n",
    "    try:\n",
    "        result = a/b\n",
    "        print(resutl)\n",
    "    except Exception as e:\n",
    "        print(e)"
   ]
  },
  {
   "cell_type": "code",
   "execution_count": 27,
   "id": "a8037ca9-1dfd-45ac-a29e-9edaa73a440a",
   "metadata": {},
   "outputs": [
    {
     "name": "stdout",
     "output_type": "stream",
     "text": [
      "division by zero\n"
     ]
    }
   ],
   "source": [
    "divide_num_3(5,0)"
   ]
  },
  {
   "cell_type": "code",
   "execution_count": 29,
   "id": "ed180249-da7b-4c2b-a907-df44d8c5d6ad",
   "metadata": {},
   "outputs": [
    {
     "name": "stdout",
     "output_type": "stream",
     "text": [
      "name 'resutl' is not defined\n"
     ]
    }
   ],
   "source": [
    "divide_num_3(5,10)"
   ]
  },
  {
   "cell_type": "code",
   "execution_count": 31,
   "id": "5eeebe41-10ae-479f-98fd-ff9fce80413b",
   "metadata": {},
   "outputs": [
    {
     "ename": "SyntaxError",
     "evalue": "incomplete input (2195446755.py, line 4)",
     "output_type": "error",
     "traceback": [
      "\u001b[1;36m  Cell \u001b[1;32mIn[31], line 4\u001b[1;36m\u001b[0m\n\u001b[1;33m    print(resutl)\u001b[0m\n\u001b[1;37m                 ^\u001b[0m\n\u001b[1;31mSyntaxError\u001b[0m\u001b[1;31m:\u001b[0m incomplete input\n"
     ]
    }
   ],
   "source": [
    "def divide_num_2(a,b):\n",
    "    try:\n",
    "        result = a/b\n",
    "        print(resutl)"
   ]
  },
  {
   "cell_type": "code",
   "execution_count": 33,
   "id": "acde0992-8d41-4f69-81a0-bb45c6d0a49e",
   "metadata": {},
   "outputs": [],
   "source": [
    "def divide_num_4(a,b):\n",
    "    try:\n",
    "        result = a/b\n",
    "        print(resutl)\n",
    "    except NameError:\n",
    "        print(\"the variable you defined is not same as you use\")\n",
    "    except ZeroDivisionError:\n",
    "        print(\"any number division by zero is not accepted\")"
   ]
  },
  {
   "cell_type": "code",
   "execution_count": 35,
   "id": "a5b346c4-e248-47a9-97fb-707b1769b15d",
   "metadata": {},
   "outputs": [
    {
     "name": "stdout",
     "output_type": "stream",
     "text": [
      "any number division by zero is not accepted\n"
     ]
    }
   ],
   "source": [
    "divide_num_4(5,0)"
   ]
  },
  {
   "cell_type": "code",
   "execution_count": 37,
   "id": "ed73ba2f-5f7d-4954-b53e-e8e4ccbff51a",
   "metadata": {},
   "outputs": [
    {
     "name": "stdout",
     "output_type": "stream",
     "text": [
      "the variable you defined is not same as you use\n"
     ]
    }
   ],
   "source": [
    "divide_num_4(5,10)"
   ]
  },
  {
   "cell_type": "code",
   "execution_count": 39,
   "id": "ce2240e2-1729-4268-8969-982c9797857f",
   "metadata": {},
   "outputs": [],
   "source": [
    "def divide_num_5(a,b):\n",
    "    try:\n",
    "        result = a/b\n",
    "        print(resutl)\n",
    "    except NameError:\n",
    "        print(\"the variable you defined is not same as you use\")\n",
    "    except ZeroDivisionError:\n",
    "        print(\"any number division by zero is not accepted\")\n",
    "    finally:\n",
    "        print(\"this will be called/ used at the end of the prg\")"
   ]
  },
  {
   "cell_type": "code",
   "execution_count": 41,
   "id": "1294bcbb-cc2c-49c3-9247-ce8a858dc788",
   "metadata": {},
   "outputs": [
    {
     "name": "stdout",
     "output_type": "stream",
     "text": [
      "any number division by zero is not accepted\n",
      "this will be called/ used at the end of the prg\n"
     ]
    }
   ],
   "source": [
    "divide_num_5(5,0)"
   ]
  },
  {
   "cell_type": "code",
   "execution_count": 43,
   "id": "ac7b22cc-bce9-4285-8b30-5496f7c808e3",
   "metadata": {},
   "outputs": [
    {
     "name": "stdout",
     "output_type": "stream",
     "text": [
      "the variable you defined is not same as you use\n",
      "this will be called/ used at the end of the prg\n"
     ]
    }
   ],
   "source": [
    "divide_num_5(5,10)"
   ]
  },
  {
   "cell_type": "code",
   "execution_count": 45,
   "id": "1842c30d-26b0-460e-9ab9-7bde8ed51402",
   "metadata": {},
   "outputs": [],
   "source": [
    "def divide_num_6(a,b):\n",
    "    try:\n",
    "        result = a/b\n",
    "        print(result)\n",
    "    except NameError:\n",
    "        print(\"the variable you defined is not same as you use\")\n",
    "    except ZeroDivisionError:\n",
    "        print(\"any number division by zero is not accepted\")\n",
    "    finally:\n",
    "        print(\"this will be called/ used at the end of the prg\")"
   ]
  },
  {
   "cell_type": "code",
   "execution_count": 47,
   "id": "85fd743e-9f70-48ac-92cd-71b5e1f255ea",
   "metadata": {},
   "outputs": [
    {
     "name": "stdout",
     "output_type": "stream",
     "text": [
      "0.5\n",
      "this will be called/ used at the end of the prg\n"
     ]
    }
   ],
   "source": [
    "divide_num_6(5,10)"
   ]
  },
  {
   "cell_type": "code",
   "execution_count": 49,
   "id": "c78ea4cc-8b59-409e-93d6-d8c14e93d964",
   "metadata": {},
   "outputs": [
    {
     "ename": "NameError",
     "evalue": "name 'age' is not defined",
     "output_type": "error",
     "traceback": [
      "\u001b[1;31m---------------------------------------------------------------------------\u001b[0m",
      "\u001b[1;31mNameError\u001b[0m                                 Traceback (most recent call last)",
      "Cell \u001b[1;32mIn[49], line 1\u001b[0m\n\u001b[1;32m----> 1\u001b[0m \u001b[38;5;28mprint\u001b[39m(age)\n",
      "\u001b[1;31mNameError\u001b[0m: name 'age' is not defined"
     ]
    }
   ],
   "source": [
    "print(age)"
   ]
  },
  {
   "cell_type": "code",
   "execution_count": null,
   "id": "39c9718e-356e-40b7-8bdf-1fc1e9ac00dd",
   "metadata": {},
   "outputs": [],
   "source": []
  }
 ],
 "metadata": {
  "kernelspec": {
   "display_name": "Python [conda env:base] *",
   "language": "python",
   "name": "conda-base-py"
  },
  "language_info": {
   "codemirror_mode": {
    "name": "ipython",
    "version": 3
   },
   "file_extension": ".py",
   "mimetype": "text/x-python",
   "name": "python",
   "nbconvert_exporter": "python",
   "pygments_lexer": "ipython3",
   "version": "3.12.4"
  }
 },
 "nbformat": 4,
 "nbformat_minor": 5
}
