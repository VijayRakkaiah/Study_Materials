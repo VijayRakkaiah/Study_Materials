{
 "cells": [
  {
   "cell_type": "code",
   "execution_count": 1,
   "id": "3a993fde-2da0-4af1-a076-0057bda1ba42",
   "metadata": {},
   "outputs": [],
   "source": [
    "from textblob import TextBlob"
   ]
  },
  {
   "cell_type": "code",
   "execution_count": 3,
   "id": "4af8bc56-19b9-47a4-a396-d5dc30fd5d3a",
   "metadata": {},
   "outputs": [],
   "source": [
    "# pip install textblob"
   ]
  },
  {
   "cell_type": "code",
   "execution_count": 5,
   "id": "b82eeb33-988a-4ea9-b168-2728a571a206",
   "metadata": {},
   "outputs": [],
   "source": [
    "import nltk"
   ]
  },
  {
   "cell_type": "code",
   "execution_count": 7,
   "id": "851bac68-90de-4af1-b3e1-89b25cf698dd",
   "metadata": {},
   "outputs": [],
   "source": [
    "text1 = \"i like this product. its amazing\"\n",
    "text2 = \" this is a worst product. i never recommend\"\n",
    "text3 = \"no comments\""
   ]
  },
  {
   "cell_type": "code",
   "execution_count": 9,
   "id": "b2f9c54c-acbf-4738-bd83-237566a56b56",
   "metadata": {},
   "outputs": [],
   "source": [
    "def senti_analy(text):\n",
    "    blob = TextBlob(text)\n",
    "    polarity = blob.sentiment.polarity\n",
    "    subjectivity = blob.sentiment.subjectivity\n",
    "\n",
    "    #output\n",
    "    print(f\"Text: {text}\")\n",
    "    print(f\"Polarity: {polarity}\")\n",
    "    print(f\"Subject: {subjectivity}\")\n",
    "    print(\"Sentimental: \", end = \" \")\n",
    "\n",
    "    if polarity>0:\n",
    "        print(\"Positive\")\n",
    "    elif polarity<0:\n",
    "        print(\"Negative\")\n",
    "    else:\n",
    "        print(\"Neutral\")"
   ]
  },
  {
   "cell_type": "code",
   "execution_count": 11,
   "id": "ff2a2515-b47c-41ea-9ec7-3727ca0d0c68",
   "metadata": {},
   "outputs": [
    {
     "name": "stdout",
     "output_type": "stream",
     "text": [
      "Text: i like this product. its amazing\n",
      "Polarity: 0.6000000000000001\n",
      "Subject: 0.9\n",
      "Sentimental:  Positive\n"
     ]
    }
   ],
   "source": [
    "senti_analy(text1)"
   ]
  },
  {
   "cell_type": "code",
   "execution_count": 13,
   "id": "30c40d46-fc9b-4f37-972e-155b6f7dde86",
   "metadata": {},
   "outputs": [
    {
     "name": "stdout",
     "output_type": "stream",
     "text": [
      "Text:  this is a worst product. i never recommend\n",
      "Polarity: -1.0\n",
      "Subject: 1.0\n",
      "Sentimental:  Negative\n"
     ]
    }
   ],
   "source": [
    "senti_analy(text2)"
   ]
  },
  {
   "cell_type": "code",
   "execution_count": 15,
   "id": "abe70546-da06-4cb1-b2f2-cca7be35832a",
   "metadata": {},
   "outputs": [
    {
     "name": "stdout",
     "output_type": "stream",
     "text": [
      "Text: no comments\n",
      "Polarity: 0.0\n",
      "Subject: 0.0\n",
      "Sentimental:  Neutral\n"
     ]
    }
   ],
   "source": [
    "senti_analy(text3)"
   ]
  },
  {
   "cell_type": "code",
   "execution_count": 19,
   "id": "09b2cf95-2731-4d9d-89ff-121b5763bbf1",
   "metadata": {},
   "outputs": [
    {
     "name": "stdout",
     "output_type": "stream",
     "text": [
      "Text: avoids vulgarity in the movie\n",
      "Polarity: 0.0\n",
      "Subject: 0.0\n",
      "Sentimental:  Neutral\n"
     ]
    }
   ],
   "source": [
    "text4 = \"avoids vulgarity in the movie\"\n",
    "senti_analy(text4)"
   ]
  },
  {
   "cell_type": "code",
   "execution_count": 21,
   "id": "7486164c-1706-406c-b55d-4237ee254772",
   "metadata": {},
   "outputs": [
    {
     "name": "stdout",
     "output_type": "stream",
     "text": [
      "Text: the movie is outstanding\n",
      "Polarity: 0.5\n",
      "Subject: 0.875\n",
      "Sentimental:  Positive\n"
     ]
    }
   ],
   "source": [
    "text5 = \"the movie is outstanding\"\n",
    "senti_analy(text5)"
   ]
  },
  {
   "cell_type": "code",
   "execution_count": 23,
   "id": "8d6440ef-461d-41e7-8ba6-a6ec1500a346",
   "metadata": {},
   "outputs": [],
   "source": [
    "# VADER => slang, emojis, short form\n",
    "# Valence Aware Dictionary and sEntiment Reasoner"
   ]
  },
  {
   "cell_type": "code",
   "execution_count": 25,
   "id": "ba5a53d6-0566-4c80-b0e6-bbe5071cb8ab",
   "metadata": {},
   "outputs": [],
   "source": [
    "from nltk.sentiment.vader import SentimentIntensityAnalyzer"
   ]
  },
  {
   "cell_type": "code",
   "execution_count": 27,
   "id": "86483d60-c241-4f17-8bd4-5bdff2fb01bb",
   "metadata": {},
   "outputs": [
    {
     "name": "stderr",
     "output_type": "stream",
     "text": [
      "[nltk_data] Downloading package vader_lexicon to\n",
      "[nltk_data]     C:\\Users\\AJANTHA\\AppData\\Roaming\\nltk_data...\n"
     ]
    },
    {
     "data": {
      "text/plain": [
       "True"
      ]
     },
     "execution_count": 27,
     "metadata": {},
     "output_type": "execute_result"
    }
   ],
   "source": [
    "# Download the VADER lexicon\n",
    "nltk.download('vader_lexicon')"
   ]
  },
  {
   "cell_type": "code",
   "execution_count": 33,
   "id": "8e739fdf-c855-4f6b-bbc8-6305ed902bea",
   "metadata": {},
   "outputs": [
    {
     "name": "stdout",
     "output_type": "stream",
     "text": [
      "Text: i like this product. its amazing\n",
      "Sentiment Score: {'neg': 0.0, 'neu': 0.323, 'pos': 0.677, 'compound': 0.743}\n",
      "Sentiment: Positive\n"
     ]
    }
   ],
   "source": [
    "\n",
    "# Initialize the SentimentIntensityAnalyzer\n",
    "sia = SentimentIntensityAnalyzer()\n",
    "\n",
    "def analyze_vader_sentiment(text):\n",
    "    sentiment_score = sia.polarity_scores(text)\n",
    "    print(f\"Text: {text}\")\n",
    "    print(f\"Sentiment Score: {sentiment_score}\")\n",
    "    \n",
    "    if sentiment_score['compound'] > 0:\n",
    "        print(\"Sentiment: Positive\")\n",
    "    elif sentiment_score['compound'] < 0:\n",
    "        print(\"Sentiment: Negative\")\n",
    "    else:\n",
    "        print(\"Sentiment: Neutral\")\n",
    "\n",
    "\n",
    "# Analyzing sentiment using VADER\n",
    "analyze_vader_sentiment(text1)\n",
    "\n"
   ]
  },
  {
   "cell_type": "code",
   "execution_count": 35,
   "id": "881d2d16-bd68-45c5-a8c0-6bd345470076",
   "metadata": {},
   "outputs": [
    {
     "name": "stdout",
     "output_type": "stream",
     "text": [
      "Text:  this is a worst product. i never recommend\n",
      "Sentiment Score: {'neg': 0.608, 'neu': 0.392, 'pos': 0.0, 'compound': -0.7359}\n",
      "Sentiment: Negative\n"
     ]
    }
   ],
   "source": [
    "analyze_vader_sentiment(text2)"
   ]
  },
  {
   "cell_type": "code",
   "execution_count": 37,
   "id": "5a01ec54-12f1-46a1-8787-8b722772037b",
   "metadata": {},
   "outputs": [
    {
     "name": "stdout",
     "output_type": "stream",
     "text": [
      "Text: no comments\n",
      "Sentiment Score: {'neg': 0.688, 'neu': 0.312, 'pos': 0.0, 'compound': -0.296}\n",
      "Sentiment: Negative\n"
     ]
    }
   ],
   "source": [
    "analyze_vader_sentiment(text3)"
   ]
  },
  {
   "cell_type": "code",
   "execution_count": null,
   "id": "d3d5d885-aadb-4244-9aac-fcc5cc1f8614",
   "metadata": {},
   "outputs": [],
   "source": []
  }
 ],
 "metadata": {
  "kernelspec": {
   "display_name": "Python [conda env:base] *",
   "language": "python",
   "name": "conda-base-py"
  },
  "language_info": {
   "codemirror_mode": {
    "name": "ipython",
    "version": 3
   },
   "file_extension": ".py",
   "mimetype": "text/x-python",
   "name": "python",
   "nbconvert_exporter": "python",
   "pygments_lexer": "ipython3",
   "version": "3.12.4"
  }
 },
 "nbformat": 4,
 "nbformat_minor": 5
}
