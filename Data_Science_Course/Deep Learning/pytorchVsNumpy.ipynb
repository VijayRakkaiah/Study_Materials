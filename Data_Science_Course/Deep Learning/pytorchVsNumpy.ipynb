{
  "nbformat": 4,
  "nbformat_minor": 0,
  "metadata": {
    "colab": {
      "provenance": []
    },
    "kernelspec": {
      "name": "python3",
      "display_name": "Python 3"
    },
    "language_info": {
      "name": "python"
    }
  },
  "cells": [
    {
      "cell_type": "code",
      "source": [
        "import torch\n",
        "\n",
        "# From data\n",
        "data = [[1, 2], [3, 4]]\n",
        "x_data = torch.tensor(data)\n",
        "\n"
      ],
      "metadata": {
        "id": "GCbkVmtdfZAZ"
      },
      "execution_count": 2,
      "outputs": []
    },
    {
      "cell_type": "code",
      "source": [
        "x_data"
      ],
      "metadata": {
        "colab": {
          "base_uri": "https://localhost:8080/"
        },
        "id": "6Czn5H8Bf3-5",
        "outputId": "0633dc19-3933-407f-88bc-5c021ede0f2c"
      },
      "execution_count": 3,
      "outputs": [
        {
          "output_type": "execute_result",
          "data": {
            "text/plain": [
              "tensor([[1, 2],\n",
              "        [3, 4]])"
            ]
          },
          "metadata": {},
          "execution_count": 3
        }
      ]
    },
    {
      "cell_type": "code",
      "source": [
        "# With random values\n",
        "x_random = torch.rand(2, 3)\n",
        "\n",
        "x_random"
      ],
      "metadata": {
        "colab": {
          "base_uri": "https://localhost:8080/"
        },
        "id": "e24cwPtpfY7M",
        "outputId": "c76778f5-309b-4ef2-cee4-c125258b6c7b"
      },
      "execution_count": 4,
      "outputs": [
        {
          "output_type": "execute_result",
          "data": {
            "text/plain": [
              "tensor([[0.5583, 0.7190, 0.0232],\n",
              "        [0.2938, 0.4707, 0.8967]])"
            ]
          },
          "metadata": {},
          "execution_count": 4
        }
      ]
    },
    {
      "cell_type": "code",
      "source": [
        "# With zeros or ones\n",
        "x_zeros = torch.zeros(2, 2)\n",
        "\n",
        "x_zeros\n",
        "\n",
        "\n"
      ],
      "metadata": {
        "colab": {
          "base_uri": "https://localhost:8080/"
        },
        "id": "uXy6wzaYfY4U",
        "outputId": "54c1532a-7a4d-4bc6-b66e-fc762e85b3b7"
      },
      "execution_count": 5,
      "outputs": [
        {
          "output_type": "execute_result",
          "data": {
            "text/plain": [
              "tensor([[0., 0.],\n",
              "        [0., 0.]])"
            ]
          },
          "metadata": {},
          "execution_count": 5
        }
      ]
    },
    {
      "cell_type": "code",
      "source": [
        "x_ones = torch.ones(2, 2)\n",
        "x_ones"
      ],
      "metadata": {
        "colab": {
          "base_uri": "https://localhost:8080/"
        },
        "id": "xNrTdiHdgQ2E",
        "outputId": "58285fea-3bf7-4e99-c95f-cbc4c121f7fe"
      },
      "execution_count": 6,
      "outputs": [
        {
          "output_type": "execute_result",
          "data": {
            "text/plain": [
              "tensor([[1., 1.],\n",
              "        [1., 1.]])"
            ]
          },
          "metadata": {},
          "execution_count": 6
        }
      ]
    },
    {
      "cell_type": "code",
      "source": [
        "\n",
        "# Identity matrix\n",
        "x_eye = torch.eye(3)"
      ],
      "metadata": {
        "id": "RIW-gYDRfepX"
      },
      "execution_count": 7,
      "outputs": []
    },
    {
      "cell_type": "code",
      "source": [
        "x_eye"
      ],
      "metadata": {
        "colab": {
          "base_uri": "https://localhost:8080/"
        },
        "id": "3LC7HaBdgcxp",
        "outputId": "2e80ce11-3383-40b2-a8f4-0dcb32d56ff5"
      },
      "execution_count": 8,
      "outputs": [
        {
          "output_type": "execute_result",
          "data": {
            "text/plain": [
              "tensor([[1., 0., 0.],\n",
              "        [0., 1., 0.],\n",
              "        [0., 0., 1.]])"
            ]
          },
          "metadata": {},
          "execution_count": 8
        }
      ]
    },
    {
      "cell_type": "code",
      "source": [
        "\n",
        "# Similar to NumPy's linspace\n",
        "x_lin = torch.linspace(0, 10, steps=5)\n",
        "x_lin"
      ],
      "metadata": {
        "colab": {
          "base_uri": "https://localhost:8080/"
        },
        "id": "TH-IzNj6femw",
        "outputId": "ef2b15c3-1ec2-476c-c76e-9c785c947745"
      },
      "execution_count": 9,
      "outputs": [
        {
          "output_type": "execute_result",
          "data": {
            "text/plain": [
              "tensor([ 0.0000,  2.5000,  5.0000,  7.5000, 10.0000])"
            ]
          },
          "metadata": {},
          "execution_count": 9
        }
      ]
    },
    {
      "cell_type": "code",
      "source": [],
      "metadata": {
        "id": "Wv04UQdSfekA"
      },
      "execution_count": 9,
      "outputs": []
    },
    {
      "cell_type": "code",
      "source": [],
      "metadata": {
        "id": "q5QxGduAfY1f"
      },
      "execution_count": 9,
      "outputs": []
    },
    {
      "cell_type": "code",
      "execution_count": 10,
      "metadata": {
        "colab": {
          "base_uri": "https://localhost:8080/"
        },
        "id": "G6Fmec2_ezo_",
        "outputId": "a3430565-7ae3-4b06-9629-5b443760a09e"
      },
      "outputs": [
        {
          "output_type": "execute_result",
          "data": {
            "text/plain": [
              "tensor([[5, 6],\n",
              "        [7, 8]])"
            ]
          },
          "metadata": {},
          "execution_count": 10
        }
      ],
      "source": [
        "# From NumPy\n",
        "import numpy as np\n",
        "np_array = np.array([[5, 6], [7, 8]])\n",
        "x_np = torch.from_numpy(np_array)\n",
        "x_np"
      ]
    },
    {
      "cell_type": "code",
      "source": [
        "print(x_data.shape)     # Dimensions\n",
        "print(x_data.dtype)     # Data type\n",
        "print(x_data.device)    # CPU or GPU\n"
      ],
      "metadata": {
        "colab": {
          "base_uri": "https://localhost:8080/"
        },
        "id": "qtW7tXqXe3m2",
        "outputId": "b26c8942-8d24-4f99-cc37-d397e868bee9"
      },
      "execution_count": 11,
      "outputs": [
        {
          "output_type": "stream",
          "name": "stdout",
          "text": [
            "torch.Size([2, 2])\n",
            "torch.int64\n",
            "cpu\n"
          ]
        }
      ]
    },
    {
      "cell_type": "code",
      "source": [
        "# Tensor operation\n",
        "# arithm\n",
        "\n",
        "x = torch.tensor([1, 2])\n",
        "y = torch.tensor([3, 4])\n",
        "\n",
        "print(x + y)            # Element-wise addition\n",
        "print(x * y)            # Element-wise multiplication\n",
        "print(x @ y)            # Dot product\n"
      ],
      "metadata": {
        "colab": {
          "base_uri": "https://localhost:8080/"
        },
        "id": "F3AMCXxre51q",
        "outputId": "f3ab2afe-1037-4343-cdad-32b06efeba4d"
      },
      "execution_count": 12,
      "outputs": [
        {
          "output_type": "stream",
          "name": "stdout",
          "text": [
            "tensor([4, 6])\n",
            "tensor([3, 8])\n",
            "tensor(11)\n"
          ]
        }
      ]
    },
    {
      "cell_type": "code",
      "source": [
        "a = torch.rand(2, 3)\n",
        "b = torch.rand(3, 4)\n",
        "print(a)\n",
        "print(b)\n",
        "c = a @ b               # Matrix multiplication\n",
        "print(c)"
      ],
      "metadata": {
        "colab": {
          "base_uri": "https://localhost:8080/"
        },
        "id": "NFU1JEjOe5zO",
        "outputId": "5fdbd94b-e457-4cc3-e211-dff171a764ff"
      },
      "execution_count": 13,
      "outputs": [
        {
          "output_type": "stream",
          "name": "stdout",
          "text": [
            "tensor([[0.8448, 0.7282, 0.9202],\n",
            "        [0.2637, 0.5066, 0.5373]])\n",
            "tensor([[0.1019, 0.2044, 0.7309, 0.1914],\n",
            "        [0.7800, 0.5222, 0.3924, 0.1248],\n",
            "        [0.0381, 0.2590, 0.4807, 0.9308]])\n",
            "tensor([[0.6892, 0.7912, 1.3456, 1.1091],\n",
            "        [0.4426, 0.4576, 0.6499, 0.6139]])\n"
          ]
        }
      ]
    },
    {
      "cell_type": "code",
      "source": [
        "x = torch.arange(12)\n",
        "print(x)\n",
        "x = x.view(3, 4)        # Reshape to 3x4\n",
        "print(x)"
      ],
      "metadata": {
        "colab": {
          "base_uri": "https://localhost:8080/"
        },
        "id": "TepY_E4Re9eo",
        "outputId": "f44f193f-bf42-4696-fe7c-da9ef79f2121"
      },
      "execution_count": 14,
      "outputs": [
        {
          "output_type": "stream",
          "name": "stdout",
          "text": [
            "tensor([ 0,  1,  2,  3,  4,  5,  6,  7,  8,  9, 10, 11])\n",
            "tensor([[ 0,  1,  2,  3],\n",
            "        [ 4,  5,  6,  7],\n",
            "        [ 8,  9, 10, 11]])\n"
          ]
        }
      ]
    },
    {
      "cell_type": "code",
      "source": [
        "x = x.view(4, 3)        # Reshape to 3x4\n",
        "print(x)"
      ],
      "metadata": {
        "colab": {
          "base_uri": "https://localhost:8080/"
        },
        "id": "AcEktf27iNJ2",
        "outputId": "ded660b8-7def-4691-e97b-6dd233791b71"
      },
      "execution_count": 15,
      "outputs": [
        {
          "output_type": "stream",
          "name": "stdout",
          "text": [
            "tensor([[ 0,  1,  2],\n",
            "        [ 3,  4,  5],\n",
            "        [ 6,  7,  8],\n",
            "        [ 9, 10, 11]])\n"
          ]
        }
      ]
    },
    {
      "cell_type": "code",
      "source": [
        "x = torch.tensor([[1, 2, 3], [4, 5, 6]])\n",
        "print(x[1, 2])          # Access element\n",
        "print(x[:, 1])          # Column slice\n"
      ],
      "metadata": {
        "colab": {
          "base_uri": "https://localhost:8080/"
        },
        "id": "sPUrb-Lle5wh",
        "outputId": "1788a3b0-316d-4f71-8843-31bcb40d2e7a"
      },
      "execution_count": 16,
      "outputs": [
        {
          "output_type": "stream",
          "name": "stdout",
          "text": [
            "tensor(6)\n",
            "tensor([2, 5])\n"
          ]
        }
      ]
    },
    {
      "cell_type": "code",
      "source": [
        "# device = 'cuda' if torch.cuda.is_available() else 'cpu'\n",
        "# x = torch.rand(2, 2).to(device)\n"
      ],
      "metadata": {
        "id": "Z0lVctDge5uK"
      },
      "execution_count": null,
      "outputs": []
    },
    {
      "cell_type": "code",
      "source": [
        "import torch\n",
        "\n",
        "x = torch.tensor(2.0, requires_grad=True)\n",
        "y = x**2 + 3*x + 1\n",
        "\n",
        "y.backward()  # Computes dy/dx\n",
        "print(x.grad)  # Output: tensor(7.) since dy/dx = 2x + 3 = 7 when x=2\n"
      ],
      "metadata": {
        "id": "oamRYHNNe5rW"
      },
      "execution_count": null,
      "outputs": []
    },
    {
      "cell_type": "code",
      "source": [
        "optimizer = torch.optim.SGD(model.parameters(), lr=0.01)\n"
      ],
      "metadata": {
        "id": "saSLywc8fGPk"
      },
      "execution_count": null,
      "outputs": []
    },
    {
      "cell_type": "code",
      "source": [],
      "metadata": {
        "id": "a7tCGvCxfGNM"
      },
      "execution_count": null,
      "outputs": []
    },
    {
      "cell_type": "code",
      "source": [],
      "metadata": {
        "id": "DQJpTMcwfGKm"
      },
      "execution_count": null,
      "outputs": []
    },
    {
      "cell_type": "code",
      "source": [],
      "metadata": {
        "id": "IEdflgVWfGIC"
      },
      "execution_count": null,
      "outputs": []
    },
    {
      "cell_type": "code",
      "source": [],
      "metadata": {
        "id": "Dyne7ZHJfGFY"
      },
      "execution_count": null,
      "outputs": []
    },
    {
      "cell_type": "code",
      "source": [],
      "metadata": {
        "id": "lmU8GZ9sfGDE"
      },
      "execution_count": null,
      "outputs": []
    },
    {
      "cell_type": "code",
      "source": [],
      "metadata": {
        "id": "lgLlh6rwfGAf"
      },
      "execution_count": null,
      "outputs": []
    }
  ]
}