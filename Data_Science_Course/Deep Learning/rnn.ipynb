{
  "nbformat": 4,
  "nbformat_minor": 0,
  "metadata": {
    "colab": {
      "provenance": []
    },
    "kernelspec": {
      "name": "python3",
      "display_name": "Python 3"
    },
    "language_info": {
      "name": "python"
    }
  },
  "cells": [
    {
      "cell_type": "code",
      "execution_count": 8,
      "metadata": {
        "id": "boN18KDMsIiR"
      },
      "outputs": [],
      "source": [
        "import torch\n",
        "from torch.autograd import Variable\n",
        "import numpy as np\n",
        "import torch.nn.init as init"
      ]
    },
    {
      "cell_type": "code",
      "source": [
        "# input => 7, hidd=> 6, out=> 1\n",
        "\n",
        "dtype = torch.FloatTensor\n",
        "input_size, hidden_size, output_size = 7, 6, 1\n",
        "\n",
        "epochs = 300\n",
        "seq_length = 20\n",
        "lr = 0.1\n",
        "data_time_steps = np.linspace(2, 10, seq_length + 1)\n",
        "data = np.sin(data_time_steps)\n",
        "data.resize((seq_length + 1, 1))\n",
        "\n",
        "x = Variable(torch.Tensor(np.array(data[:-1])), requires_grad=False).type(dtype)\n",
        "y = Variable(torch.Tensor(np.array(data[1:])), requires_grad=False).type(dtype)"
      ],
      "metadata": {
        "id": "i6_IbDxyselE"
      },
      "execution_count": 9,
      "outputs": []
    },
    {
      "cell_type": "code",
      "source": [
        "w1 = torch.FloatTensor(input_size, hidden_size).type(dtype)\n",
        "init.normal(w1,0.0,0.4 )\n",
        "w1 = Variable(w1, requires_grad=True)\n",
        "w2 = torch.FloatTensor(hidden_size, output_size).type(dtype)\n",
        "init.normal(w2,0.0,0.3)\n",
        "w2 = Variable(w2, requires_grad=True)"
      ],
      "metadata": {
        "colab": {
          "base_uri": "https://localhost:8080/"
        },
        "id": "IJ5URKb8tUyj",
        "outputId": "8e01b6da-cab5-4fe7-c03c-2099ab8a7f40"
      },
      "execution_count": 10,
      "outputs": [
        {
          "output_type": "stream",
          "name": "stderr",
          "text": [
            "/tmp/ipython-input-10-1925692975.py:2: FutureWarning: `nn.init.normal` is now deprecated in favor of `nn.init.normal_`.\n",
            "  init.normal(w1,0.0,0.4 )\n",
            "/tmp/ipython-input-10-1925692975.py:5: FutureWarning: `nn.init.normal` is now deprecated in favor of `nn.init.normal_`.\n",
            "  init.normal(w2,0.0,0.3)\n"
          ]
        }
      ]
    },
    {
      "cell_type": "code",
      "source": [
        "def forward(input, context_state, w1, w2):\n",
        "  xh = torch.cat((input, context_state), 1)\n",
        "  context_state = torch.tanh(xh.mm(w1))\n",
        "  out = context_state.mm(w2)\n",
        "  return (out, context_state)"
      ],
      "metadata": {
        "id": "e46lNCV1t_Mm"
      },
      "execution_count": 11,
      "outputs": []
    },
    {
      "cell_type": "code",
      "source": [
        "for i in range(epochs):\n",
        "  total_loss =0\n",
        "  context_state = Variable(torch.zeros(1, hidden_size).type(dtype), requires_grad=True)\n",
        "  for j in range(x.size(0)):\n",
        "    input = x[j:(j+1)]\n",
        "    target = y[j:(j+1)]\n",
        "    (pred, context_state) = forward(input, context_state, w1, w2)\n",
        "    loss = torch.pow(pred - target, 2) # (pred -target).pow(2).sum()/2\n",
        "    total_loss += loss\n",
        "    loss.backward()\n",
        "    w1.data -= lr * w1.grad.data\n",
        "    w2.data -= lr * w2.grad.data\n",
        "    w1.grad.data.zero_()\n",
        "    w2.grad.data.zero_()\n",
        "    context_state = Variable(context_state.data)\n",
        "  if i % 10 == 0:\n",
        "    print(\"Epoch: {} loss {}\".format(i, total_loss.data))\n",
        "context_state = Variable(torch.zeros(1, hidden_size).type(dtype), requires_grad=False)\n",
        "prediction = []\n",
        "\n",
        "for i in range(x.size(0)):\n",
        "  input = x[i:(i+1)]\n",
        "  (pred, context_state) = forward(input, context_state, w1, w2)\n",
        "  context_state = Variable(context_state.data)\n",
        "  prediction.append(pred.data.numpy().ravel()[0])\n"
      ],
      "metadata": {
        "colab": {
          "base_uri": "https://localhost:8080/"
        },
        "id": "Mv5QUxpVuuRI",
        "outputId": "9d8209b8-37c2-4aff-ded8-a410789756cc"
      },
      "execution_count": 12,
      "outputs": [
        {
          "output_type": "stream",
          "name": "stdout",
          "text": [
            "Epoch: 0 loss tensor([[3.8006]])\n",
            "Epoch: 10 loss tensor([[0.5191]])\n",
            "Epoch: 20 loss tensor([[0.4248]])\n",
            "Epoch: 30 loss tensor([[0.3688]])\n",
            "Epoch: 40 loss tensor([[0.3356]])\n",
            "Epoch: 50 loss tensor([[0.3329]])\n",
            "Epoch: 60 loss tensor([[0.3576]])\n",
            "Epoch: 70 loss tensor([[0.3917]])\n",
            "Epoch: 80 loss tensor([[0.4157]])\n",
            "Epoch: 90 loss tensor([[0.4292]])\n",
            "Epoch: 100 loss tensor([[0.4361]])\n",
            "Epoch: 110 loss tensor([[0.4354]])\n",
            "Epoch: 120 loss tensor([[0.4404]])\n",
            "Epoch: 130 loss tensor([[0.4920]])\n",
            "Epoch: 140 loss tensor([[0.6552]])\n",
            "Epoch: 150 loss tensor([[0.5929]])\n",
            "Epoch: 160 loss tensor([[0.5065]])\n",
            "Epoch: 170 loss tensor([[0.3869]])\n",
            "Epoch: 180 loss tensor([[0.2565]])\n",
            "Epoch: 190 loss tensor([[0.1464]])\n",
            "Epoch: 200 loss tensor([[0.0757]])\n",
            "Epoch: 210 loss tensor([[0.0415]])\n",
            "Epoch: 220 loss tensor([[0.0302]])\n",
            "Epoch: 230 loss tensor([[0.0269]])\n",
            "Epoch: 240 loss tensor([[0.0249]])\n",
            "Epoch: 250 loss tensor([[0.0230]])\n",
            "Epoch: 260 loss tensor([[0.0212]])\n",
            "Epoch: 270 loss tensor([[0.0195]])\n",
            "Epoch: 280 loss tensor([[0.0180]])\n",
            "Epoch: 290 loss tensor([[0.0168]])\n"
          ]
        }
      ]
    },
    {
      "cell_type": "code",
      "source": [
        "import matplotlib.pyplot as plt\n",
        "\n",
        "plt.scatter(data_time_steps[:-1], x.data.numpy(),s=90, label = 'Actual')\n",
        "plt.scatter(data_time_steps[1:], prediction, s=90, label = 'Prediction')\n",
        "plt.legend()\n",
        "plt.show()"
      ],
      "metadata": {
        "colab": {
          "base_uri": "https://localhost:8080/",
          "height": 430
        },
        "id": "al0wBOpkwOKS",
        "outputId": "ef91d46d-5135-48c8-8841-9c637c93ab4a"
      },
      "execution_count": 13,
      "outputs": [
        {
          "output_type": "display_data",
          "data": {
            "text/plain": [
              "<Figure size 640x480 with 1 Axes>"
            ],
            "image/png": "[encoded data removed]"
          },
          "metadata": {}
        }
      ]
    },
    {
      "cell_type": "code",
      "source": [],
      "metadata": {
        "id": "_0d4pbziwsRU"
      },
      "execution_count": 13,
      "outputs": []
    }
  ]
}