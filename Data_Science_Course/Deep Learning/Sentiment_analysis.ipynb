{
 "cells": [
  {
   "cell_type": "code",
   "execution_count": 1,
   "id": "d30c7350-d38a-4e3a-af8f-4407eb6687b9",
   "metadata": {},
   "outputs": [],
   "source": [
    "import nltk"
   ]
  },
  {
   "cell_type": "code",
   "execution_count": 2,
   "id": "cdd2566a-e425-4500-b71b-bab65f6b8543",
   "metadata": {},
   "outputs": [
    {
     "name": "stderr",
     "output_type": "stream",
     "text": [
      "[nltk_data] Downloading package movie_reviews to\n",
      "[nltk_data]     C:\\Users\\AJANTHA\\AppData\\Roaming\\nltk_data...\n",
      "[nltk_data]   Package movie_reviews is already up-to-date!\n"
     ]
    },
    {
     "data": {
      "text/plain": [
       "True"
      ]
     },
     "execution_count": 2,
     "metadata": {},
     "output_type": "execute_result"
    }
   ],
   "source": [
    "nltk.download(\"movie_reviews\")"
   ]
  },
  {
   "cell_type": "code",
   "execution_count": 3,
   "id": "9fb659b3-7bc3-465c-b5b7-91c6d30685d9",
   "metadata": {},
   "outputs": [],
   "source": [
    "from nltk.corpus import movie_reviews"
   ]
  },
  {
   "cell_type": "code",
   "execution_count": 4,
   "id": "fd4a0dbe-5d5b-4443-afd5-2907b8c1cc5a",
   "metadata": {},
   "outputs": [
    {
     "data": {
      "text/plain": [
       "2000"
      ]
     },
     "execution_count": 4,
     "metadata": {},
     "output_type": "execute_result"
    }
   ],
   "source": [
    "# fileids\n",
    "len(movie_reviews.fileids())"
   ]
  },
  {
   "cell_type": "code",
   "execution_count": 5,
   "id": "861309c5-f03e-4fd9-a79b-59d84c73e1c5",
   "metadata": {},
   "outputs": [
    {
     "data": {
      "text/plain": [
       "['neg/cv000_29416.txt',\n",
       " 'neg/cv001_19502.txt',\n",
       " 'neg/cv002_17424.txt',\n",
       " 'neg/cv003_12683.txt',\n",
       " 'neg/cv004_12641.txt']"
      ]
     },
     "execution_count": 5,
     "metadata": {},
     "output_type": "execute_result"
    }
   ],
   "source": [
    "movie_reviews.fileids()[:5]"
   ]
  },
  {
   "cell_type": "code",
   "execution_count": 6,
   "id": "16131fd6-f19c-4ea9-a7ca-1a76816e236a",
   "metadata": {},
   "outputs": [
    {
     "data": {
      "text/plain": [
       "['pos/cv995_21821.txt',\n",
       " 'pos/cv996_11592.txt',\n",
       " 'pos/cv997_5046.txt',\n",
       " 'pos/cv998_14111.txt',\n",
       " 'pos/cv999_13106.txt']"
      ]
     },
     "execution_count": 6,
     "metadata": {},
     "output_type": "execute_result"
    }
   ],
   "source": [
    "movie_reviews.fileids()[-5:]"
   ]
  },
  {
   "cell_type": "code",
   "execution_count": 7,
   "id": "b43cb9c1-919a-4982-9fec-5496788b1e22",
   "metadata": {},
   "outputs": [],
   "source": [
    "neg_fileids = movie_reviews.fileids('neg')\n",
    "pos_fileids = movie_reviews.fileids('pos')"
   ]
  },
  {
   "cell_type": "code",
   "execution_count": 8,
   "id": "48316d25-539b-4d34-80eb-85c2505fcdfd",
   "metadata": {},
   "outputs": [
    {
     "data": {
      "text/plain": [
       "(1000, 1000)"
      ]
     },
     "execution_count": 8,
     "metadata": {},
     "output_type": "execute_result"
    }
   ],
   "source": [
    "len(neg_fileids), len(pos_fileids)"
   ]
  },
  {
   "cell_type": "code",
   "execution_count": 9,
   "id": "f812de15-3b20-46b6-836d-738f087ead70",
   "metadata": {},
   "outputs": [
    {
     "name": "stdout",
     "output_type": "stream",
     "text": [
      "`we run tings . \n",
      "tings don't run we . ' \n",
      "-sound advice from capone ( paul campbell ) to his squaddie ( or partner ) , floyd ( winston bell ) . \n",
      "jamaican film , shot entirely on video , featuring a standard cop movie plot mixed with a dash of john woo-styled brotherhood morals ( and a little gunplay ) . \n",
      "capone , a tough as nails super cop , gets a transfer back to his hometown of kingston after successfully taking down some gangsters that have broken into his home ( while he was with his lady ) and killed his partner in front of him . \n",
      "when he arrives , he discovers that the ghetto where he grew up has gotten worse , thanks mainly to the crime boss wonie ( jamaican film veteran carl bradshaw ) , so named because his left hand has been amputated and replaced by a grasping hook ) . \n",
      "capone discovers that wonie has been smuggling guns inside shipments of charity supplies for the area churches and , much to his disappointment , also finds out his childhood friend ratty ( mark danvers ) has been helping him . \n",
      "torn between doing his job and protecting his best friend , capone must make some hard decisions in order to make things right again . \n",
      "directed deftly by first time jamaican filmmaker chris browne ( assistant director for such american films as how stella got her groove back and instinct ) , one hardly notices the film was shot on video after a while . \n",
      "shots are handled so efficiently that they quickly take on the nuances of the aforementioned john woo films , although the action isn't as hyperkinetic as most of woo's films are . \n",
      "the action scenes are handled with a kind of flair though , and eventually begin to take on a life of their own ( beyond the hong kong films that they are obviously patterned after ) . \n",
      "the make-up effects are particularly good in these scenes as well , with flawless squib work on display from the effects team . \n",
      "the cast is superb and listening to their dialogue , spoken with thick jamaican accents ( half of which have to be subtitled because of their extensive use of slang ) , just adds to the interest . \n",
      "paul campbell , as the `loose cannon' capone , essays his role perfectly , displaying the right amount of menace and compassion at the right times . \n",
      "mark danvers evokes sympathy as ratty , the part-time gun smuggler who is also trying to help the community by building football fields and organizing block parties to bring people together . \n",
      "unfortunately , carl bradshaw is given the least to do and his character as the crime boss seems ineffective ( largely because his underlings seem to run all over him ) , but then again , that could be the way his character was intended to be portrayed . \n",
      "the music in the film is composed of all reggae songs , and the soundtrack was produced by grammy award winning artists , sly and robbie ( who have worked with the likes of the rolling stones , maxi priest , bob dylan , james brown , grace jones , herbie hancock , bootsy collins , and carly simon among others ) . \n",
      "the end credit song , `we run tings' , by the group red dragon , is pretty decent and carries on the theme of the movie established early on by the quote that opens this review . \n",
      "oddly enough , desmond ballentine ( who plays the character deportee ) is well known as a pioneer in the realm of `gangsta' reggae as the performer ninjaman , and he doesn't contribute a single song to the film ( that i could see ) , which is virtually unheard of here in the us . \n",
      "at the time of this writing , third world cop has been put into limited theatrical release in the us , coming off of a six-month box-office breaking run in jamaica , where it holds the position as highest grossing film of all time ( bringing in $21 million in jamaica , which is roughly $500 , 000 us ) . \n",
      "palm pictures ( the company that released the offbeat , but entertaining six-string samurai ) is the company releasing the film and considering that their main focus is the dvd market , i can imagine that a disc will be available once the film has left theaters . \n",
      "chris blackwell , founder of palm pictures , was also involved in the production of another jamaican box-office smash in 1981 entitled countryman , so i'd say he has a pretty good track record . \n",
      "overall , third world cop is a pretty entertaining homage to the films of john woo , ringo lam , tsui hark , and many other action films by directors from hong kong . \n",
      "if action films are your thing and you don't mind intermittent subtitles , then you can't go wrong with this film . \n",
      "the performances and the story are solid ( if only a little cliched ) and the action is tight . \n",
      "i'm not sure what the other jamaican films released in that country are like , but apparently third world cop's honors are well deserved . \n",
      "\n"
     ]
    }
   ],
   "source": [
    "print(movie_reviews.raw(fileids = pos_fileids[45]))"
   ]
  },
  {
   "cell_type": "code",
   "execution_count": 10,
   "id": "1aaa8335-0508-476d-81b6-146eb1962c9f",
   "metadata": {},
   "outputs": [],
   "source": [
    "romeo_text  = \"\"\"If music be the food of love, play on;\n",
    "Give me excess of it, that, surfeiting,\n",
    "The appetite may sicken, and so die.\n",
    "That strain again! it had a dying fall:\n",
    "O, it came o'er my ear like the sweet sound,\n",
    "That breathes upon a bank of violets,\n",
    "Stealing and giving odour! Enough; no more:\n",
    "\"\"\""
   ]
  },
  {
   "cell_type": "code",
   "execution_count": 11,
   "id": "4c014260-101a-4bfc-b8a8-b80c8214c3cd",
   "metadata": {},
   "outputs": [
    {
     "data": {
      "text/plain": [
       "['If',\n",
       " 'music',\n",
       " 'be',\n",
       " 'the',\n",
       " 'food',\n",
       " 'of',\n",
       " 'love,',\n",
       " 'play',\n",
       " 'on;',\n",
       " 'Give',\n",
       " 'me',\n",
       " 'excess',\n",
       " 'of',\n",
       " 'it,',\n",
       " 'that,',\n",
       " 'surfeiting,',\n",
       " 'The',\n",
       " 'appetite',\n",
       " 'may',\n",
       " 'sicken,',\n",
       " 'and',\n",
       " 'so',\n",
       " 'die.',\n",
       " 'That',\n",
       " 'strain',\n",
       " 'again!',\n",
       " 'it',\n",
       " 'had',\n",
       " 'a',\n",
       " 'dying',\n",
       " 'fall:',\n",
       " 'O,',\n",
       " 'it',\n",
       " 'came',\n",
       " \"o'er\",\n",
       " 'my',\n",
       " 'ear',\n",
       " 'like',\n",
       " 'the',\n",
       " 'sweet',\n",
       " 'sound,',\n",
       " 'That',\n",
       " 'breathes',\n",
       " 'upon',\n",
       " 'a',\n",
       " 'bank',\n",
       " 'of',\n",
       " 'violets,',\n",
       " 'Stealing',\n",
       " 'and',\n",
       " 'giving',\n",
       " 'odour!',\n",
       " 'Enough;',\n",
       " 'no',\n",
       " 'more:']"
      ]
     },
     "execution_count": 11,
     "metadata": {},
     "output_type": "execute_result"
    }
   ],
   "source": [
    "romeo_text.split()"
   ]
  },
  {
   "cell_type": "code",
   "execution_count": 12,
   "id": "9565ae2f-d873-4904-b2de-6d20dff28103",
   "metadata": {},
   "outputs": [
    {
     "name": "stderr",
     "output_type": "stream",
     "text": [
      "[nltk_data] Downloading package punkt to\n",
      "[nltk_data]     C:\\Users\\AJANTHA\\AppData\\Roaming\\nltk_data...\n",
      "[nltk_data]   Package punkt is already up-to-date!\n"
     ]
    },
    {
     "data": {
      "text/plain": [
       "True"
      ]
     },
     "execution_count": 12,
     "metadata": {},
     "output_type": "execute_result"
    }
   ],
   "source": [
    "nltk.download(\"punkt\")"
   ]
  },
  {
   "cell_type": "code",
   "execution_count": 13,
   "id": "7751f268-9854-46c5-95c9-c64a8c344493",
   "metadata": {},
   "outputs": [],
   "source": [
    "romeo_words = nltk.word_tokenize(romeo_text)"
   ]
  },
  {
   "cell_type": "code",
   "execution_count": 14,
   "id": "e405b01a-13c3-4470-941d-7467d14dca46",
   "metadata": {},
   "outputs": [
    {
     "data": {
      "text/plain": [
       "['If',\n",
       " 'music',\n",
       " 'be',\n",
       " 'the',\n",
       " 'food',\n",
       " 'of',\n",
       " 'love',\n",
       " ',',\n",
       " 'play',\n",
       " 'on',\n",
       " ';',\n",
       " 'Give',\n",
       " 'me',\n",
       " 'excess',\n",
       " 'of',\n",
       " 'it',\n",
       " ',',\n",
       " 'that',\n",
       " ',',\n",
       " 'surfeiting',\n",
       " ',',\n",
       " 'The',\n",
       " 'appetite',\n",
       " 'may',\n",
       " 'sicken',\n",
       " ',',\n",
       " 'and',\n",
       " 'so',\n",
       " 'die',\n",
       " '.',\n",
       " 'That',\n",
       " 'strain',\n",
       " 'again',\n",
       " '!',\n",
       " 'it',\n",
       " 'had',\n",
       " 'a',\n",
       " 'dying',\n",
       " 'fall',\n",
       " ':',\n",
       " 'O',\n",
       " ',',\n",
       " 'it',\n",
       " 'came',\n",
       " \"o'er\",\n",
       " 'my',\n",
       " 'ear',\n",
       " 'like',\n",
       " 'the',\n",
       " 'sweet',\n",
       " 'sound',\n",
       " ',',\n",
       " 'That',\n",
       " 'breathes',\n",
       " 'upon',\n",
       " 'a',\n",
       " 'bank',\n",
       " 'of',\n",
       " 'violets',\n",
       " ',',\n",
       " 'Stealing',\n",
       " 'and',\n",
       " 'giving',\n",
       " 'odour',\n",
       " '!',\n",
       " 'Enough',\n",
       " ';',\n",
       " 'no',\n",
       " 'more',\n",
       " ':']"
      ]
     },
     "execution_count": 14,
     "metadata": {},
     "output_type": "execute_result"
    }
   ],
   "source": [
    "romeo_words"
   ]
  },
  {
   "cell_type": "code",
   "execution_count": 15,
   "id": "b5c84cc1-5742-4834-afbe-7cd87b274813",
   "metadata": {},
   "outputs": [
    {
     "data": {
      "text/plain": [
       "['`', 'we', 'run', 'tings', '.', 'tings', 'don', \"'\", ...]"
      ]
     },
     "execution_count": 15,
     "metadata": {},
     "output_type": "execute_result"
    }
   ],
   "source": [
    "movie_reviews.words(fileids = pos_fileids[45])"
   ]
  },
  {
   "cell_type": "markdown",
   "id": "ded30261-a216-4433-9875-e6de735e2d10",
   "metadata": {},
   "source": [
    "Bag of words"
   ]
  },
  {
   "cell_type": "code",
   "execution_count": 17,
   "id": "33926a9b-1b48-4924-9858-23ac8c7d18f2",
   "metadata": {},
   "outputs": [
    {
     "data": {
      "text/plain": [
       "{'If': True,\n",
       " 'music': True,\n",
       " 'be': True,\n",
       " 'the': True,\n",
       " 'food': True,\n",
       " 'of': True,\n",
       " 'love': True,\n",
       " ',': True,\n",
       " 'play': True,\n",
       " 'on': True,\n",
       " ';': True,\n",
       " 'Give': True,\n",
       " 'me': True,\n",
       " 'excess': True,\n",
       " 'it': True,\n",
       " 'that': True,\n",
       " 'surfeiting': True,\n",
       " 'The': True,\n",
       " 'appetite': True,\n",
       " 'may': True,\n",
       " 'sicken': True,\n",
       " 'and': True,\n",
       " 'so': True,\n",
       " 'die': True,\n",
       " '.': True,\n",
       " 'That': True,\n",
       " 'strain': True,\n",
       " 'again': True,\n",
       " '!': True,\n",
       " 'had': True,\n",
       " 'a': True,\n",
       " 'dying': True,\n",
       " 'fall': True,\n",
       " ':': True,\n",
       " 'O': True,\n",
       " 'came': True,\n",
       " \"o'er\": True,\n",
       " 'my': True,\n",
       " 'ear': True,\n",
       " 'like': True,\n",
       " 'sweet': True,\n",
       " 'sound': True,\n",
       " 'breathes': True,\n",
       " 'upon': True,\n",
       " 'bank': True,\n",
       " 'violets': True,\n",
       " 'Stealing': True,\n",
       " 'giving': True,\n",
       " 'odour': True,\n",
       " 'Enough': True,\n",
       " 'no': True,\n",
       " 'more': True}"
      ]
     },
     "execution_count": 17,
     "metadata": {},
     "output_type": "execute_result"
    }
   ],
   "source": [
    "{word: True for word in romeo_words} # dic compreh"
   ]
  },
  {
   "cell_type": "code",
   "execution_count": 18,
   "id": "0a2ad86f-7a82-4a6c-b76e-e0c4f80a7e00",
   "metadata": {},
   "outputs": [],
   "source": [
    "def build_bag_of_words(words):\n",
    "    return {word: True for word in words}"
   ]
  },
  {
   "cell_type": "code",
   "execution_count": 19,
   "id": "c5dbf38d-5793-42a3-9055-35b2a2aa57da",
   "metadata": {},
   "outputs": [
    {
     "data": {
      "text/plain": [
       "{'If': True,\n",
       " 'music': True,\n",
       " 'be': True,\n",
       " 'the': True,\n",
       " 'food': True,\n",
       " 'of': True,\n",
       " 'love': True,\n",
       " ',': True,\n",
       " 'play': True,\n",
       " 'on': True,\n",
       " ';': True,\n",
       " 'Give': True,\n",
       " 'me': True,\n",
       " 'excess': True,\n",
       " 'it': True,\n",
       " 'that': True,\n",
       " 'surfeiting': True,\n",
       " 'The': True,\n",
       " 'appetite': True,\n",
       " 'may': True,\n",
       " 'sicken': True,\n",
       " 'and': True,\n",
       " 'so': True,\n",
       " 'die': True,\n",
       " '.': True,\n",
       " 'That': True,\n",
       " 'strain': True,\n",
       " 'again': True,\n",
       " '!': True,\n",
       " 'had': True,\n",
       " 'a': True,\n",
       " 'dying': True,\n",
       " 'fall': True,\n",
       " ':': True,\n",
       " 'O': True,\n",
       " 'came': True,\n",
       " \"o'er\": True,\n",
       " 'my': True,\n",
       " 'ear': True,\n",
       " 'like': True,\n",
       " 'sweet': True,\n",
       " 'sound': True,\n",
       " 'breathes': True,\n",
       " 'upon': True,\n",
       " 'bank': True,\n",
       " 'violets': True,\n",
       " 'Stealing': True,\n",
       " 'giving': True,\n",
       " 'odour': True,\n",
       " 'Enough': True,\n",
       " 'no': True,\n",
       " 'more': True}"
      ]
     },
     "execution_count": 19,
     "metadata": {},
     "output_type": "execute_result"
    }
   ],
   "source": [
    "build_bag_of_words(romeo_words)"
   ]
  },
  {
   "cell_type": "code",
   "execution_count": 20,
   "id": "a2c17317-2a0d-45fe-90a8-c99ce940c402",
   "metadata": {},
   "outputs": [
    {
     "name": "stderr",
     "output_type": "stream",
     "text": [
      "[nltk_data] Downloading package stopwords to\n",
      "[nltk_data]     C:\\Users\\AJANTHA\\AppData\\Roaming\\nltk_data...\n",
      "[nltk_data]   Package stopwords is already up-to-date!\n"
     ]
    },
    {
     "data": {
      "text/plain": [
       "True"
      ]
     },
     "execution_count": 20,
     "metadata": {},
     "output_type": "execute_result"
    }
   ],
   "source": [
    "nltk.download('stopwords')"
   ]
  },
  {
   "cell_type": "code",
   "execution_count": 21,
   "id": "2adc901c-567c-473f-bc95-3196572ebef3",
   "metadata": {},
   "outputs": [
    {
     "data": {
      "text/plain": [
       "'!\"#$%&\\'()*+,-./:;<=>?@[\\\\]^_`{|}~'"
      ]
     },
     "execution_count": 21,
     "metadata": {},
     "output_type": "execute_result"
    }
   ],
   "source": [
    "import string\n",
    "string.punctuation"
   ]
  },
  {
   "cell_type": "code",
   "execution_count": 22,
   "id": "7aab41ff-89e2-4c50-a733-7b2806d74416",
   "metadata": {},
   "outputs": [],
   "source": [
    "useless_words = nltk.corpus.stopwords.words('english')+ list(string.punctuation)"
   ]
  },
  {
   "cell_type": "code",
   "execution_count": 23,
   "id": "a459f98e-68d8-4f08-adef-210aa9be8554",
   "metadata": {},
   "outputs": [],
   "source": [
    "def build_bag_of_words_filtered(words):\n",
    "    return {word: True for word in words\\\n",
    "           if not word in useless_words}"
   ]
  },
  {
   "cell_type": "code",
   "execution_count": 24,
   "id": "969a31f5-c9ed-48c3-aaf2-7be9cdf69803",
   "metadata": {},
   "outputs": [
    {
     "data": {
      "text/plain": [
       "{'If': True,\n",
       " 'music': True,\n",
       " 'food': True,\n",
       " 'love': True,\n",
       " 'play': True,\n",
       " 'Give': True,\n",
       " 'excess': True,\n",
       " 'surfeiting': True,\n",
       " 'The': True,\n",
       " 'appetite': True,\n",
       " 'may': True,\n",
       " 'sicken': True,\n",
       " 'die': True,\n",
       " 'That': True,\n",
       " 'strain': True,\n",
       " 'dying': True,\n",
       " 'fall': True,\n",
       " 'O': True,\n",
       " 'came': True,\n",
       " \"o'er\": True,\n",
       " 'ear': True,\n",
       " 'like': True,\n",
       " 'sweet': True,\n",
       " 'sound': True,\n",
       " 'breathes': True,\n",
       " 'upon': True,\n",
       " 'bank': True,\n",
       " 'violets': True,\n",
       " 'Stealing': True,\n",
       " 'giving': True,\n",
       " 'odour': True,\n",
       " 'Enough': True}"
      ]
     },
     "execution_count": 24,
     "metadata": {},
     "output_type": "execute_result"
    }
   ],
   "source": [
    "build_bag_of_words_filtered(romeo_words)"
   ]
  },
  {
   "cell_type": "markdown",
   "id": "2e25f278-49af-4ad3-bd4d-9e7245401f2f",
   "metadata": {},
   "source": [
    "plot freq of words"
   ]
  },
  {
   "cell_type": "code",
   "execution_count": 50,
   "id": "6f354fc4-614f-4173-bd60-9993b6ac6bc8",
   "metadata": {},
   "outputs": [],
   "source": [
    "all_words = movie_reviews.words()"
   ]
  },
  {
   "cell_type": "code",
   "execution_count": 54,
   "id": "9a35512c-f8d7-45b0-8417-41c91e4767c7",
   "metadata": {},
   "outputs": [
    {
     "data": {
      "text/plain": [
       "1583820"
      ]
     },
     "execution_count": 54,
     "metadata": {},
     "output_type": "execute_result"
    }
   ],
   "source": [
    "len(all_words)"
   ]
  },
  {
   "cell_type": "code",
   "execution_count": 58,
   "id": "7b5d50d0-40ab-4464-8594-cde0be98d750",
   "metadata": {},
   "outputs": [
    {
     "data": {
      "text/plain": [
       "710579"
      ]
     },
     "execution_count": 58,
     "metadata": {},
     "output_type": "execute_result"
    }
   ],
   "source": [
    "filtered_words = [word for word in movie_reviews.words()  if not word in useless_words]\n",
    "len(filtered_words)"
   ]
  },
  {
   "cell_type": "code",
   "execution_count": 60,
   "id": "db0a6425-5dde-491f-8b32-8a48bb8a6e10",
   "metadata": {},
   "outputs": [],
   "source": [
    "from collections import Counter"
   ]
  },
  {
   "cell_type": "code",
   "execution_count": 62,
   "id": "fde4d48b-ff4b-4efe-8184-a062801148b8",
   "metadata": {},
   "outputs": [],
   "source": [
    "word_counter = Counter(filtered_words)"
   ]
  },
  {
   "cell_type": "code",
   "execution_count": 64,
   "id": "4585ac6d-dfdd-4252-a5ef-e5c2201b2921",
   "metadata": {},
   "outputs": [
    {
     "data": {
      "text/plain": [
       "[('film', 9517),\n",
       " ('one', 5852),\n",
       " ('movie', 5771),\n",
       " ('like', 3690),\n",
       " ('even', 2565),\n",
       " ('good', 2411),\n",
       " ('time', 2411),\n",
       " ('story', 2169),\n",
       " ('would', 2109),\n",
       " ('much', 2049)]"
      ]
     },
     "execution_count": 64,
     "metadata": {},
     "output_type": "execute_result"
    }
   ],
   "source": [
    "most_common_words = word_counter.most_common()[:10]\n",
    "most_common_words"
   ]
  },
  {
   "cell_type": "code",
   "execution_count": 66,
   "id": "76849612-f20b-4209-ab5c-b23eb02e77d7",
   "metadata": {},
   "outputs": [],
   "source": [
    "import matplotlib.pyplot as plt\n"
   ]
  },
  {
   "cell_type": "code",
   "execution_count": 70,
   "id": "aaa8582d-3da1-4aa8-97f5-ff85f52bcf3b",
   "metadata": {},
   "outputs": [
    {
     "data": {
      "text/plain": [
       "Text(0.5, 0, 'word rank')"
      ]
     },
     "execution_count": 70,
     "metadata": {},
     "output_type": "execute_result"
    },
    {
     "data": {
      "image/png": "[encoded data removed]",
      "text/plain": [
       "<Figure size 640x480 with 1 Axes>"
      ]
     },
     "metadata": {},
     "output_type": "display_data"
    }
   ],
   "source": [
    "sorted_word_count = sorted(list(word_counter.values()), reverse = True)\n",
    "plt.hist(sorted_word_count, bins = 50)\n",
    "plt.ylabel(\"Frequ\")\n",
    "plt.xlabel('word rank')"
   ]
  },
  {
   "cell_type": "code",
   "execution_count": 72,
   "id": "084406a0-c95b-4e2f-9d3f-ee8dae4d74e7",
   "metadata": {},
   "outputs": [
    {
     "data": {
      "text/plain": [
       "Text(0.5, 0, 'word rank')"
      ]
     },
     "execution_count": 72,
     "metadata": {},
     "output_type": "execute_result"
    },
    {
     "data": {
      "image/png": "[encoded data removed]",
      "text/plain": [
       "<Figure size 640x480 with 1 Axes>"
      ]
     },
     "metadata": {},
     "output_type": "display_data"
    }
   ],
   "source": [
    "plt.loglog(sorted_word_count)\n",
    "plt.ylabel(\"Frequ\")\n",
    "plt.xlabel('word rank')"
   ]
  },
  {
   "cell_type": "code",
   "execution_count": 74,
   "id": "ba01ae5d-727d-4a7a-b5d1-866e827e2df7",
   "metadata": {},
   "outputs": [
    {
     "data": {
      "text/plain": [
       "(array([3.897e+04, 3.610e+02, 1.170e+02, 4.300e+01, 4.000e+01, 1.500e+01,\n",
       "        9.000e+00, 8.000e+00, 5.000e+00, 4.000e+00, 6.000e+00, 2.000e+00,\n",
       "        2.000e+00, 1.000e+00, 0.000e+00, 0.000e+00, 0.000e+00, 0.000e+00,\n",
       "        0.000e+00, 1.000e+00, 0.000e+00, 0.000e+00, 0.000e+00, 0.000e+00,\n",
       "        0.000e+00, 0.000e+00, 0.000e+00, 0.000e+00, 0.000e+00, 0.000e+00,\n",
       "        2.000e+00, 0.000e+00, 0.000e+00, 0.000e+00, 0.000e+00, 0.000e+00,\n",
       "        0.000e+00, 0.000e+00, 0.000e+00, 0.000e+00, 0.000e+00, 0.000e+00,\n",
       "        0.000e+00, 0.000e+00, 0.000e+00, 0.000e+00, 0.000e+00, 0.000e+00,\n",
       "        0.000e+00, 1.000e+00]),\n",
       " array([1.00000e+00, 1.91320e+02, 3.81640e+02, 5.71960e+02, 7.62280e+02,\n",
       "        9.52600e+02, 1.14292e+03, 1.33324e+03, 1.52356e+03, 1.71388e+03,\n",
       "        1.90420e+03, 2.09452e+03, 2.28484e+03, 2.47516e+03, 2.66548e+03,\n",
       "        2.85580e+03, 3.04612e+03, 3.23644e+03, 3.42676e+03, 3.61708e+03,\n",
       "        3.80740e+03, 3.99772e+03, 4.18804e+03, 4.37836e+03, 4.56868e+03,\n",
       "        4.75900e+03, 4.94932e+03, 5.13964e+03, 5.32996e+03, 5.52028e+03,\n",
       "        5.71060e+03, 5.90092e+03, 6.09124e+03, 6.28156e+03, 6.47188e+03,\n",
       "        6.66220e+03, 6.85252e+03, 7.04284e+03, 7.23316e+03, 7.42348e+03,\n",
       "        7.61380e+03, 7.80412e+03, 7.99444e+03, 8.18476e+03, 8.37508e+03,\n",
       "        8.56540e+03, 8.75572e+03, 8.94604e+03, 9.13636e+03, 9.32668e+03,\n",
       "        9.51700e+03]),\n",
       " <BarContainer object of 50 artists>)"
      ]
     },
     "execution_count": 74,
     "metadata": {},
     "output_type": "execute_result"
    },
    {
     "data": {
      "image/png": "[encoded data removed]",
      "text/plain": [
       "<Figure size 640x480 with 1 Axes>"
      ]
     },
     "metadata": {},
     "output_type": "display_data"
    }
   ],
   "source": [
    "plt.hist(sorted_word_count, bins = 50, log = True)"
   ]
  },
  {
   "cell_type": "code",
   "execution_count": 76,
   "id": "a0d980e2-e485-49d2-ad42-6574226e030c",
   "metadata": {},
   "outputs": [],
   "source": [
    "neg_features = [(build_bag_of_words_filtered(movie_reviews.words(fileids = [f])), 'neg') for f in neg_fileids]\n",
    "\n",
    "pos_features = [(build_bag_of_words_filtered(movie_reviews.words(fileids = [f])), 'pos')for f in pos_fileids]"
   ]
  },
  {
   "cell_type": "code",
   "execution_count": 78,
   "id": "9765b063-91ff-4614-a82b-389d2c7efe12",
   "metadata": {},
   "outputs": [
    {
     "name": "stdout",
     "output_type": "stream",
     "text": [
      "({'quest': True, 'camelot': True, 'warner': True, 'bros': True, 'first': True, 'feature': True, 'length': True, 'fully': True, 'animated': True, 'attempt': True, 'steal': True, 'clout': True, 'disney': True, 'cartoon': True, 'empire': True, 'mouse': True, 'reason': True, 'worried': True, 'recent': True, 'challenger': True, 'throne': True, 'last': True, 'fall': True, 'promising': True, 'flawed': True, '20th': True, 'century': True, 'fox': True, 'production': True, 'anastasia': True, 'hercules': True, 'lively': True, 'cast': True, 'colorful': True, 'palate': True, 'beat': True, 'hands': True, 'came': True, 'time': True, 'crown': True, '1997': True, 'best': True, 'piece': True, 'animation': True, 'year': True, 'contest': True, 'pretty': True, 'much': True, 'dead': True, 'arrival': True, 'even': True, 'magic': True, 'kingdom': True, 'mediocre': True, '--': True, 'pocahontas': True, 'keeping': True, 'score': True, 'nearly': True, 'dull': True, 'story': True, 'revolves': True, 'around': True, 'adventures': True, 'free': True, 'spirited': True, 'kayley': True, 'voiced': True, 'jessalyn': True, 'gilsig': True, 'early': True, 'teen': True, 'daughter': True, 'belated': True, 'knight': True, 'king': True, 'arthur': True, 'round': True, 'table': True, 'dream': True, 'follow': True, 'father': True, 'footsteps': True, 'gets': True, 'chance': True, 'evil': True, 'warlord': True, 'ruber': True, 'gary': True, 'oldman': True, 'ex': True, 'member': True, 'gone': True, 'bad': True, 'steals': True, 'magical': True, 'sword': True, 'excalibur': True, 'accidentally': True, 'loses': True, 'dangerous': True, 'booby': True, 'trapped': True, 'forest': True, 'help': True, 'hunky': True, 'blind': True, 'timberland': True, 'dweller': True, 'garrett': True, 'carey': True, 'elwes': True, 'two': True, 'headed': True, 'dragon': True, 'eric': True, 'idle': True, 'rickles': True, 'always': True, 'arguing': True, 'might': True, 'able': True, 'break': True, 'medieval': True, 'sexist': True, 'mold': True, 'prove': True, 'worth': True, 'fighter': True, 'side': True, 'missing': True, 'pure': True, 'showmanship': True, 'essential': True, 'element': True, 'ever': True, 'expected': True, 'climb': True, 'high': True, 'ranks': True, 'nothing': True, 'differentiates': True, 'something': True, 'see': True, 'given': True, 'saturday': True, 'morning': True, 'subpar': True, 'instantly': True, 'forgettable': True, 'songs': True, 'poorly': True, 'integrated': True, 'computerized': True, 'footage': True, 'compare': True, 'run': True, 'angry': True, 'ogre': True, 'herc': True, 'battle': True, 'hydra': True, 'rest': True, 'case': True, 'characters': True, 'stink': True, 'none': True, 'remotely': True, 'interesting': True, 'film': True, 'becomes': True, 'race': True, 'one': True, 'bland': True, 'others': True, 'end': True, 'tie': True, 'win': True, 'comedy': True, 'shtick': True, 'awfully': True, 'cloying': True, 'least': True, 'shows': True, 'signs': True, 'pulse': True, 'fans': True, \"-'\": True, '90s': True, 'tgif': True, 'television': True, 'line': True, 'thrilled': True, 'find': True, 'jaleel': True, 'urkel': True, 'white': True, 'bronson': True, 'balki': True, 'pinchot': True, 'sharing': True, 'scenes': True, 'nicely': True, 'realized': True, 'though': True, 'loss': True, 'recall': True, 'enough': True, 'specific': True, 'actors': True, 'providing': True, 'voice': True, 'talent': True, 'enthusiastic': True, 'paired': True, 'singers': True, 'sound': True, 'thing': True, 'like': True, 'big': True, 'musical': True, 'moments': True, 'jane': True, 'seymour': True, 'celine': True, 'dion': True, 'must': True, 'strain': True, 'mess': True, 'good': True, 'aside': True, 'fact': True, 'children': True, 'probably': True, 'bored': True, 'watching': True, 'adults': True, 'grievous': True, 'error': True, 'complete': True, 'lack': True, 'personality': True, 'learn': True, 'goes': True, 'long': True, 'way': True}, 'neg')\n"
     ]
    }
   ],
   "source": [
    "print(neg_features[3])"
   ]
  },
  {
   "cell_type": "code",
   "execution_count": 80,
   "id": "b76b8a4b-420b-424f-825a-02feb05b9b26",
   "metadata": {},
   "outputs": [
    {
     "name": "stdout",
     "output_type": "stream",
     "text": [
      "({'fortunate': True, 'enough': True, 'attend': True, 'advance': True, 'screening': True, 'upcoming': True, 'thriller': True, 'conspiracy': True, 'theory': True, 'course': True, 'big': True, 'deal': True, 'reviewing': True, 'movies': True, 'basically': True, 'hobby': True, 'never': True, 'get': True, 'chance': True, 'something': True, 'like': True, 'see': True, 'able': True, 'good': True, 'movie': True, 'fast': True, 'paced': True, 'film': True, 'stars': True, 'mel': True, 'gibson': True, 'jerry': True, 'fletcher': True, 'talking': True, 'witty': True, 'comical': True, 'taxi': True, 'driver': True, 'new': True, 'york': True, 'city': True, 'performance': True, 'terrific': True, 'character': True, 'similar': True, 'martin': True, 'riggs': True, 'lethal': True, 'weapon': True, 'films': True, 'teams': True, 'richard': True, 'donner': True, 'maverick': True, 'time': True, 'around': True, 'combination': True, 'works': True, 'even': True, 'better': True, 'indeed': True, 'unique': True, 'try': True, 'imagine': True, 'toned': True, 'downed': True, 'version': True, 'travis': True, 'bickle': True, 'jittery': True, 'guy': True, 'knowledge': True, 'government': True, 'cover': True, 'ups': True, 'got': True, 'many': True, 'ways': True, 'surprised': True, 'begin': True, 'wrong': True, 'going': True, 'accepting': True, 'gold': True, 'trophies': True, 'next': True, 'spring': True, 'enjoyable': True, 'secondly': True, 'provided': True, 'fantastic': True, 'previews': True, 'led': True, 'believe': True, 'action': True, 'flick': True, 'viewing': True, 'almost': True, 'opposite': True, 'certain': True, 'sense': True, 'uncountable': True, 'number': True, 'one': True, 'liners': True, 'hilarious': True, 'situations': True, 'audience': True, 'tends': True, 'side': True, 'throughout': True, 'instance': True, 'apartment': True, 'especially': True, 'security': True, 'memorable': True, 'last': True, 'plot': True, 'writer': True, 'brian': True, 'helgeland': True, 'created': True, 'story': True, 'watching': True, 'left': True, 'wonder': True, 'far': True, 'fetched': True, 'seem': True, 'first': True, 'theories': True, 'opinions': True, 'stand': True, 'julia': True, 'roberts': True, 'alice': True, 'sutton': True, 'department': True, 'justice': True, 'employee': True, 'stay': True, 'away': True, 'continually': True, 'visits': True, 'hopes': True, 'also': True, 'seems': True, 'obsessed': True, 'love': True, 'whenever': True, 'approaches': True, 'another': True, 'shrugs': True, 'beliefs': True, 'noting': True, 'day': True, 'slap': True, 'restraining': True, 'order': True, 'obviously': True, 'determined': True, 'seek': True, 'truth': True, 'continues': True, 'research': True, 'information': True, 'printed': True, 'newsletter': True, 'title': True, 'although': True, 'five': True, 'subscribers': True, 'puts': True, 'large': True, 'amount': True, 'effort': True, 'work': True, 'publishes': True, 'edition': True, 'soon': True, 'abducted': True, 'tortured': True, 'sinister': True, 'man': True, 'refers': True, 'dr': True, 'jonas': True, 'patrick': True, 'stewart': True, 'barely': True, 'escaping': True, 'alive': True, 'forced': True, 'turn': True, 'person': True, 'trust': True, 'remainder': True, 'always': True, 'full': True, 'suspense': True, 'life': True, 'constantly': True, 'put': True, 'jeopardy': True, 'along': True, 'way': True, 'learn': True, 'things': True, 'explained': True, 'characters': True, 'meaning': True, 'book': True, 'catcher': True, 'rye': True, 'ties': True, 'assassins': True, 'reason': True, 'lone': True, 'gunmen': True, 'three': True, 'names': True, 'e': True, 'g': True, 'lee': True, 'harvey': True, 'oswald': True, 'james': True, 'earl': True, 'ray': True, 'real': True, 'behind': True, 'grateful': True, 'dead': True, 'make': True, 'sure': True, 'listen': True, 'closely': True, 'throwing': True, 'interesting': True, 'tidbits': True, 'definitely': True, 'hits': True, 'theaters': True, 'august': True, '8th': True, 'standing': True, 'line': True, 'nearly': True, 'positive': True, 'everyone': True, 'enjoy': True, 'dialogue': True, 'numerous': True, 'suspenseful': True, 'still': True}, 'pos')\n"
     ]
    }
   ],
   "source": [
    "print(pos_features[55])"
   ]
  },
  {
   "cell_type": "code",
   "execution_count": 82,
   "id": "71a206d6-86e0-4bc6-bb5f-be2fd8d9f434",
   "metadata": {},
   "outputs": [],
   "source": [
    "from nltk.classify import NaiveBayesClassifier"
   ]
  },
  {
   "cell_type": "code",
   "execution_count": 84,
   "id": "fd0cedc5-6d6b-4656-9750-d5898e7788bb",
   "metadata": {},
   "outputs": [],
   "source": [
    "split = 700"
   ]
  },
  {
   "cell_type": "code",
   "execution_count": 86,
   "id": "f665f6d3-6e20-4a4c-8452-e7da0b5ce51a",
   "metadata": {},
   "outputs": [],
   "source": [
    "sent_class = NaiveBayesClassifier.train(pos_features[:split]+ neg_features[:split])"
   ]
  },
  {
   "cell_type": "code",
   "execution_count": 88,
   "id": "9a90a40f-8d97-473e-80f6-4e5b70d768cb",
   "metadata": {},
   "outputs": [
    {
     "data": {
      "text/plain": [
       "97.92857142857143"
      ]
     },
     "execution_count": 88,
     "metadata": {},
     "output_type": "execute_result"
    }
   ],
   "source": [
    "# train => accu\n",
    "nltk.classify.util.accuracy(sent_class,pos_features[:split]+ neg_features[:split]) *100"
   ]
  },
  {
   "cell_type": "code",
   "execution_count": 90,
   "id": "323e4f73-6d02-4cc4-96af-a2495ad0a15a",
   "metadata": {},
   "outputs": [
    {
     "data": {
      "text/plain": [
       "71.5"
      ]
     },
     "execution_count": 90,
     "metadata": {},
     "output_type": "execute_result"
    }
   ],
   "source": [
    "\n",
    "# test accu\n",
    "nltk.classify.util.accuracy(sent_class,pos_features[split:]+ neg_features[split:]) *100"
   ]
  },
  {
   "cell_type": "code",
   "execution_count": 92,
   "id": "9e7e8627-7188-440b-9b4e-d135e4631748",
   "metadata": {},
   "outputs": [
    {
     "name": "stdout",
     "output_type": "stream",
     "text": [
      "Most Informative Features\n",
      "             outstanding = True              pos : neg    =     17.8 : 1.0\n",
      "              vulnerable = True              pos : neg    =     12.3 : 1.0\n",
      "               insulting = True              neg : pos    =     11.7 : 1.0\n",
      "             uninvolving = True              neg : pos    =     11.7 : 1.0\n",
      "                  avoids = True              pos : neg    =     11.0 : 1.0\n",
      "               ludicrous = True              neg : pos    =     11.0 : 1.0\n",
      "                flawless = True              pos : neg    =      9.8 : 1.0\n",
      "                 idiotic = True              neg : pos    =      9.8 : 1.0\n",
      "               affecting = True              pos : neg    =      9.7 : 1.0\n",
      "                riveting = True              pos : neg    =      9.7 : 1.0\n"
     ]
    }
   ],
   "source": [
    "sent_class.show_most_informative_features()"
   ]
  },
  {
   "cell_type": "code",
   "execution_count": null,
   "id": "16e00461-014a-4f1e-80b0-67d4c3e71eb1",
   "metadata": {},
   "outputs": [],
   "source": []
  }
 ],
 "metadata": {
  "kernelspec": {
   "display_name": "Python [conda env:base] *",
   "language": "python",
   "name": "conda-base-py"
  },
  "language_info": {
   "codemirror_mode": {
    "name": "ipython",
    "version": 3
   },
   "file_extension": ".py",
   "mimetype": "text/x-python",
   "name": "python",
   "nbconvert_exporter": "python",
   "pygments_lexer": "ipython3",
   "version": "3.12.4"
  }
 },
 "nbformat": 4,
 "nbformat_minor": 5
}
