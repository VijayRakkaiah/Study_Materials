{
  "nbformat": 4,
  "nbformat_minor": 0,
  "metadata": {
    "colab": {
      "provenance": []
    },
    "kernelspec": {
      "name": "python3",
      "display_name": "Python 3"
    },
    "language_info": {
      "name": "python"
    }
  },
  "cells": [
    {
      "cell_type": "code",
      "execution_count": null,
      "metadata": {
        "id": "sd8852Zyj3gc"
      },
      "outputs": [],
      "source": [
        "import numpy as np\n",
        "import tensorflow as tf\n",
        "from tensorflow.keras.layers import SimpleRNN, Dense\n",
        "from tensorflow.keras.models import Sequential"
      ]
    },
    {
      "cell_type": "code",
      "source": [
        "# input text , character set\n",
        "text = \"welcome to GUVI. let we discuss on RNN concept\"\n",
        "chars = sorted(list(set(text)))\n",
        "char_to_index = {char: i for i , char in enumerate(chars)}\n",
        "index_to_char = {i: char for i , char in enumerate(chars)}"
      ],
      "metadata": {
        "id": "9qPuH-U6kcHW"
      },
      "execution_count": null,
      "outputs": []
    },
    {
      "cell_type": "code",
      "source": [
        "# seq, label\n",
        "seq_length = 3\n",
        "sequences = []\n",
        "labels = []\n",
        "\n",
        "for i in range(len(text) - seq_length):\n",
        "    seq = text[i:i+seq_length]\n",
        "    label = text[i+seq_length]\n",
        "    sequences.append([char_to_index[char] for char in seq])\n",
        "    labels.append(char_to_index[label])\n",
        "x = np.array(sequences)\n",
        "y = np.array(labels)\n"
      ],
      "metadata": {
        "id": "64gl7wsolIBn"
      },
      "execution_count": null,
      "outputs": []
    },
    {
      "cell_type": "code",
      "source": [
        "# seq, label => one hot encoding\n",
        "x_one_hot = tf.one_hot(x, len(chars))\n",
        "y_one_hot = tf.one_hot(y, len(chars))"
      ],
      "metadata": {
        "id": "iQILa22Hmv9L"
      },
      "execution_count": null,
      "outputs": []
    },
    {
      "cell_type": "code",
      "source": [
        "# build RNN model\n",
        "model = Sequential()\n",
        "model.add(SimpleRNN(50, input_shape=(seq_length, len(chars)), activation = 'relu'))\n",
        "model.add(Dense(len(chars), activation='softmax'))"
      ],
      "metadata": {
        "id": "IR_5aCCHnhkm"
      },
      "execution_count": null,
      "outputs": []
    },
    {
      "cell_type": "code",
      "source": [
        "# compile and train the model\n",
        "model.compile(loss='categorical_crossentropy', optimizer='adam', metrics=['accuracy'])\n",
        "model.fit(x_one_hot, y_one_hot, epochs=100, batch_size=32)"
      ],
      "metadata": {
        "id": "y2wF5EL5n3UN"
      },
      "execution_count": null,
      "outputs": []
    },
    {
      "cell_type": "code",
      "source": [
        "# gene train=> model => new text\n",
        "start_seq  = \"welcome to G\"\n",
        "generated_text = start_seq\n",
        "for i in range(50):\n",
        "    x_new = np.array([[char_to_index[char] for char in generated_text[-seq_length:]]])\n",
        "    x_new_one_hot = tf.one_hot(x_new, len(chars)) # Create one-hot encoding for the new sequence\n",
        "    y_pred = model.predict(x_new_one_hot) # Predict using the one-hot encoding of the new sequence\n",
        "    next_index = np.argmax(y_pred)\n",
        "    next_char = index_to_char[next_index]\n",
        "    generated_text += next_char\n",
        "\n",
        "print(\"Generated Text:\")\n",
        "print(generated_text)"
      ],
      "metadata": {
        "id": "aGglCV1WoNRk"
      },
      "execution_count": null,
      "outputs": []
    },
    {
      "cell_type": "code",
      "source": [],
      "metadata": {
        "id": "jaceUcV2qKAb"
      },
      "execution_count": null,
      "outputs": []
    },
    {
      "cell_type": "code",
      "source": [],
      "metadata": {
        "id": "TZmxnHRUqJ9e"
      },
      "execution_count": null,
      "outputs": []
    }
  ]
}