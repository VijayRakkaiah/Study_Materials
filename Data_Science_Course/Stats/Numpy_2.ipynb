{
 "cells": [
  {
   "cell_type": "code",
   "execution_count": 1,
   "id": "de4fd1a9-386a-41f1-b256-e6097b5ece63",
   "metadata": {},
   "outputs": [],
   "source": [
    "import numpy as np"
   ]
  },
  {
   "cell_type": "code",
   "execution_count": 3,
   "id": "ff9be4b5-294f-4650-85fb-d5909f4228a4",
   "metadata": {},
   "outputs": [],
   "source": [
    "# reshaphing and resizing\n",
    "data = np.array([[1,2],\n",
    "                 [3,4]])"
   ]
  },
  {
   "cell_type": "code",
   "execution_count": 7,
   "id": "43a2113c-ba2f-4b98-90cb-7b1eee6da9bf",
   "metadata": {},
   "outputs": [
    {
     "data": {
      "text/plain": [
       "2"
      ]
     },
     "execution_count": 7,
     "metadata": {},
     "output_type": "execute_result"
    }
   ],
   "source": [
    "data.ndim"
   ]
  },
  {
   "cell_type": "code",
   "execution_count": 9,
   "id": "f0e32a0c-4d87-488e-900b-b8942f27aafe",
   "metadata": {},
   "outputs": [
    {
     "data": {
      "text/plain": [
       "(2, 2)"
      ]
     },
     "execution_count": 9,
     "metadata": {},
     "output_type": "execute_result"
    }
   ],
   "source": [
    "data.shape"
   ]
  },
  {
   "cell_type": "code",
   "execution_count": 11,
   "id": "a4d9810a-3245-4f63-994a-add0fac4737d",
   "metadata": {},
   "outputs": [
    {
     "data": {
      "text/plain": [
       "array([[1, 2, 3, 4]])"
      ]
     },
     "execution_count": 11,
     "metadata": {},
     "output_type": "execute_result"
    }
   ],
   "source": [
    "np.reshape(data,(1,4))"
   ]
  },
  {
   "cell_type": "code",
   "execution_count": 13,
   "id": "e9e8f454-cbe6-4665-85bf-0cf3cd27eabd",
   "metadata": {},
   "outputs": [
    {
     "data": {
      "text/plain": [
       "array([1, 2, 3, 4])"
      ]
     },
     "execution_count": 13,
     "metadata": {},
     "output_type": "execute_result"
    }
   ],
   "source": [
    "data.reshape(4)"
   ]
  },
  {
   "cell_type": "code",
   "execution_count": 15,
   "id": "da46eb12-beb5-45c8-9b82-2b8ec8e0954a",
   "metadata": {},
   "outputs": [
    {
     "data": {
      "text/plain": [
       "array([1, 2, 3, 4])"
      ]
     },
     "execution_count": 15,
     "metadata": {},
     "output_type": "execute_result"
    }
   ],
   "source": [
    "data.flatten()"
   ]
  },
  {
   "cell_type": "code",
   "execution_count": 17,
   "id": "6c8accf7-a225-40e4-9996-5d1c8ae0b30a",
   "metadata": {},
   "outputs": [
    {
     "data": {
      "text/plain": [
       "array([0, 1, 2, 3, 4])"
      ]
     },
     "execution_count": 17,
     "metadata": {},
     "output_type": "execute_result"
    }
   ],
   "source": [
    "data_1 = np.arange(0,5)\n",
    "data_1"
   ]
  },
  {
   "cell_type": "code",
   "execution_count": 19,
   "id": "4e3047e0-d030-45ab-8cc6-0f5b5ce19644",
   "metadata": {},
   "outputs": [
    {
     "data": {
      "text/plain": [
       "array([[0],\n",
       "       [1],\n",
       "       [2],\n",
       "       [3],\n",
       "       [4]])"
      ]
     },
     "execution_count": 19,
     "metadata": {},
     "output_type": "execute_result"
    }
   ],
   "source": [
    "col = data_1[:,np.newaxis]\n",
    "col"
   ]
  },
  {
   "cell_type": "code",
   "execution_count": 21,
   "id": "a5bc86c5-c83c-4a40-b933-41a4c2522d63",
   "metadata": {},
   "outputs": [
    {
     "data": {
      "text/plain": [
       "array([[0, 1, 2, 3, 4]])"
      ]
     },
     "execution_count": 21,
     "metadata": {},
     "output_type": "execute_result"
    }
   ],
   "source": [
    "row = data_1[np.newaxis,:]\n",
    "row"
   ]
  },
  {
   "cell_type": "code",
   "execution_count": 23,
   "id": "7bbd2aab-bce0-4015-91ab-57d569e03c51",
   "metadata": {},
   "outputs": [
    {
     "data": {
      "text/plain": [
       "(5,)"
      ]
     },
     "execution_count": 23,
     "metadata": {},
     "output_type": "execute_result"
    }
   ],
   "source": [
    "data_1.shape"
   ]
  },
  {
   "cell_type": "code",
   "execution_count": 25,
   "id": "af3e1ea9-243d-4ce9-beb0-db259f1bea9c",
   "metadata": {},
   "outputs": [
    {
     "data": {
      "text/plain": [
       "(1, 5)"
      ]
     },
     "execution_count": 25,
     "metadata": {},
     "output_type": "execute_result"
    }
   ],
   "source": [
    "row.shape"
   ]
  },
  {
   "cell_type": "code",
   "execution_count": 27,
   "id": "77bc1cd6-5661-4075-95de-99b2e69ad681",
   "metadata": {},
   "outputs": [
    {
     "data": {
      "text/plain": [
       "array([[0, 1, 2, 3, 4],\n",
       "       [0, 1, 2, 3, 4],\n",
       "       [0, 1, 2, 3, 4]])"
      ]
     },
     "execution_count": 27,
     "metadata": {},
     "output_type": "execute_result"
    }
   ],
   "source": [
    "np.vstack((data_1,data_1,data_1))"
   ]
  },
  {
   "cell_type": "code",
   "execution_count": 29,
   "id": "06c22c55-c845-4e36-86f1-38695829c8e8",
   "metadata": {},
   "outputs": [
    {
     "data": {
      "text/plain": [
       "array([0, 1, 2, 3, 4, 0, 1, 2, 3, 4, 0, 1, 2, 3, 4])"
      ]
     },
     "execution_count": 29,
     "metadata": {},
     "output_type": "execute_result"
    }
   ],
   "source": [
    "np.hstack((data_1,data_1,data_1))"
   ]
  },
  {
   "cell_type": "code",
   "execution_count": 31,
   "id": "5fa2002f-89e9-434d-b29d-a1e22ea2d211",
   "metadata": {},
   "outputs": [
    {
     "data": {
      "text/plain": [
       "array([[0, 0, 0],\n",
       "       [1, 1, 1],\n",
       "       [2, 2, 2],\n",
       "       [3, 3, 3],\n",
       "       [4, 4, 4]])"
      ]
     },
     "execution_count": 31,
     "metadata": {},
     "output_type": "execute_result"
    }
   ],
   "source": [
    "np.hstack((col,col,col))"
   ]
  },
  {
   "cell_type": "code",
   "execution_count": 33,
   "id": "d6373d92-9474-4142-9cfc-9ddb4cfb6096",
   "metadata": {},
   "outputs": [
    {
     "data": {
      "text/plain": [
       "array([[0, 0, 0],\n",
       "       [1, 1, 1],\n",
       "       [2, 2, 2],\n",
       "       [3, 3, 3],\n",
       "       [4, 4, 4]])"
      ]
     },
     "execution_count": 33,
     "metadata": {},
     "output_type": "execute_result"
    }
   ],
   "source": [
    "data = data_1[:,np.newaxis]\n",
    "np.hstack((data, data, data))"
   ]
  },
  {
   "cell_type": "code",
   "execution_count": 35,
   "id": "73a2a907-e69e-480e-9fd5-1d68cecec4a1",
   "metadata": {},
   "outputs": [
    {
     "data": {
      "text/plain": [
       "array([0, 1, 2, 3, 4])"
      ]
     },
     "execution_count": 35,
     "metadata": {},
     "output_type": "execute_result"
    }
   ],
   "source": [
    "data_1"
   ]
  },
  {
   "cell_type": "code",
   "execution_count": 37,
   "id": "b12197c4-1948-4602-a304-13d6d301914b",
   "metadata": {},
   "outputs": [
    {
     "data": {
      "text/plain": [
       "array([[0, 0, 0],\n",
       "       [1, 1, 1],\n",
       "       [2, 2, 2],\n",
       "       [3, 3, 3],\n",
       "       [4, 4, 4]])"
      ]
     },
     "execution_count": 37,
     "metadata": {},
     "output_type": "execute_result"
    }
   ],
   "source": [
    "np.hstack((data_1[:,np.newaxis],data_1[:,np.newaxis],data_1[:,np.newaxis]))"
   ]
  },
  {
   "cell_type": "code",
   "execution_count": 39,
   "id": "ba06ef31-251b-43a9-adc0-e8cfd3d61a4b",
   "metadata": {},
   "outputs": [
    {
     "data": {
      "text/plain": [
       "array([ 5,  2, 15,  3, 11, 14,  5,  9,  4, 10])"
      ]
     },
     "execution_count": 39,
     "metadata": {},
     "output_type": "execute_result"
    }
   ],
   "source": [
    "# sorting\n",
    "my_arr = np.random.randint(1,20,10)\n",
    "my_arr"
   ]
  },
  {
   "cell_type": "code",
   "execution_count": 41,
   "id": "280da53f-70f1-43be-8d03-80850c7196e8",
   "metadata": {},
   "outputs": [
    {
     "data": {
      "text/plain": [
       "array([ 2,  3,  4,  5,  5,  9, 10, 11, 14, 15])"
      ]
     },
     "execution_count": 41,
     "metadata": {},
     "output_type": "execute_result"
    }
   ],
   "source": [
    "np.sort(my_arr)"
   ]
  },
  {
   "cell_type": "code",
   "execution_count": 43,
   "id": "d3b981cf-62e7-4f01-8ac5-085037f05591",
   "metadata": {},
   "outputs": [
    {
     "data": {
      "text/plain": [
       "array([[15,  4,  5, 19],\n",
       "       [12, 16, 10,  5],\n",
       "       [ 4, 12,  8, 15]])"
      ]
     },
     "execution_count": 43,
     "metadata": {},
     "output_type": "execute_result"
    }
   ],
   "source": [
    "my_arr_1 = np.random.randint(1,20,size = (3,4))\n",
    "my_arr_1"
   ]
  },
  {
   "cell_type": "code",
   "execution_count": 45,
   "id": "f978d621-77db-4b6e-97bb-3a45fc490b28",
   "metadata": {},
   "outputs": [
    {
     "data": {
      "text/plain": [
       "array([[ 4,  5, 15, 19],\n",
       "       [ 5, 10, 12, 16],\n",
       "       [ 4,  8, 12, 15]])"
      ]
     },
     "execution_count": 45,
     "metadata": {},
     "output_type": "execute_result"
    }
   ],
   "source": [
    "np.sort(my_arr_1)"
   ]
  },
  {
   "cell_type": "code",
   "execution_count": 47,
   "id": "2e868580-2646-44b9-928a-328bd0b9523d",
   "metadata": {},
   "outputs": [
    {
     "data": {
      "text/plain": [
       "array([ 5,  2, 15,  3, 11, 14,  5,  9,  4, 10])"
      ]
     },
     "execution_count": 47,
     "metadata": {},
     "output_type": "execute_result"
    }
   ],
   "source": [
    "my_arr"
   ]
  },
  {
   "cell_type": "code",
   "execution_count": 51,
   "id": "28042a71-ebbf-4b13-88b2-8b10a419d431",
   "metadata": {},
   "outputs": [
    {
     "data": {
      "text/plain": [
       "array([10,  4,  9,  5, 14, 11,  3, 15,  2,  5])"
      ]
     },
     "execution_count": 51,
     "metadata": {},
     "output_type": "execute_result"
    }
   ],
   "source": [
    "np.flipud(my_arr)"
   ]
  },
  {
   "cell_type": "code",
   "execution_count": 55,
   "id": "c7a01d72-012b-4e0e-87a4-d203b653fa4c",
   "metadata": {},
   "outputs": [
    {
     "data": {
      "text/plain": [
       "array([15, 14, 11, 10,  9,  5,  5,  4,  3,  2])"
      ]
     },
     "execution_count": 55,
     "metadata": {},
     "output_type": "execute_result"
    }
   ],
   "source": [
    "np.flipud(np.sort(my_arr))"
   ]
  },
  {
   "cell_type": "code",
   "execution_count": 57,
   "id": "a61f917b-41d5-4cce-bcff-f33d7b671019",
   "metadata": {},
   "outputs": [
    {
     "data": {
      "text/plain": [
       "array([[15,  4,  5, 19],\n",
       "       [12, 16, 10,  5],\n",
       "       [ 4, 12,  8, 15]])"
      ]
     },
     "execution_count": 57,
     "metadata": {},
     "output_type": "execute_result"
    }
   ],
   "source": [
    "my_arr_1"
   ]
  },
  {
   "cell_type": "code",
   "execution_count": 59,
   "id": "e31b7139-445b-4311-afb6-bedfce7115ce",
   "metadata": {},
   "outputs": [
    {
     "data": {
      "text/plain": [
       "array([[ 4,  5, 15, 19],\n",
       "       [ 5, 10, 12, 16],\n",
       "       [ 4,  8, 12, 15]])"
      ]
     },
     "execution_count": 59,
     "metadata": {},
     "output_type": "execute_result"
    }
   ],
   "source": [
    "np.sort(my_arr_1)"
   ]
  },
  {
   "cell_type": "code",
   "execution_count": 61,
   "id": "eab7a22f-c434-4aa1-a2a4-c79aed2111d7",
   "metadata": {},
   "outputs": [
    {
     "data": {
      "text/plain": [
       "array([[19, 15,  5,  4],\n",
       "       [16, 12, 10,  5],\n",
       "       [15, 12,  8,  4]])"
      ]
     },
     "execution_count": 61,
     "metadata": {},
     "output_type": "execute_result"
    }
   ],
   "source": [
    "np.sort(my_arr_1)[:,::-1]"
   ]
  },
  {
   "cell_type": "code",
   "execution_count": 63,
   "id": "8cbd99c4-1a59-40b3-915d-4cd376568682",
   "metadata": {},
   "outputs": [
    {
     "data": {
      "text/plain": [
       "array([[15, 16, 10, 19],\n",
       "       [12, 12,  8, 15],\n",
       "       [ 4,  4,  5,  5]])"
      ]
     },
     "execution_count": 63,
     "metadata": {},
     "output_type": "execute_result"
    }
   ],
   "source": [
    "np.sort(my_arr_1,axis = 0)[::-1]"
   ]
  },
  {
   "cell_type": "code",
   "execution_count": 67,
   "id": "fa38ef65-6340-41a6-a297-ff0fab0d08a9",
   "metadata": {},
   "outputs": [
    {
     "data": {
      "text/plain": [
       "array([19, 16, 15, 15, 12, 12, 10,  8,  5,  5,  4,  4])"
      ]
     },
     "execution_count": 67,
     "metadata": {},
     "output_type": "execute_result"
    }
   ],
   "source": [
    "np.sort(my_arr_1,axis = None)[::-1]"
   ]
  },
  {
   "cell_type": "code",
   "execution_count": 69,
   "id": "40e39314-f8f1-4adc-aaa0-837d22365a9e",
   "metadata": {},
   "outputs": [
    {
     "data": {
      "text/plain": [
       "array([[15,  4,  5, 19],\n",
       "       [12, 16, 10,  5],\n",
       "       [ 4, 12,  8, 15]])"
      ]
     },
     "execution_count": 69,
     "metadata": {},
     "output_type": "execute_result"
    }
   ],
   "source": [
    "my_arr_1"
   ]
  },
  {
   "cell_type": "code",
   "execution_count": 71,
   "id": "124ec106-08ed-433e-b6f4-7d193697e138",
   "metadata": {},
   "outputs": [
    {
     "data": {
      "text/plain": [
       "array([[ 4,  8, 12, 15],\n",
       "       [ 5, 10, 12, 16],\n",
       "       [ 4,  5, 15, 19]])"
      ]
     },
     "execution_count": 71,
     "metadata": {},
     "output_type": "execute_result"
    }
   ],
   "source": [
    "np.sort(my_arr_1)[::-1,:]"
   ]
  },
  {
   "cell_type": "code",
   "execution_count": 73,
   "id": "31896653-0da1-43cf-a546-f7ea679ff735",
   "metadata": {},
   "outputs": [
    {
     "data": {
      "text/plain": [
       "array([[ 4,  5, 15, 19],\n",
       "       [ 5, 10, 12, 16],\n",
       "       [ 4,  8, 12, 15]])"
      ]
     },
     "execution_count": 73,
     "metadata": {},
     "output_type": "execute_result"
    }
   ],
   "source": [
    "np.sort(my_arr_1)"
   ]
  },
  {
   "cell_type": "code",
   "execution_count": 75,
   "id": "c3e2b63c-a146-49ed-966c-1bde9f808811",
   "metadata": {},
   "outputs": [
    {
     "data": {
      "text/plain": [
       "array([[ 4,  9, 13,  5],\n",
       "       [ 2,  6, 17,  6],\n",
       "       [16, 15,  8, 13],\n",
       "       [13, 14, 18, 12],\n",
       "       [ 4,  5,  5, 15]])"
      ]
     },
     "execution_count": 75,
     "metadata": {},
     "output_type": "execute_result"
    }
   ],
   "source": [
    "my_arr_2 = np.random.randint(1,20,size = (5,4))\n",
    "my_arr_2"
   ]
  },
  {
   "cell_type": "code",
   "execution_count": 77,
   "id": "8410498e-8468-4b91-9415-385ced90ae95",
   "metadata": {},
   "outputs": [
    {
     "data": {
      "text/plain": [
       "array([[ 4,  5,  9, 13],\n",
       "       [ 2,  6,  6, 17],\n",
       "       [ 8, 13, 15, 16],\n",
       "       [12, 13, 14, 18],\n",
       "       [ 4,  5,  5, 15]])"
      ]
     },
     "execution_count": 77,
     "metadata": {},
     "output_type": "execute_result"
    }
   ],
   "source": [
    "np.sort(my_arr_2)"
   ]
  },
  {
   "cell_type": "code",
   "execution_count": 79,
   "id": "af43badd-9e9b-4ea7-b12b-f0cd1b998860",
   "metadata": {},
   "outputs": [
    {
     "data": {
      "text/plain": [
       "array([[ 4,  5,  5, 15],\n",
       "       [12, 13, 14, 18],\n",
       "       [ 8, 13, 15, 16],\n",
       "       [ 2,  6,  6, 17],\n",
       "       [ 4,  5,  9, 13]])"
      ]
     },
     "execution_count": 79,
     "metadata": {},
     "output_type": "execute_result"
    }
   ],
   "source": [
    "np.sort(my_arr_2)[::-1,:]"
   ]
  },
  {
   "cell_type": "code",
   "execution_count": 83,
   "id": "6cacdcc9-18ff-4deb-87bc-8550042fc7d0",
   "metadata": {},
   "outputs": [
    {
     "data": {
      "text/plain": [
       "array([[ 4,  9, 13,  5],\n",
       "       [ 2,  6, 17,  6],\n",
       "       [16, 15,  8, 13],\n",
       "       [13, 14, 18, 12],\n",
       "       [ 4,  5,  5, 15]])"
      ]
     },
     "execution_count": 83,
     "metadata": {},
     "output_type": "execute_result"
    }
   ],
   "source": [
    "my_arr_2"
   ]
  },
  {
   "cell_type": "code",
   "execution_count": 81,
   "id": "2b8f6a8f-c3a6-4a5d-bd7b-60d8866b7582",
   "metadata": {},
   "outputs": [
    {
     "data": {
      "text/plain": [
       "array([[ 4,  5,  5, 15],\n",
       "       [12, 13, 14, 18],\n",
       "       [ 8, 13, 15, 16],\n",
       "       [ 2,  6,  6, 17],\n",
       "       [ 4,  5,  9, 13]])"
      ]
     },
     "execution_count": 81,
     "metadata": {},
     "output_type": "execute_result"
    }
   ],
   "source": [
    "np.sort(my_arr_2,axis = 1)[::-1]"
   ]
  },
  {
   "cell_type": "code",
   "execution_count": 85,
   "id": "5aa7298e-2371-4766-98d6-d1d558f4005a",
   "metadata": {},
   "outputs": [
    {
     "data": {
      "text/plain": [
       "array([[ 4,  5,  5, 15],\n",
       "       [12, 13, 14, 18],\n",
       "       [ 8, 13, 15, 16],\n",
       "       [ 2,  6,  6, 17],\n",
       "       [ 4,  5,  9, 13]])"
      ]
     },
     "execution_count": 85,
     "metadata": {},
     "output_type": "execute_result"
    }
   ],
   "source": [
    "np.flipud(np.sort(my_arr_2))"
   ]
  },
  {
   "cell_type": "code",
   "execution_count": 87,
   "id": "14fa2246-6893-46f0-a4f1-98079e1392fc",
   "metadata": {},
   "outputs": [
    {
     "data": {
      "text/plain": [
       "array([46, 68, 90])"
      ]
     },
     "execution_count": 87,
     "metadata": {},
     "output_type": "execute_result"
    }
   ],
   "source": [
    "ar1 = np.array([12,23,34])\n",
    "ar2 = np.array([34,45,56])\n",
    "ar1+ar2"
   ]
  },
  {
   "cell_type": "code",
   "execution_count": 89,
   "id": "6a065061-4164-4c85-808f-dc704e83d40c",
   "metadata": {},
   "outputs": [
    {
     "data": {
      "text/plain": [
       "array([[ 2,  4,  6],\n",
       "       [ 8, 10, 12]])"
      ]
     },
     "execution_count": 89,
     "metadata": {},
     "output_type": "execute_result"
    }
   ],
   "source": [
    "ar_1 = np.array([[1,2,3],\n",
    "                 [4,5,6]])\n",
    "ar_2 = np.array([[1,2,3],\n",
    "                 [4,5,6]])\n",
    "ar_1+ar_2"
   ]
  },
  {
   "cell_type": "code",
   "execution_count": 91,
   "id": "c6776c74-5cda-4542-a0c4-7350961283d0",
   "metadata": {},
   "outputs": [
    {
     "data": {
      "text/plain": [
       "array([ 408, 1035, 1904])"
      ]
     },
     "execution_count": 91,
     "metadata": {},
     "output_type": "execute_result"
    }
   ],
   "source": [
    "ar1*ar2"
   ]
  },
  {
   "cell_type": "code",
   "execution_count": 93,
   "id": "5dee832d-21fb-480d-8178-1d93ca82a1ec",
   "metadata": {},
   "outputs": [
    {
     "data": {
      "text/plain": [
       "array([[ 1,  4,  9],\n",
       "       [16, 25, 36]])"
      ]
     },
     "execution_count": 93,
     "metadata": {},
     "output_type": "execute_result"
    }
   ],
   "source": [
    "ar_1*ar_2"
   ]
  },
  {
   "cell_type": "code",
   "execution_count": 95,
   "id": "61505b97-a51a-4751-a547-2c0e4624f808",
   "metadata": {},
   "outputs": [],
   "source": [
    "# broadcasting numpy\n",
    "mya1 = np.array([14,15,16])\n",
    "mya2 = np.array([10])"
   ]
  },
  {
   "cell_type": "code",
   "execution_count": 97,
   "id": "7c14511c-f965-4e4c-b5a1-fac9ac05574d",
   "metadata": {},
   "outputs": [
    {
     "data": {
      "text/plain": [
       "array([14, 15, 16])"
      ]
     },
     "execution_count": 97,
     "metadata": {},
     "output_type": "execute_result"
    }
   ],
   "source": [
    "mya1"
   ]
  },
  {
   "cell_type": "code",
   "execution_count": 107,
   "id": "ac8c8d6d-db82-4242-9bb8-2f6a8d5d4799",
   "metadata": {},
   "outputs": [
    {
     "data": {
      "text/plain": [
       "(3,)"
      ]
     },
     "execution_count": 107,
     "metadata": {},
     "output_type": "execute_result"
    }
   ],
   "source": [
    "mya1.shape"
   ]
  },
  {
   "cell_type": "code",
   "execution_count": 99,
   "id": "4e7ecd32-4cb9-41f3-bd82-6cd9c949e514",
   "metadata": {},
   "outputs": [
    {
     "data": {
      "text/plain": [
       "array([10])"
      ]
     },
     "execution_count": 99,
     "metadata": {},
     "output_type": "execute_result"
    }
   ],
   "source": [
    "mya2"
   ]
  },
  {
   "cell_type": "code",
   "execution_count": 109,
   "id": "ebbae751-4ac3-427d-be47-beec5f2e65be",
   "metadata": {},
   "outputs": [
    {
     "data": {
      "text/plain": [
       "(1,)"
      ]
     },
     "execution_count": 109,
     "metadata": {},
     "output_type": "execute_result"
    }
   ],
   "source": [
    "mya2.shape"
   ]
  },
  {
   "cell_type": "code",
   "execution_count": 101,
   "id": "b7a6bb46-109f-4a8b-b15f-0768747daa25",
   "metadata": {},
   "outputs": [
    {
     "data": {
      "text/plain": [
       "array([24, 25, 26])"
      ]
     },
     "execution_count": 101,
     "metadata": {},
     "output_type": "execute_result"
    }
   ],
   "source": [
    "mya1+mya2"
   ]
  },
  {
   "cell_type": "code",
   "execution_count": 103,
   "id": "97ac6220-3816-4466-9aab-71e558f8de95",
   "metadata": {},
   "outputs": [
    {
     "data": {
      "text/plain": [
       "array([[15, 14, 18, 14],\n",
       "       [ 3, 16, 13, 12],\n",
       "       [19,  5, 15, 12]])"
      ]
     },
     "execution_count": 103,
     "metadata": {},
     "output_type": "execute_result"
    }
   ],
   "source": [
    "mya3 = np.random.randint(1,20, size = (3,4))\n",
    "mya3\n"
   ]
  },
  {
   "cell_type": "code",
   "execution_count": 105,
   "id": "82a64fb1-3825-4a91-8770-4024267b0a7a",
   "metadata": {},
   "outputs": [
    {
     "ename": "ValueError",
     "evalue": "operands could not be broadcast together with shapes (3,) (3,4) ",
     "output_type": "error",
     "traceback": [
      "\u001b[1;31m---------------------------------------------------------------------------\u001b[0m",
      "\u001b[1;31mValueError\u001b[0m                                Traceback (most recent call last)",
      "Cell \u001b[1;32mIn[105], line 1\u001b[0m\n\u001b[1;32m----> 1\u001b[0m mya1\u001b[38;5;241m*\u001b[39mmya3\n",
      "\u001b[1;31mValueError\u001b[0m: operands could not be broadcast together with shapes (3,) (3,4) "
     ]
    }
   ],
   "source": [
    "mya1*mya3"
   ]
  },
  {
   "cell_type": "code",
   "execution_count": 111,
   "id": "f3ab8ebb-d2d6-4ae8-9bfc-735e99b8a741",
   "metadata": {},
   "outputs": [
    {
     "ename": "ValueError",
     "evalue": "operands could not be broadcast together with shapes (1,3) (3,4) ",
     "output_type": "error",
     "traceback": [
      "\u001b[1;31m---------------------------------------------------------------------------\u001b[0m",
      "\u001b[1;31mValueError\u001b[0m                                Traceback (most recent call last)",
      "Cell \u001b[1;32mIn[111], line 1\u001b[0m\n\u001b[1;32m----> 1\u001b[0m mya1[np\u001b[38;5;241m.\u001b[39mnewaxis,:] \u001b[38;5;241m*\u001b[39m mya3\n",
      "\u001b[1;31mValueError\u001b[0m: operands could not be broadcast together with shapes (1,3) (3,4) "
     ]
    }
   ],
   "source": [
    "mya1[np.newaxis,:] * mya3\n"
   ]
  },
  {
   "cell_type": "code",
   "execution_count": 113,
   "id": "939232b5-6b15-4feb-ad8e-6c9783cef949",
   "metadata": {},
   "outputs": [
    {
     "data": {
      "text/plain": [
       "array([[14, 15, 16]])"
      ]
     },
     "execution_count": 113,
     "metadata": {},
     "output_type": "execute_result"
    }
   ],
   "source": [
    "mya1[np.newaxis,:]"
   ]
  },
  {
   "cell_type": "code",
   "execution_count": 115,
   "id": "1174cd98-2408-4921-ab2c-708b5cf4ea55",
   "metadata": {},
   "outputs": [
    {
     "data": {
      "text/plain": [
       "array([2, 3, 4])"
      ]
     },
     "execution_count": 115,
     "metadata": {},
     "output_type": "execute_result"
    }
   ],
   "source": [
    "# 1=> scalar\n",
    "arr = np.array([1,2,3])\n",
    "res = arr+1\n",
    "res"
   ]
  },
  {
   "cell_type": "code",
   "execution_count": 117,
   "id": "ccd4edf1-c695-4f05-ba0d-c202373981cc",
   "metadata": {},
   "outputs": [
    {
     "data": {
      "text/plain": [
       "array([1, 2, 3])"
      ]
     },
     "execution_count": 117,
     "metadata": {},
     "output_type": "execute_result"
    }
   ],
   "source": [
    "# 1D / 2D\n",
    "arr"
   ]
  },
  {
   "cell_type": "code",
   "execution_count": 119,
   "id": "63043d50-f0c8-4cae-ac70-1474d176c89f",
   "metadata": {},
   "outputs": [
    {
     "data": {
      "text/plain": [
       "array([[2, 4, 6],\n",
       "       [5, 7, 9]])"
      ]
     },
     "execution_count": 119,
     "metadata": {},
     "output_type": "execute_result"
    }
   ],
   "source": [
    "arr2 = np.array([[1,2,3],\n",
    "                 [4,5,6]])\n",
    "arr+arr2"
   ]
  },
  {
   "cell_type": "code",
   "execution_count": 121,
   "id": "585dda62-2289-4bfe-96ea-739a50919206",
   "metadata": {},
   "outputs": [
    {
     "data": {
      "text/plain": [
       "array([[ 1,  4,  9],\n",
       "       [ 4, 10, 18]])"
      ]
     },
     "execution_count": 121,
     "metadata": {},
     "output_type": "execute_result"
    }
   ],
   "source": [
    "arr*arr2"
   ]
  },
  {
   "cell_type": "code",
   "execution_count": 123,
   "id": "a9476593-189e-45ea-a39f-e5b8005fec91",
   "metadata": {},
   "outputs": [
    {
     "data": {
      "text/plain": [
       "array([[ 3,  8, 16, 11],\n",
       "       [19,  4,  8, 17],\n",
       "       [ 9,  1, 14,  8]])"
      ]
     },
     "execution_count": 123,
     "metadata": {},
     "output_type": "execute_result"
    }
   ],
   "source": [
    "A1 = np.random.randint(1,20,size = (3,4))\n",
    "A1"
   ]
  },
  {
   "cell_type": "code",
   "execution_count": 125,
   "id": "197e719e-30a6-4986-bd57-8bd88a50af18",
   "metadata": {},
   "outputs": [
    {
     "data": {
      "text/plain": [
       "array([[5],\n",
       "       [6],\n",
       "       [7]])"
      ]
     },
     "execution_count": 125,
     "metadata": {},
     "output_type": "execute_result"
    }
   ],
   "source": [
    "A2 = np.array([[5],[6],[7]])\n",
    "A2"
   ]
  },
  {
   "cell_type": "code",
   "execution_count": 127,
   "id": "c083ddd7-0de0-483b-9bd8-23f851eabbda",
   "metadata": {},
   "outputs": [
    {
     "data": {
      "text/plain": [
       "array([[ 15,  40,  80,  55],\n",
       "       [114,  24,  48, 102],\n",
       "       [ 63,   7,  98,  56]])"
      ]
     },
     "execution_count": 127,
     "metadata": {},
     "output_type": "execute_result"
    }
   ],
   "source": [
    "A1*A2"
   ]
  },
  {
   "cell_type": "code",
   "execution_count": 129,
   "id": "a41cf442-cedb-46d0-84a3-5d5e4b86d652",
   "metadata": {},
   "outputs": [
    {
     "data": {
      "text/plain": [
       "array([10, 12, 14, 16, 18, 20])"
      ]
     },
     "execution_count": 129,
     "metadata": {},
     "output_type": "execute_result"
    }
   ],
   "source": [
    "# copying\n",
    "a1 = np.array([10,12,14,16,18,20])\n",
    "a1"
   ]
  },
  {
   "cell_type": "code",
   "execution_count": 131,
   "id": "749a984c-7e4f-4c10-8a05-279e1f1c53bc",
   "metadata": {},
   "outputs": [
    {
     "data": {
      "text/plain": [
       "array([10, 12, 14, 16, 18, 20])"
      ]
     },
     "execution_count": 131,
     "metadata": {},
     "output_type": "execute_result"
    }
   ],
   "source": [
    "a2 = a1.copy()\n",
    "a2"
   ]
  },
  {
   "cell_type": "code",
   "execution_count": 133,
   "id": "9485eede-abde-41a7-afd1-38b05f7565d5",
   "metadata": {},
   "outputs": [
    {
     "data": {
      "text/plain": [
       "array([10, 78, 14, 16, 18, 20])"
      ]
     },
     "execution_count": 133,
     "metadata": {},
     "output_type": "execute_result"
    }
   ],
   "source": [
    "a2[1] = 78\n",
    "a2"
   ]
  },
  {
   "cell_type": "code",
   "execution_count": 135,
   "id": "47c465bf-2492-4859-8cd2-eb5e159ac96b",
   "metadata": {},
   "outputs": [
    {
     "data": {
      "text/plain": [
       "array([10, 12, 14, 16, 18, 20])"
      ]
     },
     "execution_count": 135,
     "metadata": {},
     "output_type": "execute_result"
    }
   ],
   "source": [
    "a1"
   ]
  },
  {
   "cell_type": "code",
   "execution_count": 137,
   "id": "ab67b3ff-2792-400b-bf1c-ae41411202ea",
   "metadata": {},
   "outputs": [
    {
     "data": {
      "text/plain": [
       "array([10, 12, 14, 16, 18, 20])"
      ]
     },
     "execution_count": 137,
     "metadata": {},
     "output_type": "execute_result"
    }
   ],
   "source": [
    "a3 = a1.view()\n",
    "a3"
   ]
  },
  {
   "cell_type": "code",
   "execution_count": 139,
   "id": "f0221e87-6d00-48bb-b6d9-8f07523666c9",
   "metadata": {},
   "outputs": [
    {
     "data": {
      "text/plain": [
       "array([10, 12, 14, 98, 18, 20])"
      ]
     },
     "execution_count": 139,
     "metadata": {},
     "output_type": "execute_result"
    }
   ],
   "source": [
    "a3[3] = 98\n",
    "a3"
   ]
  },
  {
   "cell_type": "code",
   "execution_count": 141,
   "id": "88558f75-51f9-47a9-9c34-797a7466cda5",
   "metadata": {},
   "outputs": [
    {
     "data": {
      "text/plain": [
       "array([10, 12, 14, 98, 18, 20])"
      ]
     },
     "execution_count": 141,
     "metadata": {},
     "output_type": "execute_result"
    }
   ],
   "source": [
    "a1"
   ]
  },
  {
   "cell_type": "code",
   "execution_count": 143,
   "id": "0b3b19d1-250d-48c6-a22e-69012553d9af",
   "metadata": {},
   "outputs": [
    {
     "data": {
      "text/plain": [
       "array([[ 0,  1,  2,  3,  4,  5],\n",
       "       [10, 11, 12, 13, 14, 15],\n",
       "       [20, 21, 22, 23, 24, 25],\n",
       "       [30, 31, 32, 33, 34, 35],\n",
       "       [40, 41, 42, 43, 44, 45],\n",
       "       [50, 51, 52, 53, 54, 55]])"
      ]
     },
     "execution_count": 143,
     "metadata": {},
     "output_type": "execute_result"
    }
   ],
   "source": [
    "f = lambda m,n:n+10*m\n",
    "A = np.fromfunction(f,(6,6), dtype = int)\n",
    "A"
   ]
  },
  {
   "cell_type": "code",
   "execution_count": 147,
   "id": "63407f15-cd80-46fe-a30c-bf55521eb514",
   "metadata": {},
   "outputs": [
    {
     "data": {
      "text/plain": [
       "array([[ 0,  1,  2,  3,  4,  5],\n",
       "       [10, 11, 12, 13, 14, 15],\n",
       "       [20, 21, 22, 23, 24, 25],\n",
       "       [30, 31, 32, 33, 34, 35],\n",
       "       [40, 41, 42, 43, 44, 45],\n",
       "       [50, 51, 52, 53, 54, 55]])"
      ]
     },
     "execution_count": 147,
     "metadata": {},
     "output_type": "execute_result"
    }
   ],
   "source": [
    "B = A.view()\n",
    "B"
   ]
  },
  {
   "cell_type": "code",
   "execution_count": null,
   "id": "3d0153d2-25ba-4a17-b428-ea0711b98919",
   "metadata": {},
   "outputs": [],
   "source": []
  }
 ],
 "metadata": {
  "kernelspec": {
   "display_name": "Python [conda env:base] *",
   "language": "python",
   "name": "conda-base-py"
  },
  "language_info": {
   "codemirror_mode": {
    "name": "ipython",
    "version": 3
   },
   "file_extension": ".py",
   "mimetype": "text/x-python",
   "name": "python",
   "nbconvert_exporter": "python",
   "pygments_lexer": "ipython3",
   "version": "3.12.4"
  }
 },
 "nbformat": 4,
 "nbformat_minor": 5
}
