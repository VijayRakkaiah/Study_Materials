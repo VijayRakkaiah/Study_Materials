{
 "cells": [
  {
   "cell_type": "markdown",
   "metadata": {},
   "source": [
    "# Loops in Python\n",
    "\n",
    "Loops in Python programming function similar to loops in C, C++, Java or other languages. Python loops are used to repeatedly execute a block of statements until a given condition returns to be **`False`**. In Python, we have **two types of looping statements**, namely:\n",
    "<div>\n",
    "<img src=\"img/loop1.png\" width=\"200\"/>\n",
    "</div>"
   ]
  },
  {
   "cell_type": "markdown",
   "metadata": {},
   "source": [
    "# Python `for` Loop\n",
    "\n",
    "In this class, you'll learn to iterate over a sequence of elements using the different variations of **`for`** loop. We use a **`for`** loop when we want to repeat a code block for a **fixed number of times**."
   ]
  },
  {
   "cell_type": "markdown",
   "metadata": {},
   "source": [
    "### Syntax :\n",
    "\n",
    "```python  \n",
    "for element in sequence:\n",
    "    body of for loop \n",
    "```\n",
    "\n",
    "1. First, **`element`** is the variable that takes the value of the item inside the sequence on each iteration.\n",
    "\n",
    "2. Second, all the **`statements`** in the body of the for loop are executed with the same value. The body of for loop is separated from the rest of the code using indentation.\n",
    "\n",
    "3. Finally, loop continues until we reach the last item in the **`sequence`**. The body of for loop is separated from the rest of the code using indentation.\n",
    "\n",
    "<div>\n",
    "<img src=\"img/for0.png\" width=\"400\"/>\n",
    "</div>"
   ]
  },
  {
   "cell_type": "code",
   "execution_count": 2,
   "metadata": {},
   "outputs": [
    {
     "name": "stdout",
     "output_type": "stream",
     "text": [
      "one\n",
      "two\n",
      "three\n"
     ]
    }
   ],
   "source": [
    "words = [\"one\",\"two\",\"three\"]\n",
    "for i in words:\n",
    "    print(i)"
   ]
  },
  {
   "cell_type": "code",
   "execution_count": 4,
   "metadata": {},
   "outputs": [
    {
     "name": "stdout",
     "output_type": "stream",
     "text": [
      "before:  10\n",
      "after:  10\n",
      "before:  20\n",
      "after:  30\n",
      "before:  30\n",
      "after:  60\n",
      "before:  40\n",
      "after:  100\n",
      "before:  50\n",
      "after:  150\n",
      "the sum is  150\n"
     ]
    }
   ],
   "source": [
    "num = [10,20,30,40,50]\n",
    "sum = 0\n",
    "for a in num:\n",
    "    print(\"before: \",a)\n",
    "    sum = sum + a\n",
    "    print(\"after: \", sum)\n",
    "print(\"the sum is \",sum)\n",
    "    \n",
    "    "
   ]
  },
  {
   "cell_type": "code",
   "execution_count": 38,
   "metadata": {},
   "outputs": [
    {
     "name": "stdout",
     "output_type": "stream",
     "text": [
      "the sum is  150\n"
     ]
    }
   ],
   "source": [
    "num = [10,20,30,40,50]\n",
    "sum = 0\n",
    "for a in num:\n",
    "   sum = sum + a\n",
    "print(\"the sum is \",sum)\n",
    "    "
   ]
  },
  {
   "cell_type": "code",
   "execution_count": 6,
   "metadata": {},
   "outputs": [
    {
     "name": "stdout",
     "output_type": "stream",
     "text": [
      "before:  10\n",
      "after:  10\n",
      "before:  20\n",
      "after:  30\n",
      "before:  30\n",
      "after:  60\n",
      "before:  40\n",
      "after:  100\n",
      "before:  50\n",
      "after:  150\n",
      "the sum is  150\n",
      "average:  30.0\n"
     ]
    }
   ],
   "source": [
    "num = [10,20,30,40,50]\n",
    "sum = 0\n",
    "for a in num:\n",
    "    print(\"before: \",a)\n",
    "    sum = sum + a\n",
    "    print(\"after: \", sum)\n",
    "print(\"the sum is \",sum)\n",
    "list_num = len(num)\n",
    "print(\"average: \",sum/list_num)"
   ]
  },
  {
   "cell_type": "code",
   "execution_count": 8,
   "metadata": {},
   "outputs": [
    {
     "name": "stdout",
     "output_type": "stream",
     "text": [
      "before:  10\n",
      "after:  10\n",
      "the sum is  10\n",
      "before:  20\n",
      "after:  30\n",
      "the sum is  30\n",
      "before:  30\n",
      "after:  60\n",
      "the sum is  60\n",
      "before:  40\n",
      "after:  100\n",
      "the sum is  100\n",
      "before:  50\n",
      "after:  150\n",
      "the sum is  150\n"
     ]
    }
   ],
   "source": [
    "num = [10,20,30,40,50]\n",
    "sum = 0\n",
    "for a in num:\n",
    "    print(\"before: \",a)\n",
    "    sum = sum + a\n",
    "    print(\"after: \", sum)\n",
    "print(\"the sum is \",sum)"
   ]
  },
  {
   "cell_type": "code",
   "execution_count": null,
   "metadata": {},
   "outputs": [],
   "source": []
  },
  {
   "cell_type": "markdown",
   "metadata": {},
   "source": [
    "## `for` loop with `range()` function\n",
    "\n",
    "The **[range()](https://github.com/milaan9/04_Python_Functions/blob/main/002_Python_Functions_Built_in/053_Python_range%28%29.ipynb)** function returns a sequence of numbers starting from 0 (by default) if the initial limit is not specified and it increments by 1 (by default) until a final limit is reached.\n",
    "\n",
    "The **`range()`** function is used with a loop to specify the range (how many times) the code block will be executed. Let us see with an example.\n",
    "\n",
    "We can generate a sequence of numbers using **`range()`** function. **`range(5)`** will generate numbers from 0 to 4 (5 numbers). \n",
    "\n",
    "<div>\n",
    "<img src=\"img/forrange.png\" width=\"600\"/>\n",
    "</div>\n",
    "\n",
    "The **`range()`** function is \"lazy\" in a sense because it doesn't generate every number that it \"contains\" when we create it. However, it is not an iterator since it supports **[len()](https://github.com/milaan9/04_Python_Functions/blob/main/002_Python_Functions_Built_in/040_Python_len%28%29.ipynb)** and **`__getitem__`** operations.\n",
    "\n",
    "This **`range()`** function does not store all the values in memory; it would be inefficient. So it remembers the start, stop, step size and generates the next number on the go.\n",
    "\n",
    "We can also define the start, stop and step size as **`range(start, stop,step_size)`**. **`step_size`** defaults to 1 if not provided."
   ]
  },
  {
   "cell_type": "code",
   "execution_count": 10,
   "metadata": {},
   "outputs": [
    {
     "name": "stdout",
     "output_type": "stream",
     "text": [
      "0\n",
      "1\n",
      "2\n",
      "3\n",
      "4\n",
      "5\n",
      "6\n",
      "7\n",
      "8\n",
      "9\n"
     ]
    }
   ],
   "source": [
    "for i in range(10):\n",
    "    print(i)"
   ]
  },
  {
   "cell_type": "code",
   "execution_count": 12,
   "metadata": {},
   "outputs": [
    {
     "name": "stdout",
     "output_type": "stream",
     "text": [
      "3\n",
      "4\n",
      "5\n",
      "6\n",
      "7\n",
      "8\n",
      "9\n",
      "10\n",
      "11\n",
      "12\n",
      "13\n",
      "14\n"
     ]
    }
   ],
   "source": [
    "for i in range(3,15):\n",
    "    print(i)"
   ]
  },
  {
   "cell_type": "code",
   "execution_count": 14,
   "metadata": {},
   "outputs": [
    {
     "name": "stdout",
     "output_type": "stream",
     "text": [
      "2\n",
      "4\n",
      "6\n",
      "8\n",
      "10\n",
      "12\n"
     ]
    }
   ],
   "source": [
    "for i in range(2,14,2):\n",
    "    print(i)"
   ]
  },
  {
   "cell_type": "code",
   "execution_count": null,
   "metadata": {},
   "outputs": [],
   "source": []
  },
  {
   "cell_type": "markdown",
   "metadata": {},
   "source": [
    "## `for` loop with `if-else`\n",
    "\n"
   ]
  },
  {
   "cell_type": "code",
   "execution_count": 16,
   "metadata": {},
   "outputs": [
    {
     "name": "stdout",
     "output_type": "stream",
     "text": [
      "Even number:  2\n",
      "Even number:  4\n",
      "Even number:  6\n",
      "Even number:  8\n",
      "Even number:  10\n"
     ]
    }
   ],
   "source": [
    "for i in range(1,11):\n",
    "    if i %2==0:\n",
    "        print(\"Even number: \",i)\n",
    "        "
   ]
  },
  {
   "cell_type": "code",
   "execution_count": 18,
   "metadata": {},
   "outputs": [
    {
     "name": "stdout",
     "output_type": "stream",
     "text": [
      "Odd number:  1\n",
      "Even number:  2\n",
      "Odd number:  3\n",
      "Even number:  4\n",
      "Odd number:  5\n",
      "Even number:  6\n",
      "Odd number:  7\n",
      "Even number:  8\n",
      "Odd number:  9\n",
      "Even number:  10\n"
     ]
    }
   ],
   "source": [
    "for i in range(1,11):\n",
    "    if i %2==0:\n",
    "        print(\"Even number: \",i)\n",
    "    else:\n",
    "        print(\"Odd number: \",i)"
   ]
  },
  {
   "cell_type": "code",
   "execution_count": null,
   "metadata": {},
   "outputs": [],
   "source": []
  },
  {
   "cell_type": "code",
   "execution_count": null,
   "metadata": {},
   "outputs": [],
   "source": []
  },
  {
   "cell_type": "code",
   "execution_count": null,
   "metadata": {},
   "outputs": [],
   "source": []
  },
  {
   "cell_type": "markdown",
   "metadata": {},
   "source": [
    "## `for` loop with `else`\n",
    "\n",
    "A **`for`** loop can have an optional **`else`** block as well. The **`else`** part is executed if the items in the sequence used in for loop exhausts.\n",
    "\n",
    "**`else`** block will be skipped/ignored when:\n",
    "\n",
    "* **`for`** loop terminate abruptly\n",
    "* the **[break statement]** is used to break the **`for`** loop."
   ]
  },
  {
   "cell_type": "code",
   "execution_count": 20,
   "metadata": {},
   "outputs": [
    {
     "name": "stdout",
     "output_type": "stream",
     "text": [
      "x\n",
      "x\n",
      "x\n",
      "x\n",
      "x\n"
     ]
    }
   ],
   "source": [
    "dig = [1,2,3,4,5]\n",
    "for x in dig:\n",
    "    print(\"x\")"
   ]
  },
  {
   "cell_type": "code",
   "execution_count": 22,
   "metadata": {},
   "outputs": [
    {
     "name": "stdout",
     "output_type": "stream",
     "text": [
      "1\n",
      "2\n",
      "3\n",
      "4\n",
      "5\n"
     ]
    }
   ],
   "source": [
    "dig = [1,2,3,4,5]\n",
    "for x in dig:\n",
    "    print(x)"
   ]
  },
  {
   "cell_type": "code",
   "execution_count": 24,
   "metadata": {},
   "outputs": [
    {
     "name": "stdout",
     "output_type": "stream",
     "text": [
      "1\n",
      "2\n",
      "3\n",
      "4\n",
      "5\n",
      "its done\n"
     ]
    }
   ],
   "source": [
    "dig = [1,2,3,4,5]\n",
    "for x in dig:\n",
    "    print(x)\n",
    "else:\n",
    "    print(\"its done\")"
   ]
  },
  {
   "cell_type": "code",
   "execution_count": 26,
   "metadata": {},
   "outputs": [
    {
     "name": "stdout",
     "output_type": "stream",
     "text": [
      "1\n",
      "2\n",
      "3\n",
      "4\n",
      "5\n",
      "its done\n"
     ]
    }
   ],
   "source": [
    "dig = [1,2,3,4,5]\n",
    "for x in dig:\n",
    "    print(x)\n",
    "print(\"its done\")"
   ]
  },
  {
   "cell_type": "code",
   "execution_count": null,
   "metadata": {},
   "outputs": [],
   "source": [
    "dig = (1,2,3,4,5)\n",
    "for x in dig:\n",
    "    print(x)\n",
    "print(\"its done\")"
   ]
  },
  {
   "cell_type": "code",
   "execution_count": 28,
   "metadata": {},
   "outputs": [
    {
     "name": "stdout",
     "output_type": "stream",
     "text": [
      "a\n",
      "j\n",
      "a\n",
      "n\n",
      "t\n",
      "h\n",
      "a\n"
     ]
    }
   ],
   "source": [
    "name = \"ajantha\"\n",
    "for i in name:\n",
    "    print(i)"
   ]
  },
  {
   "cell_type": "code",
   "execution_count": 32,
   "metadata": {},
   "outputs": [
    {
     "name": "stdout",
     "output_type": "stream",
     "text": [
      "ae\n",
      "sr\n",
      "1\n",
      "4\n",
      "[3, 4]\n",
      "(1, 'har')\n",
      "{'a': 'apple', 'b': 'banana'}\n"
     ]
    }
   ],
   "source": [
    "dig=(\"ae\",\"sr\",1,4,[3,4],(1,\"har\"),{'a':'apple','b':'banana'})\n",
    "for i in dig:\n",
    "    print(i)"
   ]
  },
  {
   "cell_type": "code",
   "execution_count": 34,
   "metadata": {},
   "outputs": [
    {
     "name": "stdout",
     "output_type": "stream",
     "text": [
      "1\n",
      "2\n",
      "3\n",
      "4\n",
      "5\n",
      "its done\n",
      "5\n"
     ]
    }
   ],
   "source": [
    "dig = [1,2,3,4,5]\n",
    "for i in dig:\n",
    "    print(i)\n",
    "print('its done')\n",
    "print(i)"
   ]
  },
  {
   "cell_type": "code",
   "execution_count": 36,
   "metadata": {},
   "outputs": [
    {
     "name": "stdout",
     "output_type": "stream",
     "text": [
      "5\n"
     ]
    }
   ],
   "source": [
    "print(i)"
   ]
  },
  {
   "cell_type": "code",
   "execution_count": null,
   "metadata": {},
   "outputs": [],
   "source": [
    "dic={1:\"apple\",'b':\"banana\",3:\"chikko\"}\n",
    "for i in dic:\n",
    "    print(i)"
   ]
  },
  {
   "cell_type": "code",
   "execution_count": null,
   "metadata": {},
   "outputs": [],
   "source": []
  },
  {
   "cell_type": "code",
   "execution_count": null,
   "metadata": {},
   "outputs": [],
   "source": []
  },
  {
   "cell_type": "markdown",
   "metadata": {},
   "source": [
    "## Using Control Statement in `for` loops in Python\n",
    "\n",
    "Python like **`break`**, **`continue`**, etc can be used to control the execution flow of **`for`** loop in Python. Let us now understand how this can be done.\n",
    "\n",
    "It is used when you want to exit a loop or skip a part of the loop based on the given condition. It also knows as **transfer statements**."
   ]
  },
  {
   "cell_type": "markdown",
   "metadata": {},
   "source": [
    "### a) `break` in `for` loop\n",
    "\n",
    "Using the **`break`** statement, we can exit from the **`for`** loop before it has looped through all the elements in the sequence as shown below. As soon as it breaks out of the **`for`** loop, the control shifts to the immediate next line of code. For example,"
   ]
  },
  {
   "cell_type": "code",
   "execution_count": 40,
   "metadata": {},
   "outputs": [
    {
     "name": "stdout",
     "output_type": "stream",
     "text": [
      "0\n",
      "1\n",
      "2\n",
      "3\n"
     ]
    }
   ],
   "source": [
    "num = (0,1,2,3,4,5)\n",
    "for z in num:\n",
    "    print(z)\n",
    "    if z ==3:\n",
    "        break\n",
    "    "
   ]
  },
  {
   "cell_type": "code",
   "execution_count": 42,
   "metadata": {},
   "outputs": [
    {
     "name": "stdout",
     "output_type": "stream",
     "text": [
      "0\n",
      "1\n",
      "2\n"
     ]
    }
   ],
   "source": [
    "num = (0,1,2,3,4,5)\n",
    "for z in num:\n",
    "    \n",
    "    if z ==3:\n",
    "        break\n",
    "    print(z)"
   ]
  },
  {
   "cell_type": "code",
   "execution_count": 48,
   "metadata": {},
   "outputs": [
    {
     "name": "stdout",
     "output_type": "stream",
     "text": [
      "3\n"
     ]
    }
   ],
   "source": [
    "num = (0,1,2,3,4,5)\n",
    "for z in num:\n",
    "    \n",
    "    if z ==3:\n",
    "        print(z)\n",
    "        break\n",
    "    \n",
    "   "
   ]
  },
  {
   "cell_type": "code",
   "execution_count": 50,
   "metadata": {},
   "outputs": [
    {
     "name": "stdout",
     "output_type": "stream",
     "text": [
      "0\n",
      "1\n",
      "2\n",
      "3\n"
     ]
    }
   ],
   "source": [
    "num = (0,1,2,3,4,5)\n",
    "for z in num:\n",
    "    \n",
    "    if z ==3:\n",
    "        print(z)\n",
    "        break\n",
    "    print(z)"
   ]
  },
  {
   "cell_type": "code",
   "execution_count": 52,
   "metadata": {},
   "outputs": [
    {
     "name": "stdout",
     "output_type": "stream",
     "text": [
      "0\n",
      "1\n",
      "2\n",
      "3\n",
      "3\n"
     ]
    }
   ],
   "source": [
    "num = (0,1,2,3,4,5)\n",
    "for z in num:\n",
    "    print(z)\n",
    "    if z ==3:\n",
    "        print(z)\n",
    "        break\n",
    "    "
   ]
  },
  {
   "cell_type": "code",
   "execution_count": 54,
   "metadata": {},
   "outputs": [
    {
     "name": "stdout",
     "output_type": "stream",
     "text": [
      "pink\n"
     ]
    }
   ],
   "source": [
    "color = ['green','black', 'pink', 'yellow','red']\n",
    "for i in color:\n",
    "    if i ==\"pink\":\n",
    "        print(i)\n",
    "        break"
   ]
  },
  {
   "cell_type": "code",
   "execution_count": 56,
   "metadata": {},
   "outputs": [
    {
     "name": "stdout",
     "output_type": "stream",
     "text": [
      "green\n",
      "black\n",
      "pink\n"
     ]
    }
   ],
   "source": [
    "color = ['green','black', 'pink', 'yellow','red']\n",
    "for i in color:\n",
    "    print(i)\n",
    "    if i ==\"pink\":\n",
    "        break"
   ]
  },
  {
   "cell_type": "code",
   "execution_count": 58,
   "metadata": {},
   "outputs": [
    {
     "name": "stdout",
     "output_type": "stream",
     "text": [
      "pink\n"
     ]
    }
   ],
   "source": [
    "color = ['green','black', 'pink', 'yellow','red']\n",
    "for i in color:\n",
    "    if i ==\"pink\":\n",
    "        break\n",
    "print(i)"
   ]
  },
  {
   "cell_type": "code",
   "execution_count": 60,
   "metadata": {},
   "outputs": [
    {
     "name": "stdout",
     "output_type": "stream",
     "text": [
      "green\n",
      "black\n"
     ]
    }
   ],
   "source": [
    "for i in color:\n",
    "    if i ==\"pink\":\n",
    "        break\n",
    "    print(i)"
   ]
  },
  {
   "cell_type": "markdown",
   "metadata": {},
   "source": [
    "### b) `continue` in `for` loop\n",
    "\n",
    "The **`continue`** statement is used to stop/skip the block of code in the loop for the current iteration only and continue with the next iteration. For example,"
   ]
  },
  {
   "cell_type": "code",
   "execution_count": 62,
   "metadata": {},
   "outputs": [
    {
     "name": "stdout",
     "output_type": "stream",
     "text": [
      "0\n",
      "1\n",
      "2\n",
      "4\n",
      "5\n"
     ]
    }
   ],
   "source": [
    "num = (0,1,2,3,4,5)\n",
    "for z in num:\n",
    "    if z ==3:\n",
    "        continue\n",
    "    print(z)"
   ]
  },
  {
   "cell_type": "code",
   "execution_count": 64,
   "metadata": {},
   "outputs": [
    {
     "name": "stdout",
     "output_type": "stream",
     "text": [
      "0\n",
      "1\n",
      "2\n",
      "3\n",
      "4\n",
      "5\n"
     ]
    }
   ],
   "source": [
    "num = (0,1,2,3,4,5)\n",
    "for z in num:\n",
    "    print(z)\n",
    "    if z ==3:\n",
    "        continue\n",
    "    "
   ]
  },
  {
   "cell_type": "code",
   "execution_count": 66,
   "metadata": {},
   "outputs": [
    {
     "name": "stdout",
     "output_type": "stream",
     "text": [
      "green\n",
      "black\n",
      "yellow\n",
      "red\n"
     ]
    }
   ],
   "source": [
    "color = ['green','black', 'pink', 'yellow','red','pink']\n",
    "\n",
    "for i in color:\n",
    "    if i ==\"pink\":\n",
    "        continue\n",
    "    print(i)"
   ]
  },
  {
   "cell_type": "code",
   "execution_count": 76,
   "metadata": {},
   "outputs": [
    {
     "name": "stdout",
     "output_type": "stream",
     "text": [
      "green\n",
      "pink\n",
      "yellow\n",
      "red\n",
      "pink\n"
     ]
    }
   ],
   "source": [
    "for i in color:\n",
    "    if i ==(\"pink\" and \"black\") :\n",
    "        continue\n",
    "    print(i)"
   ]
  },
  {
   "cell_type": "code",
   "execution_count": 80,
   "metadata": {},
   "outputs": [
    {
     "name": "stdout",
     "output_type": "stream",
     "text": [
      "green\n",
      "black\n",
      "yellow\n",
      "red\n"
     ]
    }
   ],
   "source": [
    "for i in color:\n",
    "    if i ==(\"pink\" or \"black\") :\n",
    "        continue\n",
    "    print(i)"
   ]
  },
  {
   "cell_type": "code",
   "execution_count": 82,
   "metadata": {},
   "outputs": [],
   "source": [
    "for i in color:\n",
    "    if i ==\"pink\" or \"black\" :\n",
    "        continue\n",
    "    print(i)"
   ]
  },
  {
   "cell_type": "code",
   "execution_count": 78,
   "metadata": {},
   "outputs": [
    {
     "name": "stdout",
     "output_type": "stream",
     "text": [
      "green\n",
      "yellow\n",
      "red\n"
     ]
    }
   ],
   "source": [
    "for i in color:\n",
    "    if i in(\"pink\" , \"black\") :\n",
    "        continue\n",
    "    print(i)"
   ]
  },
  {
   "cell_type": "code",
   "execution_count": null,
   "metadata": {},
   "outputs": [],
   "source": []
  },
  {
   "cell_type": "code",
   "execution_count": null,
   "metadata": {},
   "outputs": [],
   "source": []
  },
  {
   "cell_type": "code",
   "execution_count": null,
   "metadata": {},
   "outputs": [],
   "source": []
  },
  {
   "cell_type": "markdown",
   "metadata": {},
   "source": [
    "### c) `pass` in `for` loop\n",
    "\n",
    "The **`pass`** statement is a null statement, i.e., nothing happens when the statement is executed. Primarily it is used in empty functions or classes. When the interpreter finds a pass statement in the program, it returns no operation."
   ]
  },
  {
   "cell_type": "markdown",
   "metadata": {},
   "source": [
    "## Nested `for` loops\n",
    "\n",
    "**Nested `for` loop** is a **`for`** loop inside another **`for`** a loop. \n",
    "\n",
    "\n",
    "In nested loops, the inner loop finishes all of its iteration for each iteration of the outer loop. i.e., For each iteration of the outer loop inner loop restart and completes all its iterations, then the next iteration of the outer loop begins.\n",
    "\n",
    "**Syntax:**\n",
    "\n",
    "```python\n",
    "# outer for loop\n",
    "for element in sequence \n",
    "   # inner for loop\n",
    "    for element in sequence:\n",
    "        body of inner for loop\n",
    "    body of outer for loop\n",
    "other statements\n",
    "```"
   ]
  },
  {
   "cell_type": "markdown",
   "metadata": {},
   "source": [
    "### `for` loop inside `for` loop"
   ]
  },
  {
   "cell_type": "markdown",
   "metadata": {},
   "source": [
    "#### Example: Nested `for` loop \n",
    "\n",
    "In this example, we are using a **`for`** loop inside a **`for`** loop. In this example, we are printing a multiplication table of the first ten numbers.\n",
    "\n",
    "<div>\n",
    "<img src=\"img/nforloop1.png\" width=\"600\"/>\n",
    "</div>\n",
    "\n",
    "1. The outer **`for`** loop uses the **[range()](https://github.com/milaan9/04_Python_Functions/blob/main/002_Python_Functions_Built_in/053_Python_range%28%29.ipynb)** function to iterate over the first ten numbers\n",
    "2. The inner **`for`** loop will execute ten times for each outer number\n",
    "3. In the body of the inner loop, we will print the multiplication of the outer number and current number\n",
    "4. The inner loop is nothing but a body of an outer loop."
   ]
  },
  {
   "cell_type": "code",
   "execution_count": 84,
   "metadata": {},
   "outputs": [
    {
     "name": "stdout",
     "output_type": "stream",
     "text": [
      "0 1 2 3 4 "
     ]
    }
   ],
   "source": [
    "for i in range(5):\n",
    "    print(i, end=\" \")"
   ]
  },
  {
   "cell_type": "code",
   "execution_count": 86,
   "metadata": {},
   "outputs": [
    {
     "name": "stdout",
     "output_type": "stream",
     "text": [
      "1 2 3 4 5 6 7 8 9 10 \n",
      "2 4 6 8 10 12 14 16 18 20 \n",
      "3 6 9 12 15 18 21 24 27 30 \n",
      "4 8 12 16 20 24 28 32 36 40 \n",
      "5 10 15 20 25 30 35 40 45 50 \n"
     ]
    }
   ],
   "source": [
    "for i in range(1,6):\n",
    "    for j in range(1,11): # 1 * 1\n",
    "        print(i*j, end = \" \")\n",
    "    print()"
   ]
  },
  {
   "cell_type": "code",
   "execution_count": null,
   "metadata": {},
   "outputs": [],
   "source": []
  },
  {
   "cell_type": "code",
   "execution_count": 88,
   "metadata": {},
   "outputs": [],
   "source": [
    "person = {\"fir\":\"Ajantha\",\n",
    "         \"las\":\"Devi\",\n",
    "         \"Skill\":[\"pyt\", \"aI\",\"ML\",\"DL\", \"TL\"],\n",
    "        \"address\":{\"str\":\"1st road\", \n",
    "                   \"city\":\"Chennai\"}}"
   ]
  },
  {
   "cell_type": "code",
   "execution_count": 92,
   "metadata": {},
   "outputs": [
    {
     "name": "stdout",
     "output_type": "stream",
     "text": [
      "pyt\n",
      "aI\n",
      "ML\n",
      "DL\n",
      "TL\n"
     ]
    }
   ],
   "source": [
    "for key in person:\n",
    "    if key==\"Skill\":\n",
    "        for i in person[\"Skill\"]:\n",
    "            print(i)"
   ]
  },
  {
   "cell_type": "code",
   "execution_count": null,
   "metadata": {},
   "outputs": [],
   "source": [
    "per={\"name\":\"raj\",\"lasname\":\"kumar\",\"skill\":[\"pty\",\"c\"],\"add\":{\"str\":\"london\",\"dis\":\"krish\"}}\n",
    "for i in per:\n",
    "  if i==\"skill\":\n",
    "    for i in per[\"skill\"]:\n",
    "      print(i,end=\" \")"
   ]
  },
  {
   "cell_type": "code",
   "execution_count": null,
   "metadata": {},
   "outputs": [],
   "source": []
  },
  {
   "cell_type": "code",
   "execution_count": 94,
   "metadata": {},
   "outputs": [
    {
     "name": "stdout",
     "output_type": "stream",
     "text": [
      "red flower\n",
      "red box\n",
      "black flower\n",
      "black box\n"
     ]
    }
   ],
   "source": [
    "color = ['red','black']\n",
    "obj = ['flower', 'box']\n",
    "\n",
    "\n",
    "for i in color:\n",
    "    for j in obj:\n",
    "        print(i, j)"
   ]
  },
  {
   "cell_type": "code",
   "execution_count": 108,
   "metadata": {},
   "outputs": [
    {
     "name": "stdout",
     "output_type": "stream",
     "text": [
      "17\n",
      "19\n",
      "23\n",
      "29\n",
      "31\n",
      "37\n",
      "41\n",
      "43\n",
      "47\n",
      "53\n"
     ]
    }
   ],
   "source": [
    "\n",
    "for i in range(17,54):\n",
    "    c=0\n",
    "    for j in range(2,i):\n",
    "        if(i%j==0):\n",
    "            c=c+1\n",
    "            break;\n",
    "    if(c==0):\n",
    "        print(i)\n",
    "            "
   ]
  },
  {
   "cell_type": "code",
   "execution_count": 110,
   "metadata": {},
   "outputs": [
    {
     "name": "stdout",
     "output_type": "stream",
     "text": [
      "17\n",
      "19\n",
      "23\n",
      "29\n",
      "31\n",
      "37\n",
      "41\n",
      "43\n",
      "47\n",
      "53\n"
     ]
    }
   ],
   "source": [
    "for i in range(17,54):\n",
    "    for j in range(2,i):\n",
    "        if i%j==0:\n",
    "            break\n",
    "    else:\n",
    "        print(i)\n",
    "    "
   ]
  },
  {
   "cell_type": "code",
   "execution_count": 118,
   "metadata": {},
   "outputs": [
    {
     "name": "stdout",
     "output_type": "stream",
     "text": [
      "17\n",
      "18\n",
      "19\n",
      "20\n",
      "21\n",
      "22\n",
      "23\n",
      "24\n",
      "25\n",
      "26\n",
      "27\n",
      "28\n",
      "29\n",
      "30\n",
      "31\n",
      "32\n",
      "33\n",
      "34\n",
      "35\n",
      "36\n",
      "37\n",
      "38\n",
      "39\n",
      "40\n",
      "41\n",
      "42\n",
      "43\n",
      "44\n",
      "45\n",
      "46\n",
      "47\n",
      "48\n",
      "49\n",
      "50\n",
      "51\n",
      "52\n",
      "53\n"
     ]
    }
   ],
   "source": [
    "#Prime Numer\n",
    "for i in range(17,54):\n",
    "    #print (i)\n",
    "    for j in range(2,i):\n",
    "        if i%j==0:\n",
    "            break\n",
    "    print(i)\n",
    "        "
   ]
  },
  {
   "cell_type": "code",
   "execution_count": 116,
   "metadata": {},
   "outputs": [
    {
     "name": "stdout",
     "output_type": "stream",
     "text": [
      "0\n",
      "1\n",
      "2\n",
      "3\n",
      "5\n",
      "7\n",
      "11\n",
      "13\n",
      "17\n",
      "19\n",
      "23\n",
      "29\n",
      "31\n",
      "37\n",
      "41\n",
      "43\n",
      "47\n",
      "53\n",
      "59\n",
      "61\n",
      "67\n",
      "71\n",
      "73\n",
      "79\n",
      "83\n",
      "89\n",
      "97\n"
     ]
    }
   ],
   "source": [
    "for i in range(0,100):\n",
    "    for j in range(2,i):\n",
    "        if i%j==0:\n",
    "            break\n",
    "    else:\n",
    "        print(i)"
   ]
  },
  {
   "cell_type": "code",
   "execution_count": 1,
   "metadata": {},
   "outputs": [
    {
     "name": "stdout",
     "output_type": "stream",
     "text": [
      "0\n",
      "1\n",
      "2\n",
      "3\n",
      "4\n",
      "5\n"
     ]
    }
   ],
   "source": [
    " x = range(6)\n",
    "for n in x:\n",
    "    print(n)"
   ]
  },
  {
   "cell_type": "code",
   "execution_count": 3,
   "metadata": {},
   "outputs": [
    {
     "name": "stdout",
     "output_type": "stream",
     "text": [
      "2\n",
      "3\n",
      "4\n",
      "5\n",
      "6\n",
      "7\n",
      "8\n",
      "9\n"
     ]
    }
   ],
   "source": [
    "x = range(2,10)\n",
    "for n in x:\n",
    "    print(n)"
   ]
  },
  {
   "cell_type": "code",
   "execution_count": null,
   "metadata": {},
   "outputs": [],
   "source": []
  },
  {
   "cell_type": "code",
   "execution_count": 9,
   "metadata": {},
   "outputs": [
    {
     "name": "stdout",
     "output_type": "stream",
     "text": [
      "40\n",
      "30\n",
      "20\n",
      "10\n"
     ]
    }
   ],
   "source": [
    "lis = [10,20,30,40]\n",
    "for n in reversed(lis): # built in function reversed()\n",
    "    print(n)"
   ]
  },
  {
   "cell_type": "code",
   "execution_count": 13,
   "metadata": {},
   "outputs": [
    {
     "name": "stdout",
     "output_type": "stream",
     "text": [
      "5\n",
      "4\n",
      "3\n",
      "2\n",
      "1\n",
      "0\n"
     ]
    }
   ],
   "source": [
    "for n in range(5,-1,-1): # start => 5, stop = -1, step = -1\n",
    "    print(n)"
   ]
  },
  {
   "cell_type": "code",
   "execution_count": null,
   "metadata": {},
   "outputs": [],
   "source": []
  }
 ],
 "metadata": {
  "hide_input": false,
  "kernelspec": {
   "display_name": "Python [conda env:base] *",
   "language": "python",
   "name": "conda-base-py"
  },
  "language_info": {
   "codemirror_mode": {
    "name": "ipython",
    "version": 3
   },
   "file_extension": ".py",
   "mimetype": "text/x-python",
   "name": "python",
   "nbconvert_exporter": "python",
   "pygments_lexer": "ipython3",
   "version": "3.12.4"
  },
  "toc": {
   "base_numbering": 1,
   "nav_menu": {},
   "number_sections": true,
   "sideBar": true,
   "skip_h1_title": false,
   "title_cell": "Table of Contents",
   "title_sidebar": "Contents",
   "toc_cell": false,
   "toc_position": {},
   "toc_section_display": true,
   "toc_window_display": false
  },
  "varInspector": {
   "cols": {
    "lenName": 16,
    "lenType": 16,
    "lenVar": 40
   },
   "kernels_config": {
    "python": {
     "delete_cmd_postfix": "",
     "delete_cmd_prefix": "del ",
     "library": "var_list.py",
     "varRefreshCmd": "print(var_dic_list())"
    },
    "r": {
     "delete_cmd_postfix": ") ",
     "delete_cmd_prefix": "rm(",
     "library": "var_list.r",
     "varRefreshCmd": "cat(var_dic_list()) "
    }
   },
   "types_to_exclude": [
    "module",
    "function",
    "builtin_function_or_method",
    "instance",
    "_Feature"
   ],
   "window_display": false
  }
 },
 "nbformat": 4,
 "nbformat_minor": 4
}
