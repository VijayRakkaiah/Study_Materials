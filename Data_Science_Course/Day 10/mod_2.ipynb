{
 "cells": [
  {
   "cell_type": "code",
   "execution_count": 1,
   "id": "88f70eb1-227c-463c-8f2b-abe95e59ee7a",
   "metadata": {},
   "outputs": [
    {
     "name": "stdout",
     "output_type": "stream",
     "text": [
      "['ford', 'bmw', 'kia', 'benz']\n"
     ]
    }
   ],
   "source": [
    "cars = [\"honda\",\"toyota\", \"ford\", \"bmw\", \"Royals\",\"kia\",\"benz\"]\n",
    "short_cars = []\n",
    "for i in cars:\n",
    "    if len(i) <=4:\n",
    "        short_cars.append(i)\n",
    "\n",
    "\n",
    "print(short_cars)"
   ]
  },
  {
   "cell_type": "code",
   "execution_count": 5,
   "id": "2c21c28c-f53a-440f-8ee9-c8a00df1afd8",
   "metadata": {},
   "outputs": [
    {
     "name": "stdout",
     "output_type": "stream",
     "text": [
      "['ford', 'bmw', 'kia', 'benz']\n"
     ]
    }
   ],
   "source": [
    "short_cars_1 = [i for i in cars  if len(i) <=4]\n",
    "print(short_cars_1)"
   ]
  },
  {
   "cell_type": "code",
   "execution_count": 7,
   "id": "0b0744db-f5a6-4db2-99c7-c442907d79b2",
   "metadata": {},
   "outputs": [],
   "source": [
    "import pickle"
   ]
  },
  {
   "cell_type": "code",
   "execution_count": 9,
   "id": "d4948534-986f-4d7f-a2a5-4ae94d5ac5da",
   "metadata": {},
   "outputs": [],
   "source": [
    "my_data = [\"honda\",\"toyota\", \"ford\", \"bmw\", \"Royals\",\"kia\",\"benz\"]\n",
    "\n",
    "# pickling\n",
    "with open (\"demo.pickle\",'wb')as file_handle:\n",
    "    pickle.dump(my_data,file_handle, pickle.HIGHEST_PROTOCOL)"
   ]
  },
  {
   "cell_type": "code",
   "execution_count": 11,
   "id": "6e550ce2-fef7-4b7f-8d85-b66e0e589794",
   "metadata": {},
   "outputs": [
    {
     "name": "stdout",
     "output_type": "stream",
     "text": [
      "['honda', 'toyota', 'ford', 'bmw', 'Royals', 'kia', 'benz']\n"
     ]
    }
   ],
   "source": [
    "# unpickling\n",
    "\n",
    "with open (\"demo.pickle\", \"rb\")as file_hand:\n",
    "    resu_data = pickle.load(file_hand)\n",
    "    print(resu_data)"
   ]
  },
  {
   "cell_type": "code",
   "execution_count": 13,
   "id": "b0bcdc45-429a-4bda-ac65-0beab7dbc85c",
   "metadata": {},
   "outputs": [],
   "source": [
    "class sap():\n",
    "    def set_sap(self,name,area):\n",
    "        self.sapname=name\n",
    "        self.saparea=area\n",
    "    def dis_sap(self):\n",
    "        print(\"shape\",self.sapname)\n",
    "        print(\"area\",self.saparea)\n",
    "class circle(sap):\n",
    "    def set_cir(self,rad):\n",
    "        self.rad=rad\n",
    "    def dis_cir(self):\n",
    "        print(\"cir rad\",self.rad)\n",
    "class square(circle):\n",
    "    def set_sqr(self,side):\n",
    "        self.side=side\n",
    "    def dis_sqr(self):\n",
    "        print(\"sqr size\",self.side)\n"
   ]
  },
  {
   "cell_type": "code",
   "execution_count": 15,
   "id": "9e03949a-a71c-4347-876f-6cc0717d45e8",
   "metadata": {},
   "outputs": [],
   "source": [
    "c1 = circle()"
   ]
  },
  {
   "cell_type": "code",
   "execution_count": 17,
   "id": "3b5d4edf-c8b8-4205-bd76-0c93e963ae6f",
   "metadata": {},
   "outputs": [],
   "source": [
    "s1=square()"
   ]
  },
  {
   "cell_type": "code",
   "execution_count": null,
   "id": "a086a0f0-83d3-4089-9416-7a32c9380dda",
   "metadata": {},
   "outputs": [],
   "source": [
    "s1."
   ]
  }
 ],
 "metadata": {
  "kernelspec": {
   "display_name": "Python [conda env:base] *",
   "language": "python",
   "name": "conda-base-py"
  },
  "language_info": {
   "codemirror_mode": {
    "name": "ipython",
    "version": 3
   },
   "file_extension": ".py",
   "mimetype": "text/x-python",
   "name": "python",
   "nbconvert_exporter": "python",
   "pygments_lexer": "ipython3",
   "version": "3.12.4"
  }
 },
 "nbformat": 4,
 "nbformat_minor": 5
}
